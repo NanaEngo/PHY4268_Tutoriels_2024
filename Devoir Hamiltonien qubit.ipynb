{
 "cells": [
  {
   "cell_type": "code",
   "execution_count": 5,
   "id": "14683200",
   "metadata": {},
   "outputs": [
    {
     "data": {
      "text/plain": [
       "'0.7.2'"
      ]
     },
     "execution_count": 5,
     "metadata": {},
     "output_type": "execute_result"
    }
   ],
   "source": [
    "try:\n",
    "    import qiskit_nature\n",
    "except:\n",
    "    %pip install qiskit-nature[pyscf] -U\n",
    "    import qiskit_nature\n",
    "    \n",
    "qiskit_nature.__version__"
   ]
  },
  {
   "cell_type": "code",
   "execution_count": 6,
   "id": "4f2c6b67",
   "metadata": {},
   "outputs": [],
   "source": [
    "from qiskit_nature.second_q.drivers import PySCFDriver\n",
    "from qiskit_nature.units import DistanceUnit\n",
    "\n",
    "driver = PySCFDriver(\n",
    "    atom=\"\"\"C      1.1291      0.0795     -0.5259\n",
    "  C      0.7115     -1.2207     -0.4748\n",
    "  H      2.0789      0.4171     -0.9381\n",
    "  H      1.2719     -2.0822     -0.8377\n",
    "  S     -0.0500      1.1306      0.1514\n",
    "  N     -1.1147     -0.1822      0.5074\n",
    "  C     -0.5926     -1.3347      0.1299\n",
    "  H     -1.1422     -2.2662      0.2851\"\"\", #Coordonnées xyz de la molecule 1,2-Thiazole atom\n",
    "    basis='STO-3G', # Ensemble de base\n",
    "    charge=0,\n",
    "    spin=0,\n",
    "    unit=DistanceUnit.ANGSTROM,\n",
    ")\n",
    "# Obtenir l'Electronic structure problem\n",
    "problem = driver.run()"
   ]
  },
  {
   "cell_type": "code",
   "execution_count": 7,
   "id": "e084dec1",
   "metadata": {},
   "outputs": [
    {
     "data": {
      "text/plain": [
       "'2.1.0'"
      ]
     },
     "execution_count": 7,
     "metadata": {},
     "output_type": "execute_result"
    }
   ],
   "source": [
    "# For 3D plotting\n",
    "try :\n",
    "    import py3Dmol\n",
    "except:\n",
    "    %pip install py3Dmol\n",
    "    import py3Dmol\n",
    "py3Dmol.__version__"
   ]
  },
  {
   "cell_type": "code",
   "execution_count": 8,
   "id": "459676d7",
   "metadata": {},
   "outputs": [
    {
     "data": {
      "application/3dmoljs_load.v0": "<div id=\"3dmolviewer_171525306134386\"  style=\"position: relative; width: 300px; height: 300px;\">\n        <p id=\"3dmolwarning_171525306134386\" style=\"background-color:#ffcccc;color:black\">3Dmol.js failed to load for some reason.  Please check your browser console for error messages.<br></p>\n        </div>\n<script>\n\nvar loadScriptAsync = function(uri){\n  return new Promise((resolve, reject) => {\n    //this is to ignore the existence of requirejs amd\n    var savedexports, savedmodule;\n    if (typeof exports !== 'undefined') savedexports = exports;\n    else exports = {}\n    if (typeof module !== 'undefined') savedmodule = module;\n    else module = {}\n\n    var tag = document.createElement('script');\n    tag.src = uri;\n    tag.async = true;\n    tag.onload = () => {\n        exports = savedexports;\n        module = savedmodule;\n        resolve();\n    };\n  var firstScriptTag = document.getElementsByTagName('script')[0];\n  firstScriptTag.parentNode.insertBefore(tag, firstScriptTag);\n});\n};\n\nif(typeof $3Dmolpromise === 'undefined') {\n$3Dmolpromise = null;\n  $3Dmolpromise = loadScriptAsync('https://cdnjs.cloudflare.com/ajax/libs/3Dmol/2.1.0/3Dmol-min.js');\n}\n\nvar viewer_171525306134386 = null;\nvar warn = document.getElementById(\"3dmolwarning_171525306134386\");\nif(warn) {\n    warn.parentNode.removeChild(warn);\n}\n$3Dmolpromise.then(function() {\nviewer_171525306134386 = $3Dmol.createViewer(document.getElementById(\"3dmolviewer_171525306134386\"),{backgroundColor:\"white\"});\nviewer_171525306134386.zoomTo();\n\tviewer_171525306134386.addModel(\"8\\nXYZ from PySCF\\nC           1.12910        0.07950       -0.52590\\nC           0.71150       -1.22070       -0.47480\\nH           2.07890        0.41710       -0.93810\\nH           1.27190       -2.08220       -0.83770\\nS          -0.05000        1.13060        0.15140\\nN          -1.11470       -0.18220        0.50740\\nC          -0.59260       -1.33470        0.12990\\nH          -1.14220       -2.26620        0.28510\",\"xyz\");\n\tviewer_171525306134386.setStyle({\"stick\": {}, \"sphere\": {\"scale\": 0.3}});\n\tviewer_171525306134386.zoomTo();\nviewer_171525306134386.render();\n});\n</script>",
      "text/html": [
       "<div id=\"3dmolviewer_171525306134386\"  style=\"position: relative; width: 300px; height: 300px;\">\n",
       "        <p id=\"3dmolwarning_171525306134386\" style=\"background-color:#ffcccc;color:black\">3Dmol.js failed to load for some reason.  Please check your browser console for error messages.<br></p>\n",
       "        </div>\n",
       "<script>\n",
       "\n",
       "var loadScriptAsync = function(uri){\n",
       "  return new Promise((resolve, reject) => {\n",
       "    //this is to ignore the existence of requirejs amd\n",
       "    var savedexports, savedmodule;\n",
       "    if (typeof exports !== 'undefined') savedexports = exports;\n",
       "    else exports = {}\n",
       "    if (typeof module !== 'undefined') savedmodule = module;\n",
       "    else module = {}\n",
       "\n",
       "    var tag = document.createElement('script');\n",
       "    tag.src = uri;\n",
       "    tag.async = true;\n",
       "    tag.onload = () => {\n",
       "        exports = savedexports;\n",
       "        module = savedmodule;\n",
       "        resolve();\n",
       "    };\n",
       "  var firstScriptTag = document.getElementsByTagName('script')[0];\n",
       "  firstScriptTag.parentNode.insertBefore(tag, firstScriptTag);\n",
       "});\n",
       "};\n",
       "\n",
       "if(typeof $3Dmolpromise === 'undefined') {\n",
       "$3Dmolpromise = null;\n",
       "  $3Dmolpromise = loadScriptAsync('https://cdnjs.cloudflare.com/ajax/libs/3Dmol/2.1.0/3Dmol-min.js');\n",
       "}\n",
       "\n",
       "var viewer_171525306134386 = null;\n",
       "var warn = document.getElementById(\"3dmolwarning_171525306134386\");\n",
       "if(warn) {\n",
       "    warn.parentNode.removeChild(warn);\n",
       "}\n",
       "$3Dmolpromise.then(function() {\n",
       "viewer_171525306134386 = $3Dmol.createViewer(document.getElementById(\"3dmolviewer_171525306134386\"),{backgroundColor:\"white\"});\n",
       "viewer_171525306134386.zoomTo();\n",
       "\tviewer_171525306134386.addModel(\"8\\nXYZ from PySCF\\nC           1.12910        0.07950       -0.52590\\nC           0.71150       -1.22070       -0.47480\\nH           2.07890        0.41710       -0.93810\\nH           1.27190       -2.08220       -0.83770\\nS          -0.05000        1.13060        0.15140\\nN          -1.11470       -0.18220        0.50740\\nC          -0.59260       -1.33470        0.12990\\nH          -1.14220       -2.26620        0.28510\",\"xyz\");\n",
       "\tviewer_171525306134386.setStyle({\"stick\": {}, \"sphere\": {\"scale\": 0.3}});\n",
       "\tviewer_171525306134386.zoomTo();\n",
       "viewer_171525306134386.render();\n",
       "});\n",
       "</script>"
      ]
     },
     "metadata": {},
     "output_type": "display_data"
    }
   ],
   "source": [
    "\"\"\"_3D representation with py3Dmol\n",
    "\"\"\"\n",
    "# Create a py3Dmol.view object\n",
    "xyz_view = py3Dmol.view(width=300, height=300)\n",
    "\n",
    "# Add the molecule model to the view\n",
    "xyz_view.addModel(driver._mol.build().tostring(format=\"xyz\"),'xyz')\n",
    "\n",
    "# Set the style of representation\n",
    "xyz_view.setStyle({'stick': {}, 'sphere': {'scale': 0.30}})\n",
    "\n",
    "# Zoom to fit the molecule in the view\n",
    "xyz_view.zoomTo()\n",
    "\n",
    "# Show the molecule view\n",
    "xyz_view.show()"
   ]
  },
  {
   "cell_type": "markdown",
   "id": "f4edae99",
   "metadata": {},
   "source": [
    "* Extraction de quelques propriétés"
   ]
  },
  {
   "cell_type": "code",
   "execution_count": 9,
   "id": "08506c04",
   "metadata": {},
   "outputs": [
    {
     "name": "stdout",
     "output_type": "stream",
     "text": [
      "Molecule, basis: STO-3G, Hartree-Fock calculation\n",
      "Number of alpha electrons: 22\n",
      "Number of beta electrons: 22\n",
      "Number of spin orbitals: 64\n",
      "Spin orbitals occupation: [1. 1. 1. 1. 1. 1. 1. 1. 1. 1. 1. 1. 1. 1. 1. 1. 1. 1. 1. 1. 1. 1. 0. 0.\n",
      " 0. 0. 0. 0. 0. 0. 0. 0.]\n",
      "Spin orbitals energies: [-90.84544727 -15.32141747 -11.06407434 -11.04110113 -11.02753474\n",
      "  -8.73707496  -6.36878764  -6.36729122  -6.3646857   -1.19448958\n",
      "  -0.98941296  -0.92735272  -0.72288664  -0.69941879  -0.63361482\n",
      "  -0.51551986  -0.48793488  -0.48191303  -0.40782084  -0.34186567\n",
      "  -0.30009975  -0.27940707   0.23917557   0.37822271   0.38660052\n",
      "   0.50039675   0.61283911   0.69130018   0.76619362   0.824971\n",
      "   0.90816777   1.04637883]\n",
      "Molecule reference (HF) total energy: -560.8391624792075 Ha\n",
      "Molecule nuclear repulsion energy: 203.5391249740159 Ha\n"
     ]
    }
   ],
   "source": [
    "print(f\"Molecule, basis: {driver.basis}, Hartree-Fock calculation\")\n",
    "print(f\"Number of alpha electrons: {problem.num_alpha}\")\n",
    "print(f\"Number of beta electrons: {problem.num_beta}\")\n",
    "print(f\"Number of spin orbitals: {problem.num_spin_orbitals}\")\n",
    "print(f\"Spin orbitals occupation: {problem.orbital_occupations}\")\n",
    "print(f\"Spin orbitals energies: {problem.orbital_energies}\")\n",
    "print(f\"Molecule reference (HF) total energy: {problem.reference_energy} Ha\")\n",
    "print(f\"Molecule nuclear repulsion energy: {problem.nuclear_repulsion_energy} Ha\")\n"
   ]
  },
  {
   "cell_type": "markdown",
   "id": "787b874b",
   "metadata": {},
   "source": [
    "* Hamiltonien fermionique"
   ]
  },
  {
   "cell_type": "code",
   "execution_count": 10,
   "id": "0ace61b7",
   "metadata": {},
   "outputs": [
    {
     "name": "stdout",
     "output_type": "stream",
     "text": [
      "Fermionic Operator\n",
      "number spin orbitals=64, number terms=3684300\n",
      "  -133.51097155013863 * ( +_0 -_0 )\n",
      "+ 0.0006518955430021782 * ( +_0 -_1 )\n",
      "+ 3.143923286831132e-05 * ( +_0 -_2 )\n",
      "+ 0.0003590764958962794 * ( +_0 -_3 )\n",
      "+ 8.276538113043177e-06 * ( +_0 -_4 )\n",
      "+ 2.056434343572256 * ( +_0 -_5 )\n",
      "+ 0.005492885107783637 * ( +_0 -_6 )\n",
      "+ 0.08004838450213898 * ( +_0 -_7 )\n",
      "+ -8.042499926791065e-07 * ( +_0 -_8 )\n",
      "+ -0.16826237800185367 * ( +_0 -_9 )\n",
      "+ -0.10458188908530666 * ( +_0 -_10 )\n",
      "+ -0.3056119321681269 * ( +_0 -_11 )\n",
      "+ -0.2259548499082157 * ( +_0 -_12 )\n",
      "+ -0.06324853439300895 * ( +_0 -_13 )\n",
      "+ -0.08231816849527171 * ( +_0 -_14 )\n",
      "+ 0.018875174714333743 * ( +_0 -_15 )\n",
      "+ 0.05731060628178204 * ( +_0 -_16 )\n",
      "+ 6.967527943475443e-05 * ( +_0 -_17 )\n",
      "+ -0.1810071083020851 * ( +_0 -_18 )\n",
      "+ -0.012208666668354446 * ( +_0 -_19 )\n",
      "...\n"
     ]
    }
   ],
   "source": [
    "hamiltonian = problem.hamiltonian # Hamiltonien en 1ere quantification\n",
    "fermionic_op = hamiltonian.second_q_op() # Hamiltonien fermionique\n",
    "if len(fermionic_op) <= 20:\n",
    "    print(fermionic_op)\n",
    "else: # print the first 20 terms of the fermionic Hamiltonian operator of the molecule\n",
    "    print(\"\\n\".join(str(fermionic_op).splitlines()[:22] + [\"...\"]))"
   ]
  },
  {
   "cell_type": "markdown",
   "id": "a8ebf0a3",
   "metadata": {},
   "source": [
    "* Hamiltonien qubit avec la réduction $\\mathbb{Z}_2$"
   ]
  },
  {
   "cell_type": "code",
   "execution_count": null,
   "id": "2fbd69c0",
   "metadata": {},
   "outputs": [],
   "source": [
    "from qiskit_nature.second_q.mappers import JordanWignerMapper, ParityMapper, BravyiKitaevMapper\n",
    "from qiskit_nature.second_q.mappers import TaperedQubitMapper\n",
    "\n",
    "mapper = ParityMapper(num_particles=problem.num_particles)\n",
    "# mapper = BravyiKitaevMapper()\n",
    "mapper = problem.get_tapered_mapper(mapper)"
   ]
  },
  {
   "cell_type": "code",
   "execution_count": null,
   "id": "0139930d",
   "metadata": {},
   "outputs": [],
   "source": [
    "Hamil_z2qubit = mapper.map(Hamil_fermionic_op)\n",
    "\n",
    "print(f\"Number of items in the {k} Z2 Pauli list:\", len(Hamil_z2qubit))\n",
    "if len(Hamil_z2qubit) <= 10:\n",
    "    print(Hamil_z2qubit)\n",
    "else:\n",
    "    print(Hamil_z2qubit[0:10])"
   ]
  },
  {
   "cell_type": "markdown",
   "id": "7541c2f3",
   "metadata": {},
   "source": [
    "* Circuit de l'état initial"
   ]
  },
  {
   "cell_type": "code",
   "execution_count": null,
   "id": "4e688e12",
   "metadata": {},
   "outputs": [],
   "source": [
    "from qiskit_nature.second_q.circuit.library import HartreeFock\n",
    "\n",
    "hf_state = HartreeFock(problem.num_spatial_orbitals, problem.num_particles, mapper)\n",
    "hf_state.draw('mpl',initial_state=True)"
   ]
  }
 ],
 "metadata": {
  "kernelspec": {
   "display_name": "qiskit-env",
   "language": "python",
   "name": "qiskit-env"
  },
  "language_info": {
   "codemirror_mode": {
    "name": "ipython",
    "version": 3
   },
   "file_extension": ".py",
   "mimetype": "text/x-python",
   "name": "python",
   "nbconvert_exporter": "python",
   "pygments_lexer": "ipython3",
   "version": "3.10.14"
  }
 },
 "nbformat": 4,
 "nbformat_minor": 5
}
