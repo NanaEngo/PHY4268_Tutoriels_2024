{
 "cells": [
  {
   "cell_type": "markdown",
   "id": "174c7f9d-f3ee-44d3-be8a-b6dd9f6c081e",
   "metadata": {},
   "source": [
    "# UE 4268 - Informatique Quantique Project 2\n",
    "\n",
    "Department of Physics - Faculty of Science - University of Yaoundé I\n",
    "\n",
    "Proposé par Nana Engo\n",
    "\n",
    "`Avril 2024`"
   ]
  },
  {
   "cell_type": "markdown",
   "id": "034d0393-2bf3-4911-90cc-efa495148242",
   "metadata": {},
   "source": [
    "## Introduction au calcul quantique appliqué à la chimie quantique\n",
    "\n",
    "Le but de ce projet est de permettre, à l'étudiant, d'avoir une vue panoramique du **calcul quantique appliquée à la chimie quantique**.\n",
    "\n",
    "Les questions devraient permettre à l'étudiant de réfléchir aux principes fondamentaux, aux méthodes et aux applications du calcul quantique en chimie quantique, tout en lui permettant d'avoir une vue panoramique du sujet.\n",
    "\n",
    "Il illustrera autant que possible son rapport et utilisera le langage LaTeX et enverra sur la plate-forme **Google Classroom** fichier pdf. Il peut aussi utiliser le langage Markdown dans un notebook et convertir le fichier par la suite en pdf, via LaTeX.\n",
    "\n",
    "\n",
    "1. Expliquer brièvement ce qu'est le calcul quantique et comment il diffère du calcul classique.\n",
    "\n",
    "2. Quels sont les principes fondamentaux de la chimie quantique et comment le calcul quantique est-il utilisé pour résoudre les équations de Schrödinger ? \n",
    "\n",
    "4. Qu'est-ce qu'une fonction d'état et comment est-elle utilisée pour décrire les systèmes quantiques en chimie quantique ?\n",
    "\n",
    "5. Qu'est-ce qu'un Hamiltonien en chimie quantique et comment est-il utilisé pour calculer les énergies et les propriétés des systèmes chimiques ?\n",
    "\n",
    "6. Quelles sont les méthodes de calcul quantique les plus couramment utilisées en chimie quantique et quels sont leurs avantages et leurs limites ?\n",
    "\n",
    "7. Expliquer le concept de la densité électronique et comment elle est utilisée pour calculer les propriétés moléculaires.\n",
    "\n",
    "8. Qu'est-ce que la théorie des fonctionnelles de la densité (DFT) et comment est-elle utilisée pour calculer les propriétés chimiques?\n",
    "\n",
    "9. Quelles sont les contraintes majeurs des méthodes *ab initio* et de la DFT?\n",
    "\n",
    "2. Expliquer, à partir d'un schéma illustrant l'algorithme de **Variationnal Quantum  Eigensolver** ou **VQE**, comment un **algorithme Hybride Classique-Quantique**, dand le contexte de la chimie quantique ou de la modélisation moléculaire, utilise la méthode variationnelle et deux processeurs, **classique et quantique**, pour déterminer l'énergie la plus basse associée à la valeur propre de l'état fondamental ou des états excités.\n",
    "\n",
    "9. Quels sont les défis et les limites du calcul quantique appliqué à la chimie quantique, et quelles sont les perspectives dans ce domaine ?\n",
    "\n",
    "\n",
    "\n"
   ]
  }
 ],
 "metadata": {
  "kernelspec": {
   "display_name": "qiskit-env",
   "language": "python",
   "name": "qiskit-env"
  },
  "language_info": {
   "codemirror_mode": {
    "name": "ipython",
    "version": 3
   },
   "file_extension": ".py",
   "mimetype": "text/x-python",
   "name": "python",
   "nbconvert_exporter": "python",
   "pygments_lexer": "ipython3",
   "version": "3.10.14"
  },
  "widgets": {
   "application/vnd.jupyter.widget-state+json": {
    "state": {},
    "version_major": 2,
    "version_minor": 0
   }
  }
 },
 "nbformat": 4,
 "nbformat_minor": 5
}
