{
 "cells": [
  {
   "cell_type": "markdown",
   "metadata": {},
   "source": [
    "# PHY4268 Tutorial 2 - Qiskit Qubit Hamiltonian\n",
    "\n",
    "1. **S. G. Nana Engo**, serge.nana-engo@facsciences-uy1.cm\n",
    "    * Department of Physics, Faculty of Science, University of Yaounde I\n",
    "2. **J-P. Tchapet Njafa**, jean-pierre.tchapet-njafa@univ-maroua.cm\n",
    "    * Department of Physics, Faculty of Science, University of Maroua\n",
    "       \n",
    "May 2024"
   ]
  },
  {
   "cell_type": "markdown",
   "metadata": {},
   "source": [
    "$\n",
    "\\newcommand{\\HH}{\\mathtt{H}}  \n",
    "\\newcommand{\\ad}{a^\\dagger}  \n",
    "\\newcommand{\\kb}[2]{|#1\\rangle\\langle#2|} \n",
    "\\newcommand{\\proj}[1]{|#1\\rangle\\langle#1|}\n",
    "\\newcommand{\\bk}[2]{\\langle#1|#2\\rangle}\n",
    "\\newcommand{\\ket}[1]{|#1\\rangle}\n",
    "$"
   ]
  },
  {
   "cell_type": "markdown",
   "metadata": {},
   "source": [
    "L'objectif de ce **tutoriel 2** est de présenter brièvement comment on établi une correspondance entre les opérateurs d'échelle fermioniques (Hamiltonien en seconde quantification ou Hanmiltonien fermionique)et les opérateurs de Pauli (Hamiltonien Qubit), à travers les transformations de Jordan-Wigner (JWT), de parité (PT) ou de Bravyi-Kitaev (BKT) (voir les parties marquées en rouge sur la Figure 1 présentant la VQE). De façon spécifique, à la fin de ce tutoriel, l'apprenant doit\n",
    "* avoir compris le principe de l'encodage d'un problème de structure électronique en seconde quantification sur un calculateur quantique;\n",
    "* être capable d'utiliser le framework qiskit-nature\n",
    "    * obtenir l'Hamiltonien en 1ère quantification (avec PySCFDriver);\n",
    "    * transformer celui-ci en Hamiltonien en seconde quantification (ou Hamiltonien fermionique);\n",
    "    * transformer un Hamiltonien fermionique en Hamiltonien Qubit."
   ]
  },
  {
   "cell_type": "markdown",
   "metadata": {},
   "source": [
    "## Qiskit-nature\n",
    "\n",
    "Ce tutoriel utilise essentiellement le package Qiskit Nature dont la conception abstraite est donnée par la figure ci-dessous.\n",
    "\n",
    "![Qiskit_Nature_overview](Graphics/Qiskit_Nature_overview.png)\n",
    "\n",
    "Le package se divise en deux concepts avec chacun trois piliers chacun :\n",
    "\n",
    "* les `problems`,  qui sont des représentations de problèmes scientifiques auxquels on cherche une solution;\n",
    "    * _Electronic Structure Problem_ représentant le problème de l'équation de Schrödinger électronique des systèmes moléculaires;\n",
    "\n",
    "    * _Vibrational Structure Problem_ représentant le problème posé par l'Hamiltonien de Watson des systèmes moléculaires;\n",
    "\n",
    "    * _Lattice Model Problem_ représentant les problèmes définis sur des treillis ou systèmes périodiques;\n",
    "\n",
    "* les `algorithms`, qui fournissent les moyens de trouver des solutions auxdits problèmes;\n",
    "\n",
    "    * _Ground State Solver_ pour trouver l'état fondamental d'un problème;\n",
    "\n",
    "    * _Excited States Solver_ pour trouver les états excités d'un problème;\n",
    "\n",
    "    * _Hamiltonian Simulation_ pour simuler la dynamique d'un problème (pas encore implémenté).\n",
    "    \n",
    "### Articulation des modules de Qiskit Nature\n",
    "\n",
    "La bibliothèque Qiskit Nature comprend différents modules s'articulant autour de :\n",
    "\n",
    "1. chargement de données à partir de pilotes (drivers) de chimie quantique (PySCF, Psi4, Gaussian, etc.) ou de formats de fichiers;\n",
    "2. construction et manipulation d'opérateurs de seconde quantification;\n",
    "3. traduction de la seconde quantification à l'espace qubit;\n",
    "4. une bibliothèque de circuits quantiques (*ansatz*) d'analyses ciblées en sciences naturelles;\n",
    "5. algorithmes et utilitaires spécifiques aux sciences naturelles ppour faciliter l'utilisation des  algorithmes de `Qiskit Algorithms`;\n",
    "- et beaucoup plus.\n",
    "\n",
    "Le flowchart suivant résume ces différentes étapes, qui permettent, avec Qiskit Nature, de traduire, de partir de la structure géométrique d'une molécule à l'Hamiltonien qubit.\n",
    "\n",
    "![Qiskit-nature flowchart](./Graphics/Qiskit_nature_Flow.png)\n",
    "\n",
    "1. les pilotes (drivers) de chimie quantique, lorsqu'ils sont fournis avec une configuration moléculaire, produisent `ElectronicStructureProblem` qui rassemble toutes les informations sur les problèmes requises par Qiskit Nature (intégrales à 1 ($h_{pq}$) et 2 ($h_{pqrs}$) corps dans la base orbitale électronique choisie, ainsi que d'autres données).\n",
    "\n",
    "2. Qiskit Nature convertit l'`ElectronicStructureProblem` en des `FermionicOperator` (Hamiltonien fermionique). \n",
    "\n",
    "3. Ces `fermionicOperator` sont par la suite mappés sur des opérateurs qubit (Hamiltionien qubit) avec un `QubitMapper`, par ex. par une transformation de **Jordan Wigner**.\n",
    "\n",
    "4. L'Hamiltonien qubit est alors prêt pour le calcul quantique (Algorithme quantique).\n",
    "\n",
    "\n",
    "### Installation \n",
    "\n",
    "> pip install qiskit-nature[pyscf] -U\n"
   ]
  },
  {
   "cell_type": "code",
   "execution_count": null,
   "metadata": {},
   "outputs": [],
   "source": [
    "try:\n",
    "    import qiskit_nature\n",
    "except:\n",
    "    %pip install qiskit-nature[pyscf] -U\n",
    "    import qiskit_nature\n",
    "    \n",
    "qiskit_nature.__version__"
   ]
  },
  {
   "cell_type": "markdown",
   "metadata": {},
   "source": [
    "### Electronic Structure Problem\n",
    "\n",
    "Dans ce qui suit, nous utilisons le driver PySCF, pour construction d'un opérateur Hamiltonien fermionique de la molécule d'hydrogène à la longueur de la liaison d'équilibre ($0,735\\mathring{A}$)  à l'état singulet et sans charge.\n",
    "![Hydrogen molecule](Graphics/h2.png)\n"
   ]
  },
  {
   "cell_type": "code",
   "execution_count": null,
   "metadata": {
    "execution": {
     "iopub.execute_input": "2024-04-26T12:27:08.314271Z",
     "iopub.status.busy": "2024-04-26T12:27:08.313625Z",
     "iopub.status.idle": "2024-04-26T12:27:10.013752Z",
     "shell.execute_reply": "2024-04-26T12:27:10.013228Z",
     "shell.execute_reply.started": "2024-04-26T12:27:08.314237Z"
    }
   },
   "outputs": [],
   "source": [
    "from qiskit_nature.second_q.drivers import PySCFDriver # Nous travaillons avec le driver PySCF\n",
    "\n",
    "# Renseigner la structure de la molécule \n",
    "H2_driver = PySCFDriver(\n",
    "    atom=\"H 0 0 0; H 0 0 0.735\", #Coordonnées xyz H2\n",
    "    basis='3-21G', #'def2-SVP', # Ensemble de base\n",
    "    charge=0,\n",
    "    spin=0,\n",
    "    unit=DistanceUnit.ANGSTROM\n",
    ")\n",
    "H2_problem = H2_driver.run() # Electronic Structure Problem"
   ]
  },
  {
   "cell_type": "code",
   "execution_count": null,
   "metadata": {
    "execution": {
     "iopub.execute_input": "2024-04-26T12:27:13.082352Z",
     "iopub.status.busy": "2024-04-26T12:27:13.081490Z",
     "iopub.status.idle": "2024-04-26T12:27:13.089672Z",
     "shell.execute_reply": "2024-04-26T12:27:13.089058Z",
     "shell.execute_reply.started": "2024-04-26T12:27:13.082326Z"
    }
   },
   "outputs": [],
   "source": [
    "# For 3D plotting\n",
    "try :\n",
    "    import py3Dmol\n",
    "except:\n",
    "    %pip install py3Dmol\n",
    "    import py3Dmol\n",
    "py3Dmol.__version__"
   ]
  },
  {
   "cell_type": "code",
   "execution_count": null,
   "metadata": {
    "execution": {
     "iopub.execute_input": "2024-04-26T12:27:31.656127Z",
     "iopub.status.busy": "2024-04-26T12:27:31.655823Z",
     "iopub.status.idle": "2024-04-26T12:27:31.660833Z",
     "shell.execute_reply": "2024-04-26T12:27:31.660292Z",
     "shell.execute_reply.started": "2024-04-26T12:27:31.656107Z"
    }
   },
   "outputs": [],
   "source": [
    "\"\"\"_3D representation with py3Dmol\n",
    "\"\"\"\n",
    "# Create a py3Dmol.view object\n",
    "xyz_view = py3Dmol.view(width=300, height=300)\n",
    "\n",
    "# Add the molecule model to the view\n",
    "gto_mol = H2_driver._mol.build()\n",
    "xyz_view.addModel(gto_mol.tostring(format=\"xyz\"),'xyz')\n",
    "\n",
    "# Set the style of representation\n",
    "xyz_view.setStyle({'stick': {}, 'sphere': {'scale': 0.30}})\n",
    "\n",
    "# Zoom to fit the molecule in the view\n",
    "xyz_view.zoomTo()\n",
    "\n",
    "# Show the molecule view\n",
    "xyz_view.show()"
   ]
  },
  {
   "cell_type": "markdown",
   "metadata": {},
   "source": [
    "#### Extraction de quelques propriétés"
   ]
  },
  {
   "cell_type": "code",
   "execution_count": null,
   "metadata": {},
   "outputs": [],
   "source": [
    "print(f'Molecule strcuture: {H2_problem.molecule}')\n",
    "print(f'Reference energy (HF): {H2_problem.reference_energy}')\n",
    "print(f'Nuclear repulsion energy: {H2_problem.nuclear_repulsion_energy}')"
   ]
  },
  {
   "cell_type": "code",
   "execution_count": null,
   "metadata": {},
   "outputs": [],
   "source": [
    "print(f\"Hydrogen molecule, basis: {H2_driver.basis}, Hartree-Fock calculation\")\n",
    "print(f\"Number of alpha electrons: {H2_problem.num_alpha}\")\n",
    "print(f\"Number of beta electrons: {H2_problem.num_beta}\")\n",
    "print(f\"Number of spin orbitals: {H2_problem.num_spin_orbitals}\")\n",
    "print(f\"spin orbitals occupation: {H2_problem.orbital_occupations}\")\n",
    "print(f\"Spin orbitals energies: {H2_problem.orbital_energies}\")"
   ]
  },
  {
   "cell_type": "code",
   "execution_count": null,
   "metadata": {},
   "outputs": [],
   "source": [
    "\n",
    "print(f\"HOMO and LUMO index are {H2_problem.num_alpha-1, H2_problem.num_alpha}\")\n",
    "print(f\"HOMO and LUMO energies are {H2_problem.orbital_energies[H2_problem.num_alpha-1],H2_problem.orbital_energies[H2_problem.num_alpha]}\")\n",
    "print(f\"HOMO-LUMO gap is {abs(H2_problem.orbital_energies[H2_problem.num_alpha-1]-H2_problem.orbital_energies[H2_problem.num_alpha])}\")\n"
   ]
  },
  {
   "cell_type": "markdown",
   "metadata": {},
   "source": [
    "### Hamiltonien fermionique de H2"
   ]
  },
  {
   "cell_type": "code",
   "execution_count": null,
   "metadata": {},
   "outputs": [],
   "source": [
    "H2_hamiltonian = H2_problem.hamiltonian # Hamiltonien en 1ere quantification\n",
    "H2_fermionic_op = H2_hamiltonian.second_q_op() # Hamiltonien fermionique"
   ]
  },
  {
   "cell_type": "code",
   "execution_count": null,
   "metadata": {},
   "outputs": [],
   "source": [
    "if len(H2_fermionic_op) <= 20:\n",
    "    print(H2_fermionic_op)\n",
    "else: # print the first 20 terms of the fermionic Hamiltonian operator of the molecule\n",
    "    print(\"\\n\".join(str(H2_fermionic_op).splitlines()[:22] + [\"...\"]))"
   ]
  },
  {
   "cell_type": "markdown",
   "metadata": {},
   "source": [
    "On note qu'avec l'ensemble de base `3-21G`, on a 8 spin-orbitales et 528 termes. Le premier terme a pour opérateur fermionique $\\ad_0a_0$ et le 4e, $\\ad_0a_{10}$"
   ]
  },
  {
   "cell_type": "code",
   "execution_count": null,
   "metadata": {},
   "outputs": [],
   "source": [
    "H2_particle_number_op = H2_problem.properties.particle_number.second_q_ops()[\"ParticleNumber\"]\n",
    "print(H2_particle_number_op)"
   ]
  },
  {
   "cell_type": "markdown",
   "metadata": {},
   "source": [
    "## Correspondance (mapping) fermion qubit\n",
    "\n",
    "En simulation quantique, encoder un problème de structure électronique en seconde quantification sur un calculateur quantique revient à établir une correspondance entre les opérateurs d'échelle fermioniques et les opérateurs de Pauli. Les transformations de Jordan-Wigner (JWT), de Partité (PT) et de Bravyi-Kitaev (BKT) sont parmis les plus utilisés en calculs quantiques. Pour plus de détails, consulter J. T. Seeley, M. J. Richard, and P. J. Love,*The Bravyi-Kitaev transformation for quantum computation of electronic structure*, J. Chem. Phys **137**, 224109 (2012).\n",
    "\n",
    "### Décomposition de Pauli\n",
    "\n",
    "Comme $\\{\\mathbb{I}, \\mathtt{X}, \\mathtt{Y}, \\mathtt{Z}\\}$ forme une base complète pour tout opérateur Hermitien 1- ou multi-qubit, l'ingrédient clé des algorithmes variationnels est de décomposer l'Hamiltonien électronique en termes de produits des matrices de Pauli,\n",
    "\\begin{equation}\n",
    "\\mathtt{P}_j=\\mathtt{X}_{M-1}^j\\otimes\\mathtt{X}_{M-2}^j\\otimes\\mathtt{X}_k^j\\otimes\\dots\\mathtt{X}_0^j\n",
    "=\\left(\\bigotimes_i^{M-1}\\mathtt{X}_i^j\\right),\n",
    "\\end{equation}\n",
    "où les opérateurs de Pauli $\\mathtt{X}^j\\in\\{\\mathbb{I},\\mathtt{X},\\mathtt{Y},\\mathtt{Z}\\}$ sont tels que\n",
    "\\begin{equation}\n",
    "\\begin{aligned}\n",
    "    &\\mathtt{X}^i\\mathtt{X}^j=\\mathbb{I}\\delta_{ij}+i\\varepsilon_{ijk}\\mathtt{X}^k, \\\\\n",
    "    &\\varepsilon_{ijk}=\\begin{cases}+1, & \\text{ pour les permutations circulaires droites de } (i,j,k) \\\\\n",
    "    -1, & \\text{ pour les permutations circulaires gauches de }(i,j,k) \\\\\n",
    "    0, & \\text{ sinon} \\end{cases}\n",
    "\\end{aligned}\n",
    "\\end{equation}\n",
    "\n",
    "\\begin{align}\n",
    "&\\mathtt{X}:=\\kb{0}{1}+\\kb{1}{0}, &i\\mathtt{Y}&:=+\\kb{0}{1}-\\kb{1}{0}), &\\mathtt{Z}:=\\proj{0}-\\proj{1}.\n",
    "\\end{align}\n",
    "Les opérateurs de Pauli sont à la fois unitaires et Hermitiens.\n",
    "\n",
    "L'Hamiltonien total peut alors être représenté comme la combinaison linéaire de $\\mathtt{P}_j$,\n",
    "\\begin{align*}\n",
    "&\\mathtt{H}=\\sum_j^{N_k}w_j\\mathtt{P}_j=\\sum_j^{N_k}w_j\\left(\\bigotimes_i^{M-1}\\mathtt{X}_i^j\\right),\n",
    "&w_j=\\langle\\mathtt{H},\\mathtt{P}_j\\rangle=\\rm{Tr}(\\mathtt{H}^\\dagger\\mathtt{P}_j),\n",
    "\\end{align*}\n",
    "où $w_j$ sont les poids de la chaîne de Pauli $\\mathtt{P}_j$, i indique sur quel qubit l'opérateur agit, et j désigne le terme dans l'Hamiltonien.\n",
    "\n",
    "Pour un Hamiltonien de la 2e quantification, le nombre total de chaînes de Pauli $N_k$ dépend du nombre de termes $h_{pq}$ à 1-électron et $h_{pqrs}$ à 2-électrons.\n",
    "\n",
    "\n",
    "### Opérateurs d'échelle qubit\n",
    "\n",
    "Ce sont les opérateurs suivants qui agissent localement sur les qubits :\n",
    "$$\n",
    "\\begin{array}{l|l}\n",
    "\\textbf{Opérateur qubit}             &  \\textbf{Description}\\\\\\hline\n",
    "\\mathbb{I}:=\\proj{0}-\\proj{1}=\\begin{pmatrix}1 & 0 \\\\ 0 &1 \\end{pmatrix} &\\text{Identité}\\\\\n",
    "\\mathtt{Q}^-:=\\kb{0}{1}=\\begin{pmatrix}0 & 1 \\\\ 0 & 0 \\end{pmatrix}=\\frac12(\\mathtt{X} + i\\mathtt{Y})  & \\text{Annihilation} \\\\\n",
    "\\mathtt{Q}^+: =\\kb{1}{0}=\\begin{pmatrix}0 & 0 \\\\ 1 & 0 \\end{pmatrix}=\\frac12(\\mathtt{X} - i\\mathtt{Y}) & \\text{Création}\\\\\n",
    "\\mathtt{Q}^+\\mathtt{Q}^-:=\\proj{1}=\\begin{pmatrix}0 & 0 \\\\ 0 &1 \\end{pmatrix}=\\frac12(\\mathbb{I} - \\mathtt{Z}) & \\text{Un nombre (particule)}\\\\\n",
    "\\mathtt{Q}^-\\mathtt{Q}^+: =\\proj{0}=\\begin{pmatrix}1 & 0 \\\\ 0 &0 \\end{pmatrix}=\\frac12(\\mathbb{I} + \\mathtt{Z}) & \\text{Zéro nombre (trou)}\\\\\\hline\n",
    "\\end{array}\n",
    "$$\n",
    "Les opérateurs qubits sont antisymétrique: $\\{\\mathtt{Q}^+,\\mathtt{Q}^-\\}=\\mathtt{Q}^+\\mathtt{Q}^- + \\mathtt{Q}^-\\mathtt{Q}^+ = \\mathbb{I}$.\n",
    "\n",
    "#### Remarques\n",
    "\n",
    "On note que $\\kb{j}{i}$ signifie que l'état initial est $\\ket{i}$ et l'état final est $\\ket{j}$. C'est ainsi que \n",
    "\n",
    "* $\\mathtt{Q}^-\\ket{1}=\\ket{0}$ et $\\mathtt{Q}^-\\ket{0}=0$ signifie que $\\mathtt{Q}^-=\\kb{0}{1}=\\frac12(\\mathtt{X} + i\\mathtt{Y}) $ ;\n",
    "\n",
    "* $\\mathtt{Q}^+\\ket{0}=\\ket{1}$ et $\\mathtt{Q}^+\\ket{1}=0$ signifie que $\\mathtt{Q}^+=\\kb{1}{0}=\\frac12(\\mathtt{X} - i\\mathtt{Y}) $ .\n"
   ]
  },
  {
   "cell_type": "markdown",
   "metadata": {},
   "source": [
    "## Transformation de Jordan-Wigner (JWT)\n",
    "\n",
    "![Jordan Mapping](Graphics/jw_mapping.png)\n",
    "\n",
    "Elle stocke l'occupation de chaque spin-orbite dans chaque qubit, i.e.,\n",
    "\\begin{align}\n",
    "&\\ket{f_{M-1},\\dots,f_k,\\dots, f_1,f_0} \\rightarrow \\ket{q_{M-1},\n",
    "\\dots,q_k,\\dots, q_1, q_0}, \n",
    "&q_k :=\\{\\uparrow,\\downarrow\\}\\equiv f_k \\in \\{0, 1 \\}.\n",
    "\\end{align}\n",
    "et les opérateurs fermioniques de création et d'annihilation (respectivement\n",
    "$\\ad_k$ et $a_k$) sur des opérateurs de qubits non locaux de la forme\n",
    "\\begin{align}\n",
    "\\begin{aligned}\n",
    "&\\ad_k \\mapsto \\frac12(\\mathtt{X}_k - i\\mathtt{Y}_k)\\otimes \\mathtt{Z}_{k-1} \\otimes \\dots \\otimes \\mathtt{Z}_0\n",
    "\\equiv \\mathtt{Q}^+_k \\bigotimes_{k=p-1}^0\\mathtt{Z}_k,\n",
    "&a_k \\mapsto \\frac12(\\mathtt{X}_k + i \\mathtt{Y}_k)\\otimes\\mathtt{Z}_{k-1}\\otimes \\dots \\otimes \\mathtt{Z}_0 \n",
    "\\equiv \\mathtt{Q}_k^- \\bigotimes_{k=p-1}^0\\mathtt{Z}_k.\n",
    "\\end{aligned}\n",
    "\\end{align}\n",
    "\n",
    "\n",
    "Par exemple, puisque $\\mathtt{Z}_k^2=\\mathbb{I}_k$, on a\n",
    "\\begin{array}{l|l}\n",
    "\\textbf{Fermion}  & \\textbf{Qubit}  \\\\\\hline\n",
    "a\\ket{0001}+b\\ket{0010}+c\\ket{0100}+d\\ket{1000} & a\\ket{0001}+b\\ket{0010}+c\\ket{0100}+d\\ket{1000} \\\\\n",
    "a_0,\\quad  a_1,\\quad  a_2,\\quad a_3 &\\mathtt{Q}^-_0,\\quad \\mathtt{Q}^-_1\\mathtt{Z}_0,\\quad \\mathtt{Q}^-_2\\mathtt{Z}_1 \\mathtt{Z}_0,\\quad \\mathtt{Q}^-_3\\mathtt{Z}_2 \\mathtt{Z}_1 \\mathtt{Z}_0 \\\\\n",
    "\\ad_0,\\quad \\ad_1,\\quad \\ad_2,\\quad \\ad_3 & \\mathtt{Q}^+_0,\\quad \\mathtt{Q}^+_1\\mathtt{Z}_0,\\quad \\mathtt{Q}^+_2\\mathtt{Z}_1 \\mathtt{Z}_0,\\quad \\mathtt{Q}^+_3\\mathtt{Z}_2 \\mathtt{Z}_1 \\mathtt{Z}_0 \\\\\n",
    "n_k = \\ad_k a_k &\\mathtt{Q}^+_k \\mathtt{Q}^-_k = \\proj{1}_k=\\frac12(\\mathbb{I} - \\mathtt{Z})_k \\\\\\hline\n",
    "\\end{array}\n"
   ]
  },
  {
   "cell_type": "markdown",
   "metadata": {},
   "source": [
    "### Construction des Hamiltoniens dans la représentation de Jordan-Wigner\n",
    "\n",
    "Pour traduire l'Hamiltonien en une somme d'opérateurs de Pauli, il suffit de remplacer chacun des opérateurs $\\ad$ et $a$ dans l'Hamiltonien fermionique par les chaînes d'opérateurs de Pauli correspondante. \n",
    "\n",
    "#### Operateurs 1-corps $\\ad_p a_q $\n",
    "\n",
    "* Quand $p=q$, tous les opérateurs $\\mathtt{Z}$ disparaissent compte tenu du fait que $\\mathtt{Z}_p^2 = \\mathbb{I}_p$, et on a \n",
    "  $$ \\ad_p a_p \\mapsto \\mathtt{Q}^+_p \\left(\\bigotimes_{k=p-1}^0\\mathtt{Z}_k\\right)\n",
    "  \\mathtt{Q}^-_p \\left(\\bigotimes_{k=p-1}^0 \\mathtt{Z}_k\\right) = \\frac12(\\mathbb{I}_p-\\mathtt{Z}_p).$$\n",
    "\n",
    "* Pour tous les indices $p\\neq q$, les opérateurs $\\mathtt{Z}$ demeurent pour qubits entre $p$ et $q$, y compris p si $p < q$ et on a,\n",
    " \n",
    " \\begin{align*} \n",
    "  \\ad_p a_q \\mapsto & \\mathtt{Q}^+_p \\left(\\bigotimes_{k=p-1}^0\\mathtt{Z}_k\\right)\n",
    "  \\mathtt{Q}^-_q \\left(\\bigotimes_{k=q-1}^0 \\mathtt{Z}_k\\right)\n",
    "  =\\frac14(\\mathtt{X}_p - i\\mathtt{Y}_p)(\\mathtt{X}_q + i\\mathtt{Y}_q) \\left(\\bigotimes_{k=q-1}^p\\mathtt{Z}_k\\right)\\\\\n",
    "  &=\\frac14 (\\mathtt{X}_p\\mathtt{X}_q + i\\mathtt{X}_p\\mathtt{Y}_q\n",
    " - i\\mathtt{Y}_p\\mathtt{X}_q + \\mathtt{Y}_p\\mathtt{Y}_q ) \\left(\\bigotimes_{k=q-1}^p\\mathtt{Z}_k\\right)\n",
    "\\end{align*}\n",
    "\n",
    "Par suite, dans les intégrales à 1-corps, on a les deux classes suivantes avec des orbitales à valeurs réelles, pour $p\\leq q$ (ordre normal),\n",
    "\n",
    "$$\n",
    "\\begin{array}{l|l|l}\n",
    "\\textbf{Opérateur} & \\textbf{Seconde Quantification} &  \\textbf{Représentation de Pauli} \\\\\\hline\n",
    "\\text{Nombre} & \\HH_{pp}=h_{pp}\\ad_p a_p& \\frac{h_{pp}}{2}(\\mathbb{I}_p-\\mathtt{Z}_p)\\\\\n",
    "\\text{Excitation}&\\HH_{pq}=h_{pq}\\ad_p a_q + h_{qp}  \\ad_q a_p &\\frac{h_{pq}}{2}(\\mathtt{X}_q\\mathtt{X}_p+\\mathtt{Y}_q\\mathtt{Y}_p)\\left(\\bigotimes_{k=q-1}^p\\mathtt{Z}_k\\right)\\\\\\hline\n",
    "\\end{array}\n",
    "$$\n"
   ]
  },
  {
   "cell_type": "markdown",
   "metadata": {},
   "source": [
    "### Exemple JWT avec Qiskit nature "
   ]
  },
  {
   "cell_type": "code",
   "execution_count": null,
   "metadata": {},
   "outputs": [],
   "source": [
    "from qiskit_nature.second_q.mappers import JordanWignerMapper\n",
    "from qiskit_nature.second_q.operators import FermionicOp"
   ]
  },
  {
   "cell_type": "markdown",
   "metadata": {},
   "source": [
    "Définissons une fonction `label_to_qubit()` pour convertir les opérateurs fermioniques en opérateurs qubits."
   ]
  },
  {
   "cell_type": "code",
   "execution_count": null,
   "metadata": {},
   "outputs": [],
   "source": [
    "def label_to_qubit(label, mapper):\n",
    "    \"\"\"\n",
    "    Conversion les opérateurs fermioniques en opérateurs qubits\n",
    "    \n",
    "    Args:\n",
    "        label(dict): opérateur fermionique avec son coefficient\n",
    "        mapper (Mapper): Qubit mapper\n",
    "    \n",
    "    Return:\n",
    "        qubit_op (SparsePauliOp): opérateurs fermioniques avec les coefficients\n",
    "    \"\"\"\n",
    "    \n",
    "    f_op = FermionicOp(label)\n",
    "    qubit_op = mapper.map(f_op)\n",
    "    \n",
    "    return qubit_op"
   ]
  },
  {
   "cell_type": "markdown",
   "metadata": {},
   "source": [
    "Convertissons les opérateurs fermioniques {\"+_0\":1.0}, {\"+_1\":1.0}, {\"+_2\":1.0}, {\"+_3\":1.0}, qui représentent respectivement $\\ad_0,\\ \\ad_1,\\ \\ad_3$, en opérateurs qubits avec la JWT:"
   ]
  },
  {
   "cell_type": "code",
   "execution_count": null,
   "metadata": {},
   "outputs": [],
   "source": [
    "for k in ({\"+_0\":1.0}, {\"+_1\":1.0}, {\"+_2\":1.0}, {\"+_3\":1.0}):\n",
    "  qubit_op = label_to_qubit(k, JordanWignerMapper())\n",
    "  print(f\"{k}:\\n {qubit_op}\\n\")"
   ]
  },
  {
   "cell_type": "markdown",
   "metadata": {},
   "source": [
    "### Hamiltonien qubit JWT de H2"
   ]
  },
  {
   "cell_type": "code",
   "execution_count": null,
   "metadata": {},
   "outputs": [],
   "source": [
    "H2_qubit_JW_op = JordanWignerMapper().map(H2_fermionic_op)\n",
    "\n",
    "print(\"Number of items in the JWT Pauli list:\", len(H2_qubit_JW_op),'\\n')\n",
    "\n",
    "if len(H2_qubit_JW_op) <= 10:\n",
    "    print(H2_qubit_JW_op)\n",
    "else:\n",
    "    print(H2_qubit_JW_op[0:10])"
   ]
  },
  {
   "cell_type": "code",
   "execution_count": null,
   "metadata": {},
   "outputs": [],
   "source": [
    "H2_qubit_JW_op.num_qubits"
   ]
  },
  {
   "cell_type": "markdown",
   "metadata": {},
   "source": [
    "### Etat intial de JWT de H2\n",
    "\n",
    "En chimie quantique, l'état de Hartree-Fock est un bon état initial qui initialise l'occupation des qubits en fonction du problème que l'on essayons de résoudre."
   ]
  },
  {
   "cell_type": "code",
   "execution_count": null,
   "metadata": {},
   "outputs": [],
   "source": [
    "from qiskit_nature.second_q.circuit.library import HartreeFock\n",
    "\n",
    "hf_state = HartreeFock(H2_problem.num_spatial_orbitals, H2_problem.num_particles, JordanWignerMapper())\n",
    "hf_state.draw('mpl',initial_state=True)"
   ]
  },
  {
   "cell_type": "markdown",
   "metadata": {},
   "source": [
    "## Transformation de parité\n",
    "\n",
    "C'est la transformation dual de la JWT: les opérateurs de la parité sont légers alors que les opérateurs d'occupation sont lourds. Le calcul des parités peut être réalisé en utilisant uniquement des opérateurs $\\mathtt{X}$ à 1-qubit et en utilisant la transformation de parité suivante,\n",
    "\\begin{align}\n",
    "&\\ket{f_{M-1},\\dots,f_k,\\dots, f_1,f_0} \\mapsto \\ket{\\mathbf{p}} , \\qquad p_k = \\sum_{j=k}^0 q_j \\pmod 2 = q_k\\oplus\\dots\\oplus q_0\\\\\n",
    "& \\ad_k \\mapsto \\mathtt{X}_{M-1} \\otimes \\dots \\otimes \\mathtt{X}_{k+1} \\otimes\n",
    "\\frac12(\\mathtt{X}_k\\otimes \\mathtt{Z}_{k-1} - i \\mathtt{Y}_k)\\equiv \\mathtt{X}_{M-1} \\otimes \\dots \\otimes \\mathtt{X}_{k+1} \\otimes \\mathtt{P}_k^+,\\\\\n",
    "& a_k \\mapsto \\mathtt{X}_{M-1} \\otimes \\dots \\otimes \\mathtt{X}_{k+1} \\otimes\n",
    "\\frac12(\\mathtt{X}_k\\otimes \\mathtt{Z}_{k-1} + i \\mathtt{Y}_k)\\equiv \\mathtt{X}_{M-1} \\otimes \\dots \\otimes \\mathtt{X}_{k+1} \\otimes \\mathtt{P}_k^-,\\\\\n",
    "&\\mathtt{P}_k^\\pm =Q^\\pm_k \\otimes \\proj{0}_{k-1} - Q^\\mp_k \\otimes \\proj{1}_{k-1} .\n",
    "\\end{align}\n",
    "\n",
    "Afin de définir les transformations entre les bases, nous considérerons en termes de correspondance entre chaînes de bits. Pour\n",
    "toutes les transformations que nous considérons, qui ne font intervenir que des sommes de bits $\\mod 2$, il est possible de représenter leur action par matrices agissant sur le vecteur de valeurs binaires correspondant à un état de base logique donné. La correspondance à la base de parité est donnée par :\n",
    "$$ p_k = \\sum_j [ \\pi_n]_{kj}\\ f_j,$$\n",
    "où $n$ est le nombre d'orbitales. $\\pi_n$ est la matrice $(n\\times n)$ suivant\n",
    "\\begin{align}\n",
    " & [\\pi_n]_{kj} =  \n",
    "  \\begin{cases}\n",
    "    1 & \\quad k < j \\\\\n",
    "    0 & \\quad k \\geq j\\\\\n",
    "  \\end{cases} ,\n",
    "  &  \\pi_n = \n",
    " \\begin{pmatrix}\n",
    "  1 & 1 & \\cdots & 1 \\\\\n",
    "  0 & 1 & \\cdots & 1 \\\\\n",
    "  \\vdots  & \\vdots  & \\ddots & \\vdots  \\\\\n",
    "  0 & 0 & \\cdots & 1\n",
    " \\end{pmatrix}\n",
    "\\end{align}\n",
    "Soulignons que nous indexons la matrice $\\pi_n$ à partir du coin inférieur droit, par souci de cohérence avec notre schéma de numérotation orbitale. \n",
    "\n",
    "Par exemple, pour changer l'état de base du numéro d'occupation $|1 0 1 0 0 1 1 1\\rangle$ en son état de base de parité correspondant $|1 0 0 1 1 1 0 1\\rangle$, nous agissons avec la matrice $\\pi_8$ sur la chaîne de bits appropriée :\n",
    "\n",
    "$$\n",
    "\\begin{matrix}\n",
    "& \\begin{matrix}f_7 & f_6 & f_5 & f_4 & f_3 & f_2 & f_1 & f_0 \\end{matrix} \\\\\n",
    "\\begin{matrix}p_7\\\\p_6\\\\p_5\\\\p_4\\\\p_3\\\\p_2\\\\p_1\\\\p_0\\end{matrix}&\n",
    "\\begin{pmatrix} 1_{\\phantom{7}} & 1_{\\phantom{6}} & 1_{\\phantom{5}} & 1_{\\phantom{4}} & 1_{\\phantom{3}} & 1_{\\phantom{2}} & 1_{\\phantom{1}} & 1_{\\phantom{0}} \\\\\n",
    "               0 & 1 & 1 & 1 & 1 & 1 & 1 & 1 \\\\\n",
    "               0 & 0 & 1 & 1 & 1 & 1 & 1 & 1 \\\\\n",
    "               0 & 0 & 0 & 1 & 1 & 1 & 1 & 1 \\\\\n",
    "               0 & 0 & 0 & 0 & 1 & 1 & 1 & 1 \\\\\n",
    "               0 & 0 & 0 & 0 & 0 & 1 & 1 & 1 \\\\\n",
    "               0 & 0 & 0 & 0 & 0 & 0 & 1 & 1 \\\\\n",
    "               0 & 0 & 0 & 0 & 0 & 0 & 0 & 1 \n",
    " \\end{pmatrix}\n",
    "\\end{matrix}\n",
    "\\begin{pmatrix}\n",
    "  1 \\\\\n",
    "  0 \\\\\n",
    "  1 \\\\\n",
    "  0 \\\\\n",
    "  0 \\\\\n",
    "  1 \\\\\n",
    "  1 \\\\\n",
    "  1\\\\\n",
    " \\end{pmatrix}\n",
    " =\n",
    " \\begin{pmatrix}\n",
    "  1 \\\\\n",
    "  0 \\\\\n",
    "  0 \\\\\n",
    "  1 \\\\\n",
    "  1 \\\\\n",
    "  1 \\\\\n",
    "  0 \\\\\n",
    "  1\\\\\n",
    " \\end{pmatrix}\n",
    "$$\n",
    "\n",
    "Le tableau suivant donne quelques exemples de la transformation de parité.\n",
    "$$\n",
    "\\begin{array}{l|l}\n",
    "\\textbf{Fermion} & \\textbf{Qubit} \\\\ \\hline\n",
    "a\\ket{0001}+b\\ket{0010}+c\\ket{0100}+d\\ket{1000} & a\\ket{1111}+b\\ket{1110}+c\\ket{1100}+d\\ket{1000}  \\\\\n",
    "a_0 ,\\quad a_1 ,\\quad a_2 ,\\quad a_3 &\n",
    "\\begin{split}\n",
    "&\\mathtt{X}_3\\mathtt{X}_2\\mathtt{X}_1Q^-_0 ,\\quad \\mathtt{X}_3\\mathtt{X}_2\\big( Q^-_1\\proj{0}_0 - Q^+_1\\proj{1}_0 \\big) ,\\\\ &\\mathtt{X}_3\\big( Q^-_2\\proj{0}_1 - Q^+_2\\proj{1}_1 \\big) ,\\quad Q^-_3\\proj{0}_2 - Q^+_3\\proj{1}_2\n",
    "\\end{split} \\\\\n",
    "\\ad_0 ,\\quad \\ad_1 ,\\quad \\ad_2 ,\\quad \\ad_3 &\n",
    "\\begin{split}\n",
    "& \\mathtt{X}_3\\mathtt{X}_2\\mathtt{X}_1Q^+_0 ,\\quad \\mathtt{X}_3\\mathtt{X}_2\\big( Q^+_1\\proj{0}_0 - Q^-_1\\proj{1}_0 \\big) ,\\\\ &\\mathtt{X}_3\\big( Q^+_2\\proj{0}_1 - Q^-_2\\proj{1}_1 \\big) ,\\quad Q^+_3\\proj{0}_2 - Q^-_3\\proj{1}_2 \n",
    "\\end{split}\\\\\n",
    "n_k = \\ad_k a_k & \\proj{1}_{k=0}=\\frac12(\\mathbb{I} - \\mathtt{Z}_0) ,\\quad  \\frac12(\\mathbb{I} - \\mathtt{Z}_k\\mathtt{Z}_{k-1})_{k=1,2,3}\\\\\\hline\n",
    "\\end{array}\n",
    "$$"
   ]
  },
  {
   "cell_type": "markdown",
   "metadata": {},
   "source": [
    "### Exemple PT avec Qiskit nature \n",
    "\n",
    "Convertissons les opérateurs fermioniques {\"+_0\":1.0}, {\"+_1\":1.0}, {\"+_2\":1.0}, {\"+_3\":1.0} en opérateurs qubits avec la transformation de la parité :"
   ]
  },
  {
   "cell_type": "code",
   "execution_count": null,
   "metadata": {},
   "outputs": [],
   "source": [
    "from qiskit_nature.second_q.mappers import ParityMapper\n",
    "\n",
    "for k in ({\"+_0\":1.0}, {\"+_1\":1.0}, {\"+_2\":1.0}, {\"+_3\":1.0}):\n",
    "  qubit_op = label_to_qubit(k, ParityMapper())\n",
    "  print(\"{}:\\n {}\\n\".format(k, qubit_op))"
   ]
  },
  {
   "cell_type": "markdown",
   "metadata": {},
   "source": [
    "### Hamiltonien qubit PT de H2"
   ]
  },
  {
   "cell_type": "code",
   "execution_count": null,
   "metadata": {},
   "outputs": [],
   "source": [
    "H2_qubit_P_op = ParityMapper().map(H2_fermionic_op)\n",
    "\n",
    "print(\"Number of items in the PT Pauli list:\", len(H2_qubit_P_op),'\\n')\n",
    "\n",
    "if len(H2_qubit_P_op) <= 10:\n",
    "    print(H2_qubit_P_op)\n",
    "else:\n",
    "    print(H2_qubit_P_op[0:10])\n"
   ]
  },
  {
   "cell_type": "markdown",
   "metadata": {},
   "source": [
    "La transformation de la parité présente un avantage majeur pour les problèmes dans lesquels nous voulons préserver le nombre de particules de chaque espèce de spin, En effet, elle nous permet de supprimer 2 qubits, car l'information qu'ils contiennent devient redondante.\n",
    "\n",
    "Comme Qiskit Nature dispose les qubits en ordre bloc, de telle sorte que la première moitié encode l'information sur le spin alpha et la seconde moitié l'information sur le spin bêta, cela signifie que l'on peut supprimer le N/2ème et le Nème qubit.\n",
    "\n",
    "Pour ce faire, vous devez spécifier le nombre de particules dans votre système, comme suit :"
   ]
  },
  {
   "cell_type": "code",
   "execution_count": null,
   "metadata": {},
   "outputs": [],
   "source": [
    "H2_qubit_P_op = ParityMapper(num_particles=H2_problem.num_particles).map(H2_fermionic_op)\n",
    "\n",
    "print(\"Number of items in the PT Pauli list:\", len(H2_qubit_P_op))\n",
    "\n",
    "if len(H2_qubit_P_op) <= 10:\n",
    "    print(H2_qubit_P_op)\n",
    "else:\n",
    "    print(H2_qubit_P_op[0:10])"
   ]
  },
  {
   "cell_type": "markdown",
   "metadata": {},
   "source": [
    "### Etat intial PT de H2\n"
   ]
  },
  {
   "cell_type": "code",
   "execution_count": null,
   "metadata": {},
   "outputs": [],
   "source": [
    "hf_state = HartreeFock(H2_problem.num_spatial_orbitals, H2_problem.num_particles, ParityMapper())\n",
    "hf_state.draw('mpl',initial_state=True)"
   ]
  },
  {
   "cell_type": "markdown",
   "metadata": {},
   "source": [
    "## Transformation de Bravyi-Kitaev (BKT)\n",
    "\n",
    "Cette transformation combine la localité des nombres d'occupation et celle des parités, afin d'établir une correspondance entre les opérateurs de création et de destruction fermioniques et les opérateurs qubits sur $\\mathcal{O}(\\log_2M)$. Pour ce faire, elle fait correspondre les états du nombre d'occupations à des chaînes binaires définies de manière appropriée,\n",
    "\n",
    "\\begin{align*}\n",
    "    &\\ket{f_{M-1},\\dots,f_k,\\dots, f_1,f_0}\\mapsto \\ket{\\mathbf{b}} , &&b_k = \\sum_{j=0}^k B_{kj} \\, f_j \\, \\pmod 2,\\\\\n",
    "    &B_1 = [1], &&B_{2^{x+1}}= \\begin{pmatrix} B_{2^x} & \\mathtt{A}\\\\ \\mathbb{O} & B_{2^x}\\end{pmatrix} ,\n",
    "\\end{align*}\n",
    "\n",
    "où la matrice binaire $B$ $M \\times M$ a la structure d'un arbre binaire, $\\mathbf{A}$ est une matrice $(2^x \\times 2^x)$ de 0, la rangée supérieure étant remplie de 1, et $\\mathbb{O}$ est une matrice zéro $(2^x \\times 2^x)$. À titre d'exemple, lorsque $M = 2,4$ ($x=0,1$), la matrice $B_{kj}$ est la suivante\n",
    "\n",
    "\\begin{align*}\n",
    "    &\\mathtt{B}_2 = \\begin{pmatrix}1 & 1\\\\0 & 1 \\end{pmatrix}\n",
    "    &\\mathtt{B}_4 = \\left(\\begin{array}{cc|cc}\n",
    "    1 & 1 & 1 & 1 \\\\\n",
    "    0 & 1 & 0 & 0 \\\\\\hline\n",
    "    0 & 0 & 1 & 1 \\\\\n",
    "    0 & 0 & 0 & 1 \n",
    " \\end{array}\\right)\n",
    "\\end{align*}\n",
    "\n",
    "Par exemple, pour changer l'état de base du numéro d'occupation $|1 0 1 0 0 1 1 1\\rangle$ en son état de base de BK correspondant $|1 0 1 0 1 1 0 1\\rangle$, nous agissons avec la matrice $\\pi_8$ sur la chaîne de bits appropriée :\n",
    "\n",
    "$$\n",
    "\\begin{matrix}\n",
    "& \\begin{matrix}f_7 & f_6 & f_5 & f_4 & f_3 & f_2 & f_1 & f_0 \\end{matrix} \\\\\n",
    "\\begin{matrix}b_7\\\\b_6\\\\b_5\\\\b_4\\\\b_3\\\\b_2\\\\b_1\\\\b_0\\end{matrix}&\n",
    "\\begin{pmatrix} 1_{\\phantom{7}} & 1_{\\phantom{6}} & 1_{\\phantom{5}} & 1_{\\phantom{4}} & 1_{\\phantom{3}} & 1_{\\phantom{2}} & 1_{\\phantom{1}} & 1_{\\phantom{0}} \\\\\n",
    "               0 & 1 & 0 & 0 & 0 & 0 & 0 & 0 \\\\\n",
    "               0 & 0 & 1 & 1 & 1 & 1 & 1 & 1 \\\\\n",
    "               0 & 0 & 1 & 1 & 0 & 0 & 0 & 0  \\\\\n",
    "               0 & 0 & 0 & 0 & 1 & 1 & 1 & 1 \\\\\n",
    "               0 & 0 & 0 & 0 & 0 & 1 & 0 & 0 \\\\\n",
    "               0 & 0 & 0 & 0 & 0 & 0 & 1 & 1  \\\\\n",
    "               0 & 0 & 0 & 0 & 0 & 0 & 0 & 1 \n",
    " \\end{pmatrix}\n",
    "\\end{matrix}\n",
    "\\begin{pmatrix}\n",
    "  1 \\\\\n",
    "  0 \\\\\n",
    "  1 \\\\\n",
    "  0 \\\\\n",
    "  0 \\\\\n",
    "  1 \\\\\n",
    "  1 \\\\\n",
    "  1\\\\\n",
    " \\end{pmatrix}\n",
    " =\n",
    " \\begin{pmatrix}\n",
    "  1 \\\\\n",
    "  0 \\\\\n",
    "  1 \\\\\n",
    "  0 \\\\\n",
    "  1 \\\\\n",
    "  1 \\\\\n",
    "  0 \\\\\n",
    "  1\\\\\n",
    " \\end{pmatrix}\n",
    "$$\n",
    "\n",
    " Puisqu'elle ne nécessite que $\\mathcal{O}(\\log_2 M)$ opérateurs qubits, \\textbf{les transformations BK permettent un codage plus économique des opérateurs fermioniques en opérateurs qubits}, avec un coût réduit pour les  mesures et les circuits quantiques. Mais elle ne s'applique que sur des  systèmes de $N$ est pair, c'est-à-dire $N=2^m$.\n",
    "\n",
    "Le tableau suivant donne quelques exemples de la transformation BK.\n",
    "\n",
    "$$\n",
    "\\begin{array}{l|l}\n",
    "\\textbf{Fermion} & \\textbf{Qubit} \\\\ \\hline\n",
    "a\\ket{0001}+b\\ket{0010}+c\\ket{0100}+d\\ket{1000} & a\\ket{1011}+b\\ket{1010}+c\\ket{1100}+d\\ket{1000}  \\\\\n",
    "a_0 ,\\quad a_1 ,\\quad a_2 ,\\quad a_3 &\n",
    "\\begin{aligned}\n",
    "&\\mathtt{X}_3\\mathtt{X}_1Q^-_0 ,\\quad \\mathtt{X}_3\\big( Q^-_1\\proj{0}_0 - Q^+_1\\proj{1}_0 \\big) ,\\\\ &\\mathtt{X}_3Q^-_2\\mathtt{Z}_1 ,\\quad \n",
    "\\frac12\\Big(Q^-_3(\\mathbb{I} + \\mathtt{Z_2Z_1}) -  Q^+_3(\\mathbb{I} - \\mathtt{Z_2Z_1})\\Big)\n",
    "\\end{aligned} \\\\\n",
    "\\ad_0 ,\\quad \\ad_1 ,\\quad \\ad_2 ,\\quad \\ad_3 &\n",
    "\\begin{aligned}\n",
    "&\\mathtt{X}_3\\mathtt{X}_1Q^+_0 ,\\quad \\mathtt{X}_3\\big( Q^+_1\\proj{0}_0 - Q^-_1\\proj{1}_0 \\big) ,\\\\ &\\mathtt{X}_3Q^+_2\\mathtt{Z}_1 ,\\quad \n",
    "\\frac12\\Big(Q^+_3(\\mathbb{I} + \\mathtt{Z_2Z_1}) -  Q^-_3(\\mathbb{I} - \\mathtt{Z_2Z_1})\\Big)\n",
    "\\end{aligned} \\\\\n",
    "n_k = \\ad_k a_k & \\proj{1}_{k=0,2} ,\\quad  \\frac12(\\mathbb{I} - \\mathtt{Z}_1\\mathtt{Z}_{0})_{k=1},\n",
    "\\quad  \\frac12(\\mathbb{I} - \\mathtt{Z}_2\\mathtt{Z}_1\\mathtt{Z}_{0})_{k=3}\n",
    "\\\\\\hline\n",
    "\\end{array}\n",
    "$$"
   ]
  },
  {
   "cell_type": "code",
   "execution_count": null,
   "metadata": {},
   "outputs": [],
   "source": [
    "def BK(m):\n",
    "  import numpy as np   \n",
    "  I = [[1, 0], [0, 1]]\n",
    "  d = {}\n",
    "  d[0] = [1]\n",
    "  for k in range(0, m):\n",
    "      B = np.kron(I,d[k])\n",
    "      for l in range(2**k, 2**(k+1)):\n",
    "          B[0,l] = 1\n",
    "      d[k+1] = B\n",
    "  return d\n",
    "  "
   ]
  },
  {
   "cell_type": "code",
   "execution_count": null,
   "metadata": {},
   "outputs": [],
   "source": [
    "from qiskit.visualization import array_to_latex\n",
    "\n",
    "d = BK(3)\n",
    "for k, v in d.items():\n",
    "  s = \"B_{\"+str(2**k)+\"} = \"\n",
    "  display(array_to_latex(v, prefix=s, precision = 0))\n",
    "  print(\" \")"
   ]
  },
  {
   "cell_type": "markdown",
   "metadata": {},
   "source": [
    "### Exemple BKT avec Qiskit nature \n",
    "\n",
    "Convertissons les opérateurs fermioniques {\"+_0\":1.0}, {\"+_1\":1.0}, {\"+_2\":1.0}, {\"+_3\":1.0} en opérateurs qubits avec la BKT:"
   ]
  },
  {
   "cell_type": "code",
   "execution_count": null,
   "metadata": {},
   "outputs": [],
   "source": [
    "from qiskit_nature.second_q.mappers import BravyiKitaevMapper\n",
    "\n",
    "for k in ({\"+_0\":1.0}, {\"+_1\":1.0}, {\"+_2\":1.0}, {\"+_3\":1.0}):\n",
    "  qubit_op = label_to_qubit(k, BravyiKitaevMapper())\n",
    "  print(\"{}:\\n {}\\n\".format(k, qubit_op))"
   ]
  },
  {
   "cell_type": "markdown",
   "metadata": {},
   "source": [
    "### Hamiltonien BKT de H2"
   ]
  },
  {
   "cell_type": "code",
   "execution_count": null,
   "metadata": {},
   "outputs": [],
   "source": [
    "H2_qubit_BK_op = BravyiKitaevMapper().map(H2_fermionic_op)\n",
    "\n",
    "print(\"Number of items in the BKT Pauli list:\", len(H2_qubit_BK_op),'\\n')\n",
    "\n",
    "\n",
    "if len(H2_qubit_BK_op) <= 10:\n",
    "    print(H2_qubit_BK_op)\n",
    "else:\n",
    "    print(H2_qubit_BK_op[0:10])\n"
   ]
  },
  {
   "cell_type": "markdown",
   "metadata": {},
   "source": [
    "### Etat intial BKT de H2\n"
   ]
  },
  {
   "cell_type": "code",
   "execution_count": null,
   "metadata": {},
   "outputs": [],
   "source": [
    "hf_state = HartreeFock(H2_problem.num_spatial_orbitals, H2_problem.num_particles, BravyiKitaevMapper())\n",
    "hf_state.draw('mpl',initial_state=True)"
   ]
  },
  {
   "cell_type": "markdown",
   "metadata": {},
   "source": [
    "## Réductions de qubit plus avancées\n",
    "\n",
    "Il est possible d'effectuer des réductions de qubit plus avancées, qui sont basées sur la recherche de symétries $\\mathbb{Z}2$ dans l'espace de Hilbert du qubit. **Une exigence pour que cela soit utile est que vous sachiez dans quel sous-espace de symétrie vous devez rechercher votre solution d'intérêt réelle**. Cela peut être un peu délicat, mais heureusement, les classes de problèmes de Qiskit Nature fournissent un utilitaire pour déterminer automatiquement ce sous-espace correctement. \n",
    "\n",
    "Voici comment on peut l'utiliser avantageusemnt :"
   ]
  },
  {
   "cell_type": "code",
   "execution_count": null,
   "metadata": {},
   "outputs": [],
   "source": [
    "from qiskit_nature.second_q.mappers import TaperedQubitMapper"
   ]
  },
  {
   "cell_type": "code",
   "execution_count": null,
   "metadata": {},
   "outputs": [],
   "source": [
    "dmap = {\"JWM\": JordanWignerMapper(), \"PM\": ParityMapper(),  \"BKM\": BravyiKitaevMapper()}\n",
    "for k, v in dmap.items():\n",
    "    mapper = H2_problem.get_tapered_mapper(v)\n",
    "    H2_z2qubit = mapper.map(H2_fermionic_op)\n",
    "\n",
    "    print(f\"Number of items in the {k} Z2 Pauli list:\", len(H2_z2qubit))\n",
    "    if len(H2_z2qubit) <= 10:\n",
    "        print(H2_z2qubit)\n",
    "    else:\n",
    "        print(H2_z2qubit[0:10])\n",
    "    print()\n"
   ]
  },
  {
   "cell_type": "markdown",
   "metadata": {},
   "source": [
    "On constate que les trois transformations ou mapping donnent le même Hamiltonien qubit à 5 entrées (5-qubits)"
   ]
  },
  {
   "cell_type": "markdown",
   "metadata": {},
   "source": [
    "## Exercise\n",
    "\n",
    "1. A fermionic Fock state is given by \n",
    "$$ |\\Psi\\rangle = a|0011\\rangle + b|1100\\rangle + c|1001\\rangle + d|0110\\rangle. $$\n",
    "\n",
    "Write down the mapping onto the corresponding qubit state by using the **parity** and **Bravyi-Kitaev** transformations.\n",
    "\n",
    "**Hint:** Use the article of Jacob T. Seeley, Martin J. Richard, and Peter J. Love, *The Bravyi-Kitaev transformation for quantum computation of electronic structure*, THE JOURNAL OF CHEMICAL PHYSICS 137, 224109 (2012).\n",
    "\n",
    "2. Démontrer clairement, les résultats de l'équation (102) de l'article de Sam McArdle et *al.* *Quantum computational chemistry*, REVIEWS OF MODERN PHYSICS, VOLUME 92, JANUARY–MARCH 2020.\n",
    "3. Ecrire un script qiskit permettant de retrouver les résultats de l'équation (102) de l'article de Sam McArdle et *al.* *Quantum computational chemistry*, REVIEWS OF MODERN PHYSICS, VOLUME 92, JANUARY–MARCH 2020."
   ]
  },
  {
   "cell_type": "markdown",
   "metadata": {},
   "source": [
    "## Questions\n",
    "\n",
    "1. Which of the following terms is neglected in the BO approximation?\n",
    "\n",
    "    A.\tElectronic kinetic energy operator.\n",
    "\n",
    "    B.\tNuclear kinetic energy operator.\n",
    "\n",
    "    C.\tPotential energy between the electrons and nuclei. It is the sum of all electron-nucleus Coulomb interactions.\n",
    "\n",
    "    D.\tPotential energy operator arising from electron-electron Coulomb repulsions.\n",
    "    \n",
    "2. The Slater determinant state function is antisymmetric with respect to: \n",
    "\n",
    "    A.\tthe exchange of two electrons (permutation of two rows) or, \n",
    "\n",
    "    B.\twith respect to the exchange of two spin orbitals (permutation of two columns)\n",
    "\n",
    "    C.\tOr both the above?\n",
    "\n",
    "3. Name three fermion to qubit transformations currently supported by Qiskit Nature.\n",
    "\n",
    "4. Name two fermion to qubit transformations that simulates a system of electrons with the same number of qubits as electrons.\n",
    "\n",
    "5.\tFor which transformation does the resulting Hamiltonian commute with the number spin up and number spin down operators which can be used to taper off two qubits?\n"
   ]
  },
  {
   "cell_type": "code",
   "execution_count": null,
   "metadata": {},
   "outputs": [],
   "source": [
    "# # %qiskit_version_table\n",
    "# import tutorial_magics\n",
    "\n",
    "# %qiskit_version_table"
   ]
  }
 ],
 "metadata": {
  "jupytext": {
   "formats": "ipynb,md"
  },
  "kernelspec": {
   "display_name": "qiskit-env",
   "language": "python",
   "name": "qiskit-env"
  },
  "language_info": {
   "codemirror_mode": {
    "name": "ipython",
    "version": 3
   },
   "file_extension": ".py",
   "mimetype": "text/x-python",
   "name": "python",
   "nbconvert_exporter": "python",
   "pygments_lexer": "ipython3",
   "version": "3.10.14"
  },
  "widgets": {
   "application/vnd.jupyter.widget-state+json": {
    "state": {},
    "version_major": 2,
    "version_minor": 0
   }
  }
 },
 "nbformat": 4,
 "nbformat_minor": 4
}
