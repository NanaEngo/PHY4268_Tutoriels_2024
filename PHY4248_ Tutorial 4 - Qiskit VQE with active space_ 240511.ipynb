{
 "cells": [
  {
   "cell_type": "markdown",
   "metadata": {},
   "source": [
    "# PHY4268 Tutorial 4 - Qiskit VQE with active space\n",
    "\n",
    "1. **S. G. Nana Engo**, serge.nana-engo@facsciences-uy1.cm\n",
    "    * Department of Physics, Faculty of Science, University of Yaounde I\n",
    "2. **J-P. Tchapet Njafa**, jean-pierre.tchapet-njafa@univ-maroua.cm\n",
    "    * Department of Physics, Faculty of Science, University of Maroua\n",
    "       \n",
    "May 2024"
   ]
  },
  {
   "cell_type": "markdown",
   "metadata": {},
   "source": [
    "A la fin de ce tutoriel, l'apprenant doit être capable d'utiliser Qiskit-nature pour\n",
    "1. calculer l'énergie de l'état fondamental d'un Hamiltonien quelconque;\n",
    "2. définir l'espace actif d'un système moléculaire autour du niveau de Fermi (Niveau HOMO-LUMO);\n",
    "3. calculer les énergies de l'état fondamental et des premiers états excités y afférent.\n"
   ]
  },
  {
   "cell_type": "markdown",
   "metadata": {},
   "source": [
    "## Hamiltonien quelconque\n",
    "\n",
    "On considère l'Hamiltonien \n",
    "$$\\mathtt{H} = 0.4\\mathbb{I}\\mathtt{X} + 0.6\\mathbb{I}\\mathtt{Z} + 0.8\\mathtt{XY}$$\n",
    "\n",
    "Pour un $|\\psi\\rangle$ donné nous voulons évaluer la valeur moyenne de cet Hamiltonien :\n",
    "\n",
    "$$\\langle \\mathtt{H} \\rangle = \\langle \\psi |\\mathtt{H}| \\psi \\rangle = 0.4 \\langle \\psi | \\mathbb{I}\\mathtt{X} |\\psi \\rangle + 0.6 \\langle \\psi | \\mathbb{I}\\mathtt{Z} | \\psi \\rangle + 0.8 \\langle \\psi | \\mathtt{XY} | \\psi \\rangle.$$\n",
    "\n",
    "Comme on peut voir la valeur moyenne $\\langle\\mathtt{H} \\rangle$ pourrait être calculée en ajoutant les valeurs moyennes de ses parties (termes de Pauli). L'algorithme fait exactement cela. Il construit un circuit quantique pour chaque terme de Pauli et calcule la valeur moyenne du terme de Pauli correspondant. Ensuite, l'algorithme additionne toutes les valeurs moyennes calculées des termes de Pauli et obtient la valeur moyenne de $\\mathtt{H}$.\n"
   ]
  },
  {
   "cell_type": "code",
   "execution_count": 1,
   "metadata": {},
   "outputs": [
    {
     "name": "stdout",
     "output_type": "stream",
     "text": [
      "SparsePauliOp(['IX', 'IZ', 'XY'],\n",
      "              coeffs=[0.4+0.j, 0.6+0.j, 0.8+0.j])\n",
      "\n",
      " The exact ground state energy is: -1.077032961426901\n"
     ]
    }
   ],
   "source": [
    "from qiskit.quantum_info import SparsePauliOp\n",
    "from qiskit_algorithms import NumPyMinimumEigensolver\n",
    "\n",
    "H = SparsePauliOp.from_list([(\"IX\", 0.4), (\"IZ\", 0.6), (\"XY\", 0.8)])\n",
    "print(H)\n",
    "\n",
    "exact_result = NumPyMinimumEigensolver().compute_minimum_eigenvalue(H)\n",
    "print(f'\\n The exact ground state energy is: {exact_result.eigenvalue}')"
   ]
  },
  {
   "cell_type": "markdown",
   "metadata": {},
   "source": [
    "Si on a un Hamiltonien \n",
    "$$\\mathtt{H} = a\\mathbb{I} + b\\mathtt{Z} + c\\mathtt{X} + d\\mathtt{Y},\\qquad a,b,c,d\\in\\mathbb{R},$$\n",
    "il faut faire appel à des nombres arbitraires pour a, b, c et d."
   ]
  },
  {
   "cell_type": "code",
   "execution_count": 2,
   "metadata": {},
   "outputs": [
    {
     "name": "stdout",
     "output_type": "stream",
     "text": [
      "SparsePauliOp(['I', 'Z', 'X', 'Y'],\n",
      "              coeffs=[1.74307808+0.j, 4.60193798+0.j, 8.1975257 +0.j, 0.39417021+0.j])\n",
      "\n",
      " The exact ground state energy is: -7.666099928802771\n"
     ]
    }
   ],
   "source": [
    "from numpy import random\n",
    "\n",
    "a, b, c, d = 10*random.sample(4)\n",
    "\n",
    "H = SparsePauliOp.from_list([(\"I\", a), (\"Z\", b), (\"X\", c), (\"Y\", d)])\n",
    "\n",
    "print(H)\n",
    "exact_result = NumPyMinimumEigensolver().compute_minimum_eigenvalue(H)\n",
    "print(f'\\n The exact ground state energy is: {exact_result.eigenvalue}')"
   ]
  },
  {
   "cell_type": "markdown",
   "metadata": {},
   "source": [
    "## Molécule d'eau\n",
    "\n",
    "### Hamiltionien électronique\n",
    "\n",
    "![Water_HF_references](Graphics/Water_HF_references.png)\n",
    "\n",
    "La molécule d'eau a un nombre total de dix électrons. Le déterminant de Slater résultant de l'occupation des cinq premières orbitales moléculaires d'énergie la plus basse avec deux électrons *appariés* dans chaque orbitale, l'un avec spin-up et l'autre avec spin-down, est dit être un état HF à couche fermée avec une *multiplicité de spin=1*. Alternativement, si nous définissons une occupation où les quatre premières orbitales sont doublement occupées et les deux suivantes sont occupées individuellement par des électrons *non appariés* avec spin-up, on dit qu'il s'agit d'un état HF à couche ouverte avec une *multiplicité de spin=3*.\n",
    "\n",
    "Il n'est pas superflue de rappeler à nouveau ce qui suit.\n",
    "\n",
    "* La multiplicité, que nous pouvons définir comme $(N_{\\rm unpaired}^e + 1)$ avec $N_{\\rm unpaired}^e$ le nombre d'électrons non appariés, détermine l'occupation des orbitales moléculaires dans les calculs HF. \n",
    "\n",
    "* Les orbitales moléculaires sont généralement représentées comme une combinaison linéaire de\n",
    "**orbitales atomiques**. Les coefficients de d'expansion dans la base atomique sont\n",
    "calculé en utilisant la méthode de Hartree-Fock (HF). Dans l'approximation HF, chaque électron de la molécule est traité comme une particule **indépendante** qui se déplace sous l'influence du Coulomb potentiel dû aux noyaux, et un champ moyen généré par tous les autres\n",
    "électrons. Les coefficients optimisés sont précisément ce dont on a besoin pour\n",
    "construire le Hamiltonien de la seconde quantification.\n",
    "\n",
    "### Active-Space reduction\n",
    "\n",
    "En général, les méthodes de corrélation d'électrons post-Hartree-Fock étendent la fonction d'état de la molécule autour de la solution Hartree-Fock, en ajoutant des déterminants de Slater, communément appelés **configurations**, qui résultent de l'excitation des électrons des orbitales HF occupées vers les orbitales inoccupées. Malgré le fait qu'il existe différentes techniques pour tronquer cette expansion, le nombre de configurations augmente de manière combinatoire avec le nombre d'électrons et de fonctions de base et la tâche de trouver les coefficients d'expansion de la fonction d'état devient numériquement insoluble si nous voulons inclure l'ensemble complet des orbitales moléculaires. .\n",
    "\n",
    "Afin de contourner l'explosion combinatoire, nous pouvons créer un espace actif en classant les orbitales moléculaires en orbitales doublement occupées, actives et externes :\n",
    "\n",
    "* les orbitales doublement occupées (**core orbitals**) sont toujours occupées par deux électrons;\n",
    "* les orbitales actives (**valence orbitals**) peuvent être occupées par zéro, un ou deux électrons.\n",
    "* les orbitales externes (**virtual orbitals**) ne sont jamais occupées.\n",
    "\n",
    "![Sketch_active_space](Graphics/Sketch_active_space.png)\n",
    "\n",
    "Dans cette approximation, un certain nombre d'*électrons actifs* peuvent peupler les *orbitales actives* à partir desquelles nous pouvons générer un espace de taille finie de déterminants de Slater.\n",
    "\n",
    "**Note**</br>\n",
    "Le nombre de *spin-orbitales actives* détermine le *nombre de qubits* requis pour effectuer des simulations quantiques de la structure électronique de la molécule.\n",
    "\n",
    "Pour le cas de la molécule d'eau décrite à l'aide d'un ensemble de base minimal, nous avons un total de dix électrons occupant les cinq premières des sept orbitales moléculaires dans l'état de référence HF. \n",
    "\n",
    "Avec `qiskit_nature.second_q.transformers.ActiveSpaceTransformer`, la réduction se fait en calculant l'opérateur de Fock inactif qui est défini comme\n",
    "$$ F^I_{pq} = h_{pq} + \\sum_i (2 g_{iipq} - g_{iqpi}),\n",
    "$$\n",
    "et l'énergie inactive qui est donnée par\n",
    "$$ E^I = \\sum_j h_{ji} + F^I_{jj} = \\frac12 \\sum_{ij} \\Big(h_{ij} + F^I_{jj}\\Big) D^I_{ij} ,$$\n",
    "où $i$ et $j$ itèrent sur les orbitales inactives. En utilisant l'opérateur de Fock inactif à la place des intégrales à un électron, la description de l'espace actif contient un potentiel effectif généré par les électrons inactifs. Par conséquent, cette méthode permet l'exclusion des électrons non centraux tout en conservant une description de haute qualité du système."
   ]
  },
  {
   "cell_type": "code",
   "execution_count": null,
   "metadata": {},
   "outputs": [],
   "source": [
    "try:\n",
    "    import qiskit_nature\n",
    "except:\n",
    "    %pip install qiskit-nature[pyscf] -U\n",
    "    import qiskit_nature\n",
    "    \n",
    "qiskit_nature.__version__"
   ]
  },
  {
   "cell_type": "code",
   "execution_count": 3,
   "metadata": {},
   "outputs": [],
   "source": [
    "from qiskit_nature.second_q.drivers import PySCFDriver \n",
    "\n",
    "H2O_driver = PySCFDriver(\n",
    "    atom='O 0.0 0.0 0.0; H 0.757 0.586 0.0; H -0.757 0.586 0.0',\n",
    "    basis=\"sto-3g\"\n",
    ")\n",
    "\n",
    "H2O_problem = H2O_driver.run()\n",
    "H2O_hamiltonian = H2O_problem.hamiltonian\n",
    "H2O_coefficients = H2O_hamiltonian.electronic_integrals\n",
    "H2O_fermionic_op = H2O_hamiltonian.second_q_op()\n"
   ]
  },
  {
   "cell_type": "code",
   "execution_count": 4,
   "metadata": {},
   "outputs": [
    {
     "name": "stdout",
     "output_type": "stream",
     "text": [
      "Molecule strcuture: Molecule:\n",
      "\tMultiplicity: 1\n",
      "\tCharge: 0\n",
      "\tUnit: Bohr\n",
      "\tGeometry:\n",
      "\t\tO\t(0.0, 0.0, 0.0)\n",
      "\t\tH\t(1.430522676295752, 1.1073795089951262, 0.0)\n",
      "\t\tH\t(-1.430522676295752, 1.1073795089951262, 0.0)\n",
      "\tMasses:\n",
      "\t\tO\t16\n",
      "\t\tH\t1\n",
      "\t\tH\t1\n",
      "Reference energy: -74.96294665653873\n",
      "Nuclear repulsion energy: 9.193913160623385\n",
      "Number of particules: (5, 5)\n",
      "Number of spatial orbitals: 7\n",
      "Number of molecular orbitals: 14\n",
      "Number of alpha electrons: 5\n",
      "Number of beta electrons: 5\n",
      "Occupations of the alpha-spin orbitals: [1. 1. 1. 1. 1. 0. 0.]\n"
     ]
    }
   ],
   "source": [
    "print(f'Molecule strcuture: {H2O_problem.molecule}')\n",
    "print(f'Reference energy: {H2O_problem.reference_energy}')\n",
    "print(f'Nuclear repulsion energy: {H2O_problem.nuclear_repulsion_energy}')\n",
    "print(f'Number of particules: {H2O_problem.num_particles}')\n",
    "print(f'Number of spatial orbitals: {H2O_problem.num_spatial_orbitals}')\n",
    "print(f'Number of molecular orbitals: {H2O_problem.num_spin_orbitals}')\n",
    "print(f'Number of alpha electrons: {H2O_problem.num_alpha}')\n",
    "print(f'Number of beta electrons: {H2O_problem.num_beta}')\n",
    "print(f'Occupations of the alpha-spin orbitals: {H2O_problem.orbital_occupations}')\n"
   ]
  },
  {
   "cell_type": "code",
   "execution_count": 5,
   "metadata": {},
   "outputs": [
    {
     "name": "stdout",
     "output_type": "stream",
     "text": [
      "HOMO and LUMO indexes are (Fermi surface) (4, 5)\n",
      "HOMO and LUMO energies are (-0.39124236612647956, 0.6055762144355985)\n",
      "HOMO-LUMO gap is 0.9968185805620781\n"
     ]
    }
   ],
   "source": [
    "\n",
    "print(f\"HOMO and LUMO indexes are (Fermi surface) {H2O_problem.num_alpha-1, H2O_problem.num_alpha}\")\n",
    "print(f\"HOMO and LUMO energies are {H2O_problem.orbital_energies[H2O_problem.num_alpha-1],H2O_problem.orbital_energies[H2O_problem.num_alpha]}\")\n",
    "print(f\"HOMO-LUMO gap is {abs(H2O_problem.orbital_energies[H2O_problem.num_alpha-1]-H2O_problem.orbital_energies[H2O_problem.num_alpha])}\")\n"
   ]
  },
  {
   "cell_type": "markdown",
   "metadata": {},
   "source": [
    "### 1.9.3. <a id='toc1_9_3_'></a>[`FreezeCoreTransformer`](#toc0_)\n",
    "\n",
    "Ce transformateur vous offre un moyen très simple de geler les _core orbitales_ du système moléculaire. Il nécessite que votre problème contienne l'attribut `.molecule` à partir duquel il peut extraire les informations atomiques nécessaires pour effectuer cette réduction d'espace de Hilbert.\n",
    "\n",
    "Appliquons `qiskit_nature.second_q.transformers.FreezeCoreTransforme` à notre molécule qui, dans ce cas, supprimera la seule orbitale d'énergie la plus basse (réduisant le nombre total d'orbitales spatiales de 7 à 6) et supprimant également les deux électrons de l'intérieur de cette orbitale (comme reflété par le nombre modifié de particules)."
   ]
  },
  {
   "cell_type": "code",
   "execution_count": 6,
   "metadata": {},
   "outputs": [
    {
     "name": "stdout",
     "output_type": "stream",
     "text": [
      "Number of particules with FC: (4, 4)\n",
      "Number of spatial orbitals with FC: 6\n"
     ]
    }
   ],
   "source": [
    "from qiskit_nature.second_q.transformers import FreezeCoreTransformer\n",
    "\n",
    "fc_transformer = FreezeCoreTransformer()\n",
    "\n",
    "fc_H2O_problem = fc_transformer.transform(H2O_problem)\n",
    "print(f'Number of particules with FC: {fc_H2O_problem.num_particles}')\n",
    "print(f'Number of spatial orbitals with FC: {fc_H2O_problem.num_spatial_orbitals}')\n"
   ]
  },
  {
   "cell_type": "markdown",
   "metadata": {},
   "source": [
    "Notez que cette transformation se traduira par un décalage d'énergie constant résultant de la suppression des électrons du noyau. Ce décalage est enregistré à l'intérieur de l'attribut `constants`\" de l'Hamiltonien."
   ]
  },
  {
   "cell_type": "code",
   "execution_count": 7,
   "metadata": {},
   "outputs": [
    {
     "name": "stdout",
     "output_type": "stream",
     "text": [
      "{'nuclear_repulsion_energy': 9.193913160623385, 'FreezeCoreTransformer': -60.66177520598538}\n"
     ]
    }
   ],
   "source": [
    "print(fc_H2O_problem.hamiltonian.constants)"
   ]
  },
  {
   "cell_type": "markdown",
   "metadata": {},
   "source": [
    "Vous pouvez fournir une liste d'indices orbitaux (se rappeler qu'on commence par 0) qui doivent être supprimés du système.\n",
    "\n",
    "> **Remarque :** Ces orbitales *doivent* être inoccupées, sinon vous subirez une erreur importante dans votre calcul. Vous devez absolument savoir quelles orbitales vous supprimez, car la suppression des mauvaises orbitales peut toujours entraîner de grandes erreurs si la dynamique des systèmes est modifiée de manière significative."
   ]
  },
  {
   "cell_type": "code",
   "execution_count": 8,
   "metadata": {},
   "outputs": [
    {
     "name": "stdout",
     "output_type": "stream",
     "text": [
      "(4, 4)\n",
      "4\n"
     ]
    }
   ],
   "source": [
    "fc_H2O_transformer = FreezeCoreTransformer(remove_orbitals=[5, 6])\n",
    "\n",
    "fc_H2O_problem = fc_H2O_transformer.transform(H2O_problem)\n",
    "print(fc_H2O_problem.num_particles)\n",
    "print(fc_H2O_problem.num_spatial_orbitals)"
   ]
  },
  {
   "cell_type": "markdown",
   "metadata": {},
   "source": [
    "### `ActiveSpaceTransformer`\n",
    "\n",
    "Ce transformateur généralise la réduction de l'espace de Hilbert qui est effectuée par le `FreezeCoreTransformer`. En termes simples, il vous permet de spécifier un _active space_ en sélectionnant le nombre d'électrons actifs et le nombre d'orbitales spatiales actives. Selon ces paramètres, l'espace actif sera choisi autour du niveau de Fermi.\n",
    "\n",
    "L'espace actif peut être configuré de l'une des manières suivantes via l'initialiseur :\n",
    "\n",
    "- lorsque seuls ``num_electrons`` et ``num_spatial_orbitals`` sont spécifiés, ces entiers indiquent respectivement le nombre d’électrons actifs et d’orbitales. L'espace actif sera puis être choisi autour du niveau de Fermi, ce qui donne un choix unique pour n'importe quelle paire de nombres. Néanmoins, les critères suivants doivent être remplis :\n",
    "\n",
    "   * le nombre restant d'électrons inactifs doit être un nombre pair et positif; \n",
    "   * le nombre d'orbitales actives ``num_spatial_orbitals`` ne doit pas dépasser le nombre total d'orbitales moins le nombre d'orbitales occupées par les électrons inactifs;\n",
    "\n",
    "- lorsque ``num_electrons`` est un tuple, cela doit indiquer le nombre de spins alpha et bêta électrons, respectivement. Les mêmes exigences que celles énumérées précédemment doivent être remplies;\n",
    "- enfin, il est possible de sélectionner un ensemble personnalisé d'orbitales actives via leurs indices en utilisant ``active_orbitals``. Ceci permet de sélectionner un espace actif qui n'est pas placé autour du niveau de Fermi comme décrit dans le premier cas ci-dessus. Lorsque vous utilisez cet argument de mot-clé, les critères suivants doivent être remplis *en plus* de ceux énumérés ci-dessus :\n",
    "\n",
    "   * la longueur de `active_orbitals` doit être égale à ``num_spatial_orbitals``. Noter que qiskit-nature de  **déduit pas** le nombre d'orbitales actives à partir de cette liste d'indices !\n",
    "\n",
    "   * lors de l'utilisation d'un tuple de listes pour indiquer les indices orbitaux de spin alpha et bêta séparément, les deux listes doivent remplir le critère précédent;\n",
    "\n",
    "   * le plus grand indice orbital ne peut **pas** dépasser le ``num_spatial_orbitals`` disponible."
   ]
  },
  {
   "cell_type": "code",
   "execution_count": 9,
   "metadata": {},
   "outputs": [
    {
     "name": "stdout",
     "output_type": "stream",
     "text": [
      "(2, 2)\n",
      "4\n"
     ]
    }
   ],
   "source": [
    "from qiskit_nature.second_q.transformers import ActiveSpaceTransformer\n",
    "\n",
    "# We want to reduce it to an active space of 4 electrons in 4 orbitals (HOMO-1,HOMO, LUMO, LUMO+1)\n",
    "as_transformer = ActiveSpaceTransformer(4, 4) # ActiveSpaceTransformer(num_electrons, num_spatial_orbitals) \n",
    "\n",
    "H2O_as_problem = as_transformer.transform(H2O_problem)\n",
    "print(H2O_as_problem.num_particles)\n",
    "print(H2O_as_problem.num_spatial_orbitals)"
   ]
  },
  {
   "cell_type": "markdown",
   "metadata": {},
   "source": [
    "`qiskit_nature.second_q.transformers.ActiveSpaceTransformer` permet aussi de spécifier manuellement les indices des orbitales actives. Cela vous permet de sélectionner manuellement des _active space_ qui ne se trouvent pas en permanence autour du niveau de Fermi."
   ]
  },
  {
   "cell_type": "code",
   "execution_count": 10,
   "metadata": {},
   "outputs": [
    {
     "name": "stdout",
     "output_type": "stream",
     "text": [
      "(1, 1)\n",
      "2\n"
     ]
    }
   ],
   "source": [
    "as_transformer = ActiveSpaceTransformer(2, 2, active_orbitals=[3, 6])\n",
    "\n",
    "H2O_as_problem = as_transformer.transform(H2O_problem)\n",
    "print(H2O_as_problem.num_particles)\n",
    "print(H2O_as_problem.num_spatial_orbitals)"
   ]
  },
  {
   "cell_type": "markdown",
   "metadata": {},
   "source": [
    "### Energie fondamentale de la molecule 1,2-Thiazole atom\n",
    "\n",
    "Comme vous le savez déjà, il est difficile d'obtenir le Hamiltonien qubit de cette molecule, au vue de sa taille. Nous allons donc utiliser `ActiveSpaceTransformer` pour réduire sa taille."
   ]
  },
  {
   "cell_type": "code",
   "execution_count": 11,
   "metadata": {},
   "outputs": [],
   "source": [
    "# Molecular structure\n",
    "driver = PySCFDriver(\n",
    "    atom=\"\"\"C      1.1291      0.0795     -0.5259\n",
    "  C      0.7115     -1.2207     -0.4748\n",
    "  H      2.0789      0.4171     -0.9381\n",
    "  H      1.2719     -2.0822     -0.8377\n",
    "  S     -0.0500      1.1306      0.1514\n",
    "  N     -1.1147     -0.1822      0.5074\n",
    "  C     -0.5926     -1.3347      0.1299\n",
    "  H     -1.1422     -2.2662      0.2851\"\"\", #C1,2-Thiazole atom\n",
    "    basis='STO-3G'\n",
    ")\n",
    "# Electronic structure problem\n",
    "problem = driver.run()"
   ]
  },
  {
   "cell_type": "code",
   "execution_count": 12,
   "metadata": {},
   "outputs": [
    {
     "name": "stdout",
     "output_type": "stream",
     "text": [
      "Molecule, basis: STO-3G, Hartree-Fock calculation\n",
      "Number of alpha electrons: 22\n",
      "Number of beta electrons: 22\n",
      "Number of spin orbitals: 64\n",
      "Spin orbitals occupation: [1. 1. 1. 1. 1. 1. 1. 1. 1. 1. 1. 1. 1. 1. 1. 1. 1. 1. 1. 1. 1. 1. 0. 0.\n",
      " 0. 0. 0. 0. 0. 0. 0. 0.]\n",
      "Spin orbitals energies: [-90.84544727 -15.32141747 -11.06407434 -11.04110113 -11.02753474\n",
      "  -8.73707496  -6.36878764  -6.36729122  -6.3646857   -1.19448958\n",
      "  -0.98941296  -0.92735272  -0.72288664  -0.69941879  -0.63361482\n",
      "  -0.51551986  -0.48793488  -0.48191303  -0.40782084  -0.34186567\n",
      "  -0.30009975  -0.27940707   0.23917557   0.37822271   0.38660052\n",
      "   0.50039675   0.61283911   0.69130018   0.76619362   0.824971\n",
      "   0.90816777   1.04637883]\n",
      "Molecule reference (HF) total energy: -560.8391624792085 Ha\n",
      "Molecule nuclear repulsion energy: 203.5391249740159 Ha\n"
     ]
    }
   ],
   "source": [
    "# Some properties\n",
    "print(f\"Molecule, basis: {driver.basis}, Hartree-Fock calculation\")\n",
    "print(f\"Number of alpha electrons: {problem.num_alpha}\")\n",
    "print(f\"Number of beta electrons: {problem.num_beta}\")\n",
    "print(f\"Number of spin orbitals: {problem.num_spin_orbitals}\")\n",
    "print(f\"Spin orbitals occupation: {problem.orbital_occupations}\")\n",
    "print(f\"Spin orbitals energies: {problem.orbital_energies}\")\n",
    "print(f\"Molecule reference (HF) total energy: {problem.reference_energy} Ha\")\n",
    "print(f\"Molecule nuclear repulsion energy: {problem.nuclear_repulsion_energy} Ha\")\n"
   ]
  },
  {
   "cell_type": "code",
   "execution_count": 13,
   "metadata": {},
   "outputs": [
    {
     "name": "stdout",
     "output_type": "stream",
     "text": [
      "HOMO and LUMO index are (21, 22)\n",
      "HOMO and LUMO energies in eV are(-0.2794070652303557, 6.50829876568331)\n",
      "HOMO-LUMO gap in eV is 14.111352274381838\n"
     ]
    }
   ],
   "source": [
    "# Fermi Level and properties\n",
    "from pyscf.data import nist\n",
    "au2ev = nist.HARTREE2EV\n",
    "\n",
    "print(f\"HOMO and LUMO index are {problem.num_alpha-1, problem.num_alpha}\")\n",
    "print(f\"HOMO and LUMO energies in eV are\\\n",
    "{problem.orbital_energies[problem.num_alpha-1],problem.orbital_energies[problem.num_alpha] * au2ev}\")\n",
    "print(f\"HOMO-LUMO gap in eV is \\\n",
    "{abs(problem.orbital_energies[problem.num_alpha-1]-problem.orbital_energies[problem.num_alpha]) * au2ev}\")"
   ]
  },
  {
   "cell_type": "code",
   "execution_count": 14,
   "metadata": {},
   "outputs": [
    {
     "data": {
      "text/plain": [
       "(22, 22)"
      ]
     },
     "execution_count": 14,
     "metadata": {},
     "output_type": "execute_result"
    }
   ],
   "source": [
    "problem.num_particles"
   ]
  },
  {
   "cell_type": "markdown",
   "metadata": {},
   "source": [
    "* Définition d'un espace actif autour du niveau de Fermi\n",
    "\n",
    "Nous allons choisir un espace actif avec 2 orbitale spatiale, c'est-à-dire HOMO, LUMO."
   ]
  },
  {
   "cell_type": "code",
   "execution_count": 15,
   "metadata": {},
   "outputs": [
    {
     "data": {
      "text/plain": [
       "(1, 1)"
      ]
     },
     "execution_count": 15,
     "metadata": {},
     "output_type": "execute_result"
    }
   ],
   "source": [
    "from qiskit_nature.second_q.transformers import ActiveSpaceTransformer\n",
    "problem = ActiveSpaceTransformer(2, 2).transform(problem) # avec (4,4) le calcul est plus précis mais très coûteux pour la QEOM! \n",
    "\n",
    "problem.num_particles"
   ]
  },
  {
   "cell_type": "markdown",
   "metadata": {},
   "source": [
    "On note que nous sommes partis de (22,22) à (1,1) particules alpha et beta!"
   ]
  },
  {
   "cell_type": "code",
   "execution_count": 16,
   "metadata": {},
   "outputs": [
    {
     "name": "stdout",
     "output_type": "stream",
     "text": [
      "Fermionic Operator\n",
      "number spin orbitals=4, number terms=72\n",
      "  0.1812900534247526 * ( +_0 +_0 -_0 -_0 )\n",
      "+ -0.004428544971481026 * ( +_0 +_0 -_1 -_0 )\n",
      "+ -0.004428544971481026 * ( +_0 +_1 -_0 -_0 )\n",
      "+ 0.1623711766323658 * ( +_0 +_1 -_1 -_0 )\n",
      "+ 0.1812900534247526 * ( +_0 +_2 -_2 -_0 )\n",
      "+ -0.004428544971481026 * ( +_0 +_2 -_3 -_0 )\n",
      "+ -0.004428544971481026 * ( +_0 +_3 -_2 -_0 )\n",
      "+ 0.1623711766323658 * ( +_0 +_3 -_3 -_0 )\n",
      "+ -0.004428544971481026 * ( +_0 +_0 -_0 -_1 )\n",
      "+ 0.03602023894810122 * ( +_0 +_0 -_1 -_1 )\n",
      "+ 0.03602023894810122 * ( +_0 +_1 -_0 -_1 )\n",
      "+ 0.004519880029270581 * ( +_0 +_1 -_1 -_1 )\n",
      "+ -0.004428544971481026 * ( +_0 +_2 -_2 -_1 )\n",
      "+ 0.03602023894810122 * ( +_0 +_2 -_3 -_1 )\n",
      "+ 0.03602023894810122 * ( +_0 +_3 -_2 -_1 )\n",
      "+ 0.004519880029270581 * ( +_0 +_3 -_3 -_1 )\n",
      "+ -0.004428544971481026 * ( +_1 +_0 -_0 -_0 )\n",
      "+ 0.03602023894810122 * ( +_1 +_0 -_1 -_0 )\n",
      "+ 0.03602023894810122 * ( +_1 +_1 -_0 -_0 )\n",
      "+ 0.004519880029270581 * ( +_1 +_1 -_1 -_0 )\n",
      "...\n"
     ]
    }
   ],
   "source": [
    "hamiltonian = problem.hamiltonian # Hamiltonien en 1ere quantification\n",
    "fermionic_op = hamiltonian.second_q_op() # Hamiltonien fermionique\n",
    "if len(fermionic_op) <= 20:\n",
    "    print(fermionic_op)\n",
    "else: # print the first 20 terms of the fermionic Hamiltonian operator of the molecule\n",
    "    print(\"\\n\".join(str(fermionic_op).splitlines()[:22] + [\"...\"]))"
   ]
  },
  {
   "cell_type": "markdown",
   "metadata": {},
   "source": [
    "* Hamiltonien qubit avec la réduction $\\mathbb{Z}_2$"
   ]
  },
  {
   "cell_type": "code",
   "execution_count": 17,
   "metadata": {},
   "outputs": [
    {
     "name": "stdout",
     "output_type": "stream",
     "text": [
      "Number of items in the PM Z2 Pauli list: 9\n",
      "SparsePauliOp(['II', 'IZ', 'ZI', 'ZZ', 'XI', 'XZ', 'IX', 'ZX', 'XX'],\n",
      "              coeffs=[-0.63429238+0.j,  0.15416119+0.j, -0.15416119+0.j, -0.02122088+0.j,\n",
      "  0.00894818+0.j,  0.00894843+0.j,  0.00894818+0.j, -0.00894843+0.j,\n",
      "  0.07204048+0.j])\n"
     ]
    }
   ],
   "source": [
    "from qiskit_nature.second_q.mappers import JordanWignerMapper, ParityMapper, BravyiKitaevMapper, TaperedQubitMapper\n",
    "\n",
    "mapper = ParityMapper(num_particles=problem.num_particles)\n",
    "mapper = problem.get_tapered_mapper(mapper)\n",
    "Hamil_z2qubit = mapper.map(fermionic_op)\n",
    "\n",
    "print(f\"Number of items in the PM Z2 Pauli list:\", len(Hamil_z2qubit))\n",
    "if len(Hamil_z2qubit) <= 10:\n",
    "    print(Hamil_z2qubit)\n",
    "else:\n",
    "    print(Hamil_z2qubit[0:10])"
   ]
  },
  {
   "cell_type": "markdown",
   "metadata": {},
   "source": [
    "* Circuit de l'état initial"
   ]
  },
  {
   "cell_type": "code",
   "execution_count": 18,
   "metadata": {},
   "outputs": [
    {
     "data": {
      "image/png": "[encoded data removed]",
      "text/plain": [
       "<Figure size 256.365x200.667 with 1 Axes>"
      ]
     },
     "execution_count": 18,
     "metadata": {},
     "output_type": "execute_result"
    }
   ],
   "source": [
    "from qiskit_nature.second_q.circuit.library import HartreeFock\n",
    "\n",
    "hf_state = HartreeFock(problem.num_spatial_orbitals, problem.num_particles, mapper)\n",
    "hf_state.draw('mpl',initial_state=True)"
   ]
  },
  {
   "cell_type": "markdown",
   "metadata": {},
   "source": [
    "Ce qui précède est une solution au **Devoir sur le Hamiltonien Qubit**.\n",
    "\n",
    "* Définisons le solveur VQE."
   ]
  },
  {
   "cell_type": "code",
   "execution_count": 19,
   "metadata": {},
   "outputs": [],
   "source": [
    "from qiskit_nature.second_q.circuit.library import UCCSD\n",
    "from qiskit.primitives import Estimator\n",
    "from qiskit_algorithms.optimizers import SLSQP\n",
    "from qiskit_algorithms import VQE\n",
    "import numpy as np\n",
    "\n",
    "\n",
    "ansatz = UCCSD(\n",
    "    problem.num_spatial_orbitals,\n",
    "    problem.num_particles,\n",
    "    mapper,\n",
    "    initial_state=HartreeFock(\n",
    "        problem.num_spatial_orbitals,\n",
    "        problem.num_particles,\n",
    "        mapper,\n",
    "    ),\n",
    ")\n",
    "vqe_solver = VQE(Estimator(), ansatz, SLSQP())\n",
    "vqe_solver.initial_point = np.zeros(ansatz.num_parameters) # Initialisation with zero-qubit"
   ]
  },
  {
   "cell_type": "markdown",
   "metadata": {},
   "source": [
    "* Calcul et résultats"
   ]
  },
  {
   "cell_type": "code",
   "execution_count": 20,
   "metadata": {},
   "outputs": [],
   "source": [
    "from qiskit_nature.second_q.algorithms import GroundStateEigensolver\n",
    "\n",
    "# Résultats VQE\n",
    "GS_VQE = GroundStateEigensolver(mapper, vqe_solver)\n",
    "GS_VQE_res = GS_VQE.solve(problem)"
   ]
  },
  {
   "cell_type": "code",
   "execution_count": 21,
   "metadata": {},
   "outputs": [],
   "source": [
    "# Resultats de la diagonalisation exacte\n",
    "from qiskit_algorithms import NumPyMinimumEigensolver\n",
    "\n",
    "numpy_solver = NumPyMinimumEigensolver()\n",
    "NP_calc = GroundStateEigensolver(mapper, numpy_solver)\n",
    "GS_NP_res = NP_calc.solve(problem)"
   ]
  },
  {
   "cell_type": "markdown",
   "metadata": {},
   "source": [
    "### Class `qiskit_nature_pyscf.PySCFGroundStateSolver`\n",
    "\n",
    "Nous allons maintenant utiliser le plugin `qiskit_nature_pyscf` qui couple PySCF et Qiskit Nature.  C'est un solveur [FCI](https://en.wikipedia.org/wiki/Full_configuration_interaction) (Full Configuration Interaction) basé sur Qiskit-Nature qui permet à un utilisateur de PySCF (Python-based Simulations of Chemistry Framework) de tirer parti des algorithmes quantique implémentés dans Qiskit-Nature pour être utilisés à la place de leurs homologues classiques (dans un esprit similaire à l'intégration NWChemEx).\n",
    "\n",
    "La classe `qiskit_nature_pyscf.PySCFGroundStateSolver` s'appuie sur le module ``fci`` de PySCF. Il n'utilise aucun algorithmes quantiques (puisqu'il les remplace dans le workflow de Qiskit-Naure) mais fournit à la place un utilitaire pour déboguer les workflows de calcul classique basés sur Qiskit-Nature. \n",
    "\n",
    "Plus important encore, il fournit une implémentation plus efficace de ce que Qiskit-Nature réalise en utilisant la classe `qiskit_algorithms.NumPyMinimumEigensolver` en combinaison avec un ``filter_criterion``. Pour les états fondamentaux de spin autres que le singlet, l'utilisation des composants Qiskit-Nature est beaucoup plus complexe, alors que cette classe fournit une alternative facile à utiliser."
   ]
  },
  {
   "cell_type": "code",
   "execution_count": 22,
   "metadata": {},
   "outputs": [],
   "source": [
    "from pyscf import fci\n",
    "try: \n",
    "    from qiskit_nature_pyscf import PySCFGroundStateSolver\n",
    "except:\n",
    "    %pip install qiskit-nature-pyscf\n",
    "    from qiskit_nature_pyscf import PySCFGroundStateSolver\n",
    "    \n",
    "au2kcalc = 627.509474"
   ]
  },
  {
   "cell_type": "code",
   "execution_count": 23,
   "metadata": {},
   "outputs": [
    {
     "name": "stdout",
     "output_type": "stream",
     "text": [
      "=== GROUND STATE ENERGY ===\n",
      " \n",
      "* Electronic ground state energy (Hartree): -764.386616194496\n",
      "  - computed part:      -0.92972261951\n",
      "  - ActiveSpaceTransformer extracted energy part: -763.456893574986\n",
      "~ Nuclear repulsion energy (Hartree): 203.539124974016\n",
      "> Total ground state energy (Hartree): -560.847491220481\n",
      " \n",
      "=== MEASURED OBSERVABLES ===\n",
      " \n",
      "  0:  # Particles: 2.000 S: 0.000 S^2: 0.000 M: 0.000\n"
     ]
    }
   ],
   "source": [
    "fci_solver = fci.direct_uhf.FCI()\n",
    "solver_pyscf = PySCFGroundStateSolver(fci_solver)\n",
    "\n",
    "GS_FCI_res = solver_pyscf.solve(problem)\n",
    "print(GS_FCI_res)"
   ]
  },
  {
   "cell_type": "code",
   "execution_count": 24,
   "metadata": {},
   "outputs": [
    {
     "name": "stdout",
     "output_type": "stream",
     "text": [
      "error between the two exact calculations, 0.0 kcal/mol\n"
     ]
    }
   ],
   "source": [
    "print(f'error between the two exact calculations, {abs(GS_FCI_res.total_energies[0] - GS_NP_res.total_energies[0]) * au2kcalc} kcal/mol')"
   ]
  },
  {
   "cell_type": "markdown",
   "metadata": {},
   "source": [
    "### Visualisation des résultats"
   ]
  },
  {
   "cell_type": "code",
   "execution_count": 25,
   "metadata": {},
   "outputs": [
    {
     "data": {
      "text/html": [
       "<div>\n",
       "<style scoped>\n",
       "    .dataframe tbody tr th:only-of-type {\n",
       "        vertical-align: middle;\n",
       "    }\n",
       "\n",
       "    .dataframe tbody tr th {\n",
       "        vertical-align: top;\n",
       "    }\n",
       "\n",
       "    .dataframe thead th {\n",
       "        text-align: right;\n",
       "    }\n",
       "</style>\n",
       "<table border=\"1\" class=\"dataframe\">\n",
       "  <thead>\n",
       "    <tr style=\"text-align: right;\">\n",
       "      <th></th>\n",
       "      <th>FCI</th>\n",
       "      <th>Numpy</th>\n",
       "      <th>VQE</th>\n",
       "      <th>HF</th>\n",
       "    </tr>\n",
       "  </thead>\n",
       "  <tbody>\n",
       "    <tr>\n",
       "      <th>E_tot (a.u.)</th>\n",
       "      <td>-560.847491</td>\n",
       "      <td>-560.847491</td>\n",
       "      <td>-560.847491</td>\n",
       "      <td>-560.839162</td>\n",
       "    </tr>\n",
       "    <tr>\n",
       "      <th>Error (kcal/mol)</th>\n",
       "      <td></td>\n",
       "      <td></td>\n",
       "      <td>0.000139</td>\n",
       "      <td>5.226364</td>\n",
       "    </tr>\n",
       "  </tbody>\n",
       "</table>\n",
       "</div>"
      ],
      "text/plain": [
       "                         FCI       Numpy         VQE          HF\n",
       "E_tot (a.u.)     -560.847491 -560.847491 -560.847491 -560.839162\n",
       "Error (kcal/mol)                            0.000139    5.226364"
      ]
     },
     "execution_count": 25,
     "metadata": {},
     "output_type": "execute_result"
    }
   ],
   "source": [
    "error_VQE_NP = abs(GS_VQE_res.total_energies[0] - GS_NP_res.total_energies[0]) * au2kcalc\n",
    "error_HF_NP = abs(GS_VQE_res.hartree_fock_energy - GS_NP_res.total_energies[0]) * au2kcalc\n",
    "\n",
    "import pandas as pd\n",
    "\n",
    "# Create the results dataframe\n",
    "dict_res = {'FCI': [GS_FCI_res.total_energies[0], ''],\n",
    "            'Numpy': [GS_NP_res.total_energies[0], ''],\n",
    "            'VQE': [GS_VQE_res.total_energies[0], error_VQE_NP],\n",
    "            'HF': [GS_VQE_res.hartree_fock_energy, error_HF_NP]}\n",
    "df_GS = pd.DataFrame(dict_res, index = ['E_tot (a.u.)', 'Error (kcal/mol)'])\n",
    "\n",
    "df_GS\n"
   ]
  },
  {
   "cell_type": "markdown",
   "metadata": {},
   "source": [
    "## Etats excités\n",
    "\n",
    "Calculons maintenant les énergies des états excités de notre Hamiltonien moléculaire et en déduisons la \n",
    "* la bande interdite ou l'écart entre le niveau fondamental $S_0$ et le premier niveau excité (le niveau triplet $T_1$),\n",
    "* et et de l'énergie de fluorescence ou l'écart entre le niveau fondamental $S_0$ et le premier niveau excité singulet $S_1$.\n",
    "\n",
    "![Molecule_HOMO-LUMO_diagram](Graphics/Molecule_HOMO-LUMO_diagram.png)\n"
   ]
  },
  {
   "cell_type": "markdown",
   "metadata": {},
   "source": [
    "### Calcul avec `ExcitedStatesEigensolver`\n",
    "\n",
    "Effectuons les calculs avec `NumPyEigensolver` avec le critère de filtre par défaut activé."
   ]
  },
  {
   "cell_type": "code",
   "execution_count": 26,
   "metadata": {},
   "outputs": [
    {
     "name": "stdout",
     "output_type": "stream",
     "text": [
      "=== GROUND STATE ENERGY ===\n",
      " \n",
      "* Electronic ground state energy (Hartree): -764.386616194496\n",
      "  - computed part:      -0.92972261951\n",
      "  - ActiveSpaceTransformer extracted energy part: -763.456893574986\n",
      "~ Nuclear repulsion energy (Hartree): 203.539124974016\n",
      "> Total ground state energy (Hartree): -560.847491220481\n",
      " \n",
      "=== EXCITED STATE ENERGIES ===\n",
      " \n",
      "  1: \n",
      "* Electronic excited state energy (Hartree): -764.042527949929\n",
      "> Total excited state energy (Hartree): -560.503402975914\n",
      "  2: \n",
      "* Electronic excited state energy (Hartree): -763.751152354532\n",
      "> Total excited state energy (Hartree): -560.212027380516\n",
      " \n",
      "=== MEASURED OBSERVABLES ===\n",
      " \n",
      "  0:  # Particles: 2.000 S: 0.000 S^2: 0.000 M: 0.000\n",
      "  1:  # Particles: 2.000 S: 0.000 S^2: 0.000 M: 0.000\n",
      "  2:  # Particles: 2.000 S: 0.000 S^2: 0.000 M: 0.000\n",
      " \n",
      "=== DIPOLE MOMENTS ===\n",
      " \n",
      "~ Nuclear dipole moment (a.u.): [2.06679346  -3.72748478  -1.40085398]\n",
      " \n",
      "  0: \n",
      "  * Electronic dipole moment (a.u.): [1.333926040468  -3.680895184371  -1.048368724531]\n",
      "    - computed part:      [0.908604033372  -0.041479961326  -0.434801248208]\n",
      "    - ActiveSpaceTransformer extracted energy part: [0.425322007096  -3.639415223044  -0.613567476323]\n",
      "  > Dipole moment (a.u.): [0.732867419532  -0.046589595629  -0.352485255469]  Total: 0.814561907012\n",
      "                 (debye): [1.862763001459  -0.118418929097  -0.89592806959]  Total: 2.070409657109\n",
      " \n",
      "  1: \n",
      "  * Electronic dipole moment (a.u.): [1.075831018459  -3.735460944633  -0.932369797023]\n",
      "    - computed part:      [0.650509011363  -0.096045721588  -0.3188023207]\n",
      "    - ActiveSpaceTransformer extracted energy part: [0.425322007096  -3.639415223044  -0.613567476323]\n",
      "  > Dipole moment (a.u.): [0.990962441541  0.007976164633  -0.468484182977]  Total: 1.096151271243\n",
      "                 (debye): [2.518775050904  0.020273386393  -1.190767906392]  Total: 2.786138362348\n",
      " \n",
      "  2: \n",
      "  * Electronic dipole moment (a.u.): [0.336559153605  -4.820053239997  -0.70475560637]\n",
      "    - computed part:      [-0.088762853491  -1.180638016953  -0.091188130047]\n",
      "    - ActiveSpaceTransformer extracted energy part: [0.425322007096  -3.639415223044  -0.613567476323]\n",
      "  > Dipole moment (a.u.): [1.730234306395  1.092568459997  -0.69609837363]  Total: 2.161473927804\n",
      "                 (debye): [4.397816527121  2.777031765367  -1.769305417617]  Total: 5.49391820952\n",
      " \n"
     ]
    }
   ],
   "source": [
    "from qiskit_nature.second_q.algorithms import ExcitedStatesEigensolver\n",
    "from qiskit_algorithms import NumPyEigensolver\n",
    "\n",
    "numpy_solver = NumPyEigensolver(k=4, filter_criterion=problem.get_default_filter_criterion())\n",
    "\n",
    "numpy_ES_solver = ExcitedStatesEigensolver(mapper, numpy_solver)\n",
    "NP_ES = numpy_ES_solver.solve(problem)\n",
    "\n",
    "print(NP_ES)"
   ]
  },
  {
   "cell_type": "code",
   "execution_count": 27,
   "metadata": {},
   "outputs": [
    {
     "name": "stdout",
     "output_type": "stream",
     "text": [
      "Total Numpy ES energy T1 = -560.5034029759136 a.u.\n",
      "Total Numpy ES energy S1 = -560.2120273805162 a.u.\n",
      "The bandgap obtained form Numpy ES calculations is : -15.935923043160782 eV\n",
      "The fluorescence energy obtained form Numpy ES calculations is : -8.007189239995675 eV\n"
     ]
    }
   ],
   "source": [
    "ET1_NP = NP_ES.total_energies[1]\n",
    "ES1_NP = NP_ES.total_energies[2]\n",
    "NP_gap = NP_ES.computed_energies[1] * au2ev\n",
    "NP_f_energy = NP_ES.computed_energies[2] * au2ev\n",
    "\n",
    "print(f'Total Numpy ES energy T1 = {ET1_NP} a.u.')\n",
    "print(f'Total Numpy ES energy S1 = {ES1_NP} a.u.')\n",
    "print(f'The bandgap obtained form Numpy ES calculations is : {NP_gap} eV')\n",
    "print(f'The fluorescence energy obtained form Numpy ES calculations is : {NP_f_energy} eV')\n"
   ]
  },
  {
   "cell_type": "code",
   "execution_count": 28,
   "metadata": {},
   "outputs": [
    {
     "data": {
      "text/html": [
       "<div>\n",
       "<style scoped>\n",
       "    .dataframe tbody tr th:only-of-type {\n",
       "        vertical-align: middle;\n",
       "    }\n",
       "\n",
       "    .dataframe tbody tr th {\n",
       "        vertical-align: top;\n",
       "    }\n",
       "\n",
       "    .dataframe thead th {\n",
       "        text-align: right;\n",
       "    }\n",
       "</style>\n",
       "<table border=\"1\" class=\"dataframe\">\n",
       "  <thead>\n",
       "    <tr style=\"text-align: right;\">\n",
       "      <th></th>\n",
       "      <th>Numpy ES</th>\n",
       "    </tr>\n",
       "  </thead>\n",
       "  <tbody>\n",
       "    <tr>\n",
       "      <th>ES energy T1 (a.u.)</th>\n",
       "      <td>-560.503403</td>\n",
       "    </tr>\n",
       "    <tr>\n",
       "      <th>ES energy S1 (a.u.)</th>\n",
       "      <td>-560.212027</td>\n",
       "    </tr>\n",
       "    <tr>\n",
       "      <th>f_energy ES1-ES0 (eV)</th>\n",
       "      <td>-8.007189</td>\n",
       "    </tr>\n",
       "    <tr>\n",
       "      <th>Gap ES1 - ET1 (eV)</th>\n",
       "      <td>-15.935923</td>\n",
       "    </tr>\n",
       "  </tbody>\n",
       "</table>\n",
       "</div>"
      ],
      "text/plain": [
       "                         Numpy ES\n",
       "ES energy T1 (a.u.)   -560.503403\n",
       "ES energy S1 (a.u.)   -560.212027\n",
       "f_energy ES1-ES0 (eV)   -8.007189\n",
       "Gap ES1 - ET1 (eV)     -15.935923"
      ]
     },
     "execution_count": 28,
     "metadata": {},
     "output_type": "execute_result"
    }
   ],
   "source": [
    "# Create the results dataframe\n",
    "list_results_NP = [ET1_NP, ES1_NP, NP_f_energy, NP_gap]\n",
    "dict_results_NP = {'Numpy ES': list_results_NP}\n",
    "df_NP = pd.DataFrame(dict_results_NP,\n",
    "                    index = ['ES energy T1 (a.u.)', 'ES energy S1 (a.u.)',\n",
    "                            'f_energy ES1-ES0 (eV)', 'Gap ES1 - ET1 (eV)'])\n",
    "\n",
    "df_NP"
   ]
  },
  {
   "cell_type": "markdown",
   "metadata": {},
   "source": [
    "### Calculs avec `PySCFGroundStateSolver` "
   ]
  },
  {
   "cell_type": "code",
   "execution_count": 29,
   "metadata": {},
   "outputs": [
    {
     "name": "stdout",
     "output_type": "stream",
     "text": [
      "=== GROUND STATE ENERGY ===\n",
      " \n",
      "* Electronic ground state energy (Hartree): -764.386616194496\n",
      "  - computed part:      -0.92972261951\n",
      "  - ActiveSpaceTransformer extracted energy part: -763.456893574986\n",
      "~ Nuclear repulsion energy (Hartree): 203.539124974016\n",
      "> Total ground state energy (Hartree): -560.847491220481\n",
      " \n",
      "=== EXCITED STATE ENERGIES ===\n",
      " \n",
      "  1: \n",
      "* Electronic excited state energy (Hartree): -764.184447305041\n",
      "> Total excited state energy (Hartree): -560.645322331025\n",
      "  2: \n",
      "* Electronic excited state energy (Hartree): -764.042527949929\n",
      "> Total excited state energy (Hartree): -560.503402975914\n",
      "  3: \n",
      "* Electronic excited state energy (Hartree): -763.751152354532\n",
      "> Total excited state energy (Hartree): -560.212027380516\n",
      " \n",
      "=== MEASURED OBSERVABLES ===\n",
      " \n",
      "  0:  # Particles: 2.000 S: 0.000 S^2: 0.000 M: 0.000\n",
      "  1:  # Particles: 2.000 S: 1.000 S^2: 2.000 M: 0.000\n",
      "  2:  # Particles: 2.000 S: 0.000 S^2: 0.000 M: 0.000\n",
      "  3:  # Particles: 2.000 S: 0.000 S^2: 0.000 M: 0.000\n"
     ]
    }
   ],
   "source": [
    "fci_solver.nroots = 4\n",
    "solver_fci = PySCFGroundStateSolver(fci_solver)\n",
    "FCI_ES = solver_fci.solve(problem)\n",
    "print(FCI_ES)"
   ]
  },
  {
   "cell_type": "code",
   "execution_count": 30,
   "metadata": {},
   "outputs": [
    {
     "name": "stdout",
     "output_type": "stream",
     "text": [
      "Total FCI ES energy T1 = -560.6453223310253 a.u.\n",
      "Total FCI ES energy S1 = -560.5034029759136 a.u.\n",
      "The bandgap obtained form FCI ES calculations is : -19.79774539881651 eV\n",
      "The fluorescence energy obtained form FCI ES calculations is : -15.935923043160765 eV\n"
     ]
    }
   ],
   "source": [
    "ET1_FCI = FCI_ES.total_energies[1]\n",
    "ES1_FCI = FCI_ES.total_energies[2]\n",
    "FCI_gap = FCI_ES.computed_energies[1] * au2ev\n",
    "FCI_f_energy = FCI_ES.computed_energies[2] * au2ev\n",
    "\n",
    "print(f'Total FCI ES energy T1 = {ET1_FCI} a.u.')\n",
    "print(f'Total FCI ES energy S1 = {ES1_FCI} a.u.')\n",
    "print(f'The bandgap obtained form FCI ES calculations is : {FCI_gap} eV')\n",
    "print(f'The fluorescence energy obtained form FCI ES calculations is : {FCI_f_energy} eV')"
   ]
  },
  {
   "cell_type": "code",
   "execution_count": 31,
   "metadata": {},
   "outputs": [
    {
     "data": {
      "text/html": [
       "<div>\n",
       "<style scoped>\n",
       "    .dataframe tbody tr th:only-of-type {\n",
       "        vertical-align: middle;\n",
       "    }\n",
       "\n",
       "    .dataframe tbody tr th {\n",
       "        vertical-align: top;\n",
       "    }\n",
       "\n",
       "    .dataframe thead th {\n",
       "        text-align: right;\n",
       "    }\n",
       "</style>\n",
       "<table border=\"1\" class=\"dataframe\">\n",
       "  <thead>\n",
       "    <tr style=\"text-align: right;\">\n",
       "      <th></th>\n",
       "      <th>FCI ES</th>\n",
       "    </tr>\n",
       "  </thead>\n",
       "  <tbody>\n",
       "    <tr>\n",
       "      <th>ES energy T1 (a.u.)</th>\n",
       "      <td>-560.645322</td>\n",
       "    </tr>\n",
       "    <tr>\n",
       "      <th>ES energy S1 (a.u.)</th>\n",
       "      <td>-560.503403</td>\n",
       "    </tr>\n",
       "    <tr>\n",
       "      <th>f_energy ES1-ES0 (eV)</th>\n",
       "      <td>-15.935923</td>\n",
       "    </tr>\n",
       "    <tr>\n",
       "      <th>Gap ES1 - ET1 (eV)</th>\n",
       "      <td>-19.797745</td>\n",
       "    </tr>\n",
       "  </tbody>\n",
       "</table>\n",
       "</div>"
      ],
      "text/plain": [
       "                           FCI ES\n",
       "ES energy T1 (a.u.)   -560.645322\n",
       "ES energy S1 (a.u.)   -560.503403\n",
       "f_energy ES1-ES0 (eV)  -15.935923\n",
       "Gap ES1 - ET1 (eV)     -19.797745"
      ]
     },
     "execution_count": 31,
     "metadata": {},
     "output_type": "execute_result"
    }
   ],
   "source": [
    "# Create the results dataframe\n",
    "list_results_FCI = [ET1_FCI, ES1_FCI, FCI_f_energy, FCI_gap]\n",
    "dict_results_FCI = {'FCI ES': list_results_FCI}\n",
    "df_FCI = pd.DataFrame(dict_results_FCI,\n",
    "                    index = ['ES energy T1 (a.u.)', 'ES energy S1 (a.u.)',\n",
    "                            'f_energy ES1-ES0 (eV)', 'Gap ES1 - ET1 (eV)'])\n",
    "\n",
    "df_FCI"
   ]
  },
  {
   "cell_type": "markdown",
   "metadata": {},
   "source": [
    "### Calculs avec `QEOM`\n",
    "\n",
    " Puisque nous avons déjà défini le système, nous avons besoin d'accéder à l'énergie d'excitation en utilisant l'[algorithme quantique d'équation du mouvement (qEOM)](https://arxiv.org/abs/1910.12890).\n",
    "\n",
    "La classe `qiskit_nature.second_q.algorithms.QEOM` implémente cet algorithme qui approxime les propriétés de l'état excité d'un problème en utilisant des mesures supplémentaires sur l'état fondamental fournies par un objet `GroundStateSolver`. La précision de la méthode `GroundStateSolver.solve` pour l'approximation de l'état fondamental affecte directement la précision de l'algorithme qEOM pour le même problème. Les excitations sont utilisées pour construire un sous-espace linéaire dans lequel un problème de valeurs propres pour l'Hamiltonien projeté sera résolu. Cette méthode fonctionne généralement bien pour calculer les états excités les plus bas d'un problème. Les énergies des états excités sont calculées par défaut dans cet algorithme pour tous les états excités."
   ]
  },
  {
   "cell_type": "code",
   "execution_count": 32,
   "metadata": {},
   "outputs": [
    {
     "name": "stdout",
     "output_type": "stream",
     "text": [
      "=== GROUND STATE ENERGY ===\n",
      " \n",
      "* Electronic ground state energy (Hartree): -764.386615973465\n",
      "  - computed part:      -0.929722398479\n",
      "  - ActiveSpaceTransformer extracted energy part: -763.456893574986\n",
      "~ Nuclear repulsion energy (Hartree): 203.539124974016\n",
      "> Total ground state energy (Hartree): -560.84749099945\n",
      " \n",
      "=== EXCITED STATE ENERGIES ===\n",
      " \n",
      "  1: \n",
      "* Electronic excited state energy (Hartree): -764.184463646073\n",
      "> Total excited state energy (Hartree): -560.645338672058\n",
      "  2: \n",
      "* Electronic excited state energy (Hartree): -764.042573667337\n",
      "> Total excited state energy (Hartree): -560.503448693321\n",
      "  3: \n",
      "* Electronic excited state energy (Hartree): -763.751142200251\n",
      "> Total excited state energy (Hartree): -560.212017226235\n",
      " \n",
      "=== MEASURED OBSERVABLES ===\n",
      " \n",
      "  0:  # Particles: 2.000 S: 0.000 S^2: 0.000 M: 0.000\n",
      "  1:  # Particles: 2.000 S: 1.000 S^2: 2.000 M: 0.000\n",
      "  2:  # Particles: 2.000 S: 0.000 S^2: -0.000 M: 0.000\n",
      "  3:  # Particles: 2.000 S: 0.000 S^2: 0.000 M: 0.000\n",
      " \n",
      "=== DIPOLE MOMENTS ===\n",
      " \n",
      "~ Nuclear dipole moment (a.u.): [2.06679346  -3.72748478  -1.40085398]\n",
      " \n",
      "  0: \n",
      "  * Electronic dipole moment (a.u.): [1.335056409981  -3.678535318606  -1.048637675225]\n",
      "    - computed part:      [0.909734402885  -0.039120095562  -0.435070198902]\n",
      "    - ActiveSpaceTransformer extracted energy part: [0.425322007096  -3.639415223044  -0.613567476323]\n",
      "  > Dipole moment (a.u.): [0.731737050019  -0.048949461394  -0.352216304775]  Total: 0.813567136437\n",
      "                 (debye): [1.859889889009  -0.12441710901  -0.895244465178]  Total: 2.067881202749\n",
      " \n",
      "  1: \n",
      "  * Electronic dipole moment (a.u.): [0.915438749274  -4.078803133546  -0.895164716067]\n",
      "    - computed part:      [0.490116742179  -0.439387910502  -0.281597239744]\n",
      "    - ActiveSpaceTransformer extracted energy part: [0.425322007096  -3.639415223044  -0.613567476323]\n",
      "  > Dipole moment (a.u.): [1.151354710726  0.351318353546  -0.505689263933]  Total: 1.30566607029\n",
      "                 (debye): [2.926451496595  0.892962101027  -1.285333780687]  Total: 3.318671813176\n",
      " \n",
      "  2: \n",
      "  * Electronic dipole moment (a.u.): [1.075571519914  -3.735945446357  -0.932301600153]\n",
      "    - computed part:      [0.650249512819  -0.096530223312  -0.31873412383]\n",
      "    - ActiveSpaceTransformer extracted energy part: [0.425322007096  -3.639415223044  -0.613567476323]\n",
      "  > Dipole moment (a.u.): [0.991221940086  0.008460666357  -0.468552379847]  Total: 1.096418647252\n",
      "                 (debye): [2.519434630352  0.021504866824  -1.190941245529]  Total: 2.786817964312\n",
      " \n",
      "  3: \n",
      "  * Electronic dipole moment (a.u.): [0.335688299681  -4.821928589738  -0.704554859003]\n",
      "    - computed part:      [-0.089633707414  -1.182513366694  -0.09098738268]\n",
      "    - ActiveSpaceTransformer extracted energy part: [0.425322007096  -3.639415223044  -0.613567476323]\n",
      "  > Dipole moment (a.u.): [1.731105160319  1.094443809738  -0.696299120997]  Total: 2.16318394841\n",
      "                 (debye): [4.4000300168  2.781798428504  -1.769815666481]  Total: 5.498264647949\n",
      " \n"
     ]
    }
   ],
   "source": [
    "from qiskit_nature.second_q.algorithms import QEOM\n",
    "from qiskit_nature.second_q.algorithms.excited_states_solvers.qeom import EvaluationRule\n",
    "\n",
    "qeom_ES_solver = QEOM(GS_VQE, Estimator(), \"sd\", EvaluationRule.ALL)\n",
    "qeom_ES = qeom_ES_solver.solve(problem)\n",
    "print(qeom_ES)"
   ]
  },
  {
   "cell_type": "code",
   "execution_count": 33,
   "metadata": {},
   "outputs": [
    {
     "name": "stdout",
     "output_type": "stream",
     "text": [
      "Total QEOM ES energy T1 = -560.6453386720576 a.u.\n",
      "Total QEOM ES energy S1 = -560.5034486933213 a.u.\n",
      "The bandgap obtained form Py ES calculations is : -19.798190060955108 eV\n",
      "The fluorescence energy obtained form Py ES calculations is : -15.93716707719029 eV\n"
     ]
    }
   ],
   "source": [
    "ET1 = qeom_ES.total_energies[1]\n",
    "ES1 = qeom_ES.total_energies[2]\n",
    "qeom_gap = qeom_ES.computed_energies[1] * au2ev\n",
    "qeom_f_energy = qeom_ES.computed_energies[2] * au2ev\n",
    "\n",
    "print(f'Total QEOM ES energy T1 = {ET1} a.u.')\n",
    "print(f'Total QEOM ES energy S1 = {ES1} a.u.')\n",
    "print(f'The bandgap obtained form Py ES calculations is : {qeom_gap} eV')\n",
    "print(f'The fluorescence energy obtained form Py ES calculations is : {qeom_f_energy} eV')"
   ]
  },
  {
   "cell_type": "code",
   "execution_count": 34,
   "metadata": {},
   "outputs": [
    {
     "data": {
      "text/html": [
       "<div>\n",
       "<style scoped>\n",
       "    .dataframe tbody tr th:only-of-type {\n",
       "        vertical-align: middle;\n",
       "    }\n",
       "\n",
       "    .dataframe tbody tr th {\n",
       "        vertical-align: top;\n",
       "    }\n",
       "\n",
       "    .dataframe thead th {\n",
       "        text-align: right;\n",
       "    }\n",
       "</style>\n",
       "<table border=\"1\" class=\"dataframe\">\n",
       "  <thead>\n",
       "    <tr style=\"text-align: right;\">\n",
       "      <th></th>\n",
       "      <th>QEOM</th>\n",
       "    </tr>\n",
       "  </thead>\n",
       "  <tbody>\n",
       "    <tr>\n",
       "      <th>ES energy T1 (a.u.)</th>\n",
       "      <td>-560.645339</td>\n",
       "    </tr>\n",
       "    <tr>\n",
       "      <th>ES energy S1 (a.u.)</th>\n",
       "      <td>-560.503449</td>\n",
       "    </tr>\n",
       "    <tr>\n",
       "      <th>f_energy ES1-ES0 (eV)</th>\n",
       "      <td>-15.937167</td>\n",
       "    </tr>\n",
       "    <tr>\n",
       "      <th>Gap ES1 - ET1 (eV)</th>\n",
       "      <td>-19.798190</td>\n",
       "    </tr>\n",
       "  </tbody>\n",
       "</table>\n",
       "</div>"
      ],
      "text/plain": [
       "                             QEOM\n",
       "ES energy T1 (a.u.)   -560.645339\n",
       "ES energy S1 (a.u.)   -560.503449\n",
       "f_energy ES1-ES0 (eV)  -15.937167\n",
       "Gap ES1 - ET1 (eV)     -19.798190"
      ]
     },
     "execution_count": 34,
     "metadata": {},
     "output_type": "execute_result"
    }
   ],
   "source": [
    "# Create the results dataframe\n",
    "list_results_QEOM = [ET1, ES1, qeom_f_energy, qeom_gap]\n",
    "dict_results_QEOM = {'QEOM': list_results_QEOM}\n",
    "df_QEOM = pd.DataFrame(dict_results_QEOM,\n",
    "                    index = ['ES energy T1 (a.u.)', 'ES energy S1 (a.u.)',\n",
    "                            'f_energy ES1-ES0 (eV)', 'Gap ES1 - ET1 (eV)'])\n",
    "\n",
    "df_QEOM"
   ]
  },
  {
   "cell_type": "markdown",
   "metadata": {},
   "source": [
    "### Synthèse des résultats sur les états excités"
   ]
  },
  {
   "cell_type": "code",
   "execution_count": 35,
   "metadata": {},
   "outputs": [
    {
     "data": {
      "text/html": [
       "<div>\n",
       "<style scoped>\n",
       "    .dataframe tbody tr th:only-of-type {\n",
       "        vertical-align: middle;\n",
       "    }\n",
       "\n",
       "    .dataframe tbody tr th {\n",
       "        vertical-align: top;\n",
       "    }\n",
       "\n",
       "    .dataframe thead th {\n",
       "        text-align: right;\n",
       "    }\n",
       "</style>\n",
       "<table border=\"1\" class=\"dataframe\">\n",
       "  <thead>\n",
       "    <tr style=\"text-align: right;\">\n",
       "      <th></th>\n",
       "      <th>FCI ES</th>\n",
       "      <th>Numpy ES</th>\n",
       "      <th>QEOM</th>\n",
       "    </tr>\n",
       "  </thead>\n",
       "  <tbody>\n",
       "    <tr>\n",
       "      <th>ES energy T1 (a.u.)</th>\n",
       "      <td>-560.645322</td>\n",
       "      <td>-560.503403</td>\n",
       "      <td>-560.645339</td>\n",
       "    </tr>\n",
       "    <tr>\n",
       "      <th>ES energy S1 (a.u.)</th>\n",
       "      <td>-560.503403</td>\n",
       "      <td>-560.212027</td>\n",
       "      <td>-560.503449</td>\n",
       "    </tr>\n",
       "    <tr>\n",
       "      <th>f_energy ES1-ES0 (eV)</th>\n",
       "      <td>-15.935923</td>\n",
       "      <td>-8.007189</td>\n",
       "      <td>-15.937167</td>\n",
       "    </tr>\n",
       "    <tr>\n",
       "      <th>Gap ES1 - ET1 (eV)</th>\n",
       "      <td>-19.797745</td>\n",
       "      <td>-15.935923</td>\n",
       "      <td>-19.798190</td>\n",
       "    </tr>\n",
       "  </tbody>\n",
       "</table>\n",
       "</div>"
      ],
      "text/plain": [
       "                           FCI ES    Numpy ES        QEOM\n",
       "ES energy T1 (a.u.)   -560.645322 -560.503403 -560.645339\n",
       "ES energy S1 (a.u.)   -560.503403 -560.212027 -560.503449\n",
       "f_energy ES1-ES0 (eV)  -15.935923   -8.007189  -15.937167\n",
       "Gap ES1 - ET1 (eV)     -19.797745  -15.935923  -19.798190"
      ]
     },
     "execution_count": 35,
     "metadata": {},
     "output_type": "execute_result"
    }
   ],
   "source": [
    "# Visualisation of results \n",
    "\n",
    "# Create the results dataframe\n",
    "dict_res = {'FCI ES': list_results_FCI, 'Numpy ES': list_results_NP,\n",
    "            'QEOM': list_results_QEOM\n",
    "            }\n",
    "df_ES = pd.DataFrame(dict_res, \n",
    "                     index = ['ES energy T1 (a.u.)', 'ES energy S1 (a.u.)',\n",
    "                            'f_energy ES1-ES0 (eV)', 'Gap ES1 - ET1 (eV)'])\n",
    "\n",
    "df_ES\n"
   ]
  }
 ],
 "metadata": {
  "jupytext": {
   "formats": "ipynb,md"
  },
  "kernelspec": {
   "display_name": "qiskit-env",
   "language": "python",
   "name": "qiskit-env"
  },
  "language_info": {
   "codemirror_mode": {
    "name": "ipython",
    "version": 3
   },
   "file_extension": ".py",
   "mimetype": "text/x-python",
   "name": "python",
   "nbconvert_exporter": "python",
   "pygments_lexer": "ipython3",
   "version": "3.10.14"
  }
 },
 "nbformat": 4,
 "nbformat_minor": 4
}
