{
  "cells": [
    {
      "cell_type": "markdown",
      "metadata": {
        "id": "yqbzsX3L6AH5"
      },
      "source": [
        "# PHY4268 Tutorial 4 - Qiskit VQE with active space\n",
        "\n",
        "1. **S. G. Nana Engo**, serge.nana-engo@facsciences-uy1.cm\n",
        "    * Department of Physics, Faculty of Science, University of Yaounde I\n",
        "2. **J-P. Tchapet Njafa**, jean-pierre.tchapet-njafa@univ-maroua.cm\n",
        "    * Department of Physics, Faculty of Science, University of Maroua\n",
        "       \n",
        "May 2024"
      ]
    },
    {
      "cell_type": "markdown",
      "metadata": {
        "id": "gph6lvv66AH8"
      },
      "source": [
        "A la fin de ce tutoriel, l'apprenant doit être capable d'utiliser Qiskit-nature pour\n",
        "1. calculer l'énergie de l'état fondamental d'un Hamiltonien quelconque;\n",
        "2. définir l'espace actif d'un système moléculaire autour du niveau de Fermi (Niveau HOMO-LUMO);\n",
        "3. calculer les énergies de l'état fondamental et des premiers états excités y afférent.\n"
      ]
    },
    {
      "cell_type": "markdown",
      "metadata": {
        "id": "X1UkxnGt6AH9"
      },
      "source": [
        "## Hamiltonien quelconque\n",
        "\n",
        "On considère l'Hamiltonien\n",
        "$$\\mathtt{H} = 0.4\\mathbb{I}\\mathtt{X} + 0.6\\mathbb{I}\\mathtt{Z} + 0.8\\mathtt{XY}$$\n",
        "\n",
        "Pour un $|\\psi\\rangle$ donné nous voulons évaluer la valeur moyenne de cet Hamiltonien :\n",
        "\n",
        "$$\\langle \\mathtt{H} \\rangle = \\langle \\psi |\\mathtt{H}| \\psi \\rangle = 0.4 \\langle \\psi | \\mathbb{I}\\mathtt{X} |\\psi \\rangle + 0.6 \\langle \\psi | \\mathbb{I}\\mathtt{Z} | \\psi \\rangle + 0.8 \\langle \\psi | \\mathtt{XY} | \\psi \\rangle.$$\n",
        "\n",
        "Comme on peut voir la valeur moyenne $\\langle\\mathtt{H} \\rangle$ pourrait être calculée en ajoutant les valeurs moyennes de ses parties (termes de Pauli). L'algorithme fait exactement cela. Il construit un circuit quantique pour chaque terme de Pauli et calcule la valeur moyenne du terme de Pauli correspondant. Ensuite, l'algorithme additionne toutes les valeurs moyennes calculées des termes de Pauli et obtient la valeur moyenne de $\\mathtt{H}$.\n"
      ]
    },
    {
      "cell_type": "code",
      "execution_count": 56,
      "metadata": {
        "colab": {
          "base_uri": "https://localhost:8080/",
          "height": 35
        },
        "id": "knZ2hyJg6R9b",
        "outputId": "7a1ddb8d-034c-4128-b4a5-2641de50b551"
      },
      "outputs": [
        {
          "data": {
            "application/vnd.google.colaboratory.intrinsic+json": {
              "type": "string"
            },
            "text/plain": [
              "'0.7.2'"
            ]
          },
          "execution_count": 56,
          "metadata": {},
          "output_type": "execute_result"
        }
      ],
      "source": [
        "try:\n",
        "    import qiskit_nature\n",
        "except:\n",
        "    %pip install qiskit-nature[pyscf] -U\n",
        "    import qiskit_nature\n",
        "\n",
        "qiskit_nature.__version__"
      ]
    },
    {
      "cell_type": "code",
      "execution_count": 57,
      "metadata": {
        "colab": {
          "base_uri": "https://localhost:8080/"
        },
        "id": "kT1jbfA36AH-",
        "outputId": "ebb027b1-f182-4eff-bcfb-cd30f60ad92b"
      },
      "outputs": [
        {
          "name": "stdout",
          "output_type": "stream",
          "text": [
            "SparsePauliOp(['IX', 'IZ', 'XY'],\n",
            "              coeffs=[0.4+0.j, 0.6+0.j, 0.8+0.j])\n",
            "\n",
            " The exact ground state energy is: -1.0770329614269012\n"
          ]
        }
      ],
      "source": [
        "from qiskit.quantum_info import SparsePauliOp\n",
        "from qiskit_algorithms import NumPyMinimumEigensolver\n",
        "\n",
        "H = SparsePauliOp.from_list([(\"IX\", 0.4), (\"IZ\", 0.6), (\"XY\", 0.8)])\n",
        "print(H)\n",
        "\n",
        "exact_result = NumPyMinimumEigensolver().compute_minimum_eigenvalue(H)\n",
        "print(f'\\n The exact ground state energy is: {exact_result.eigenvalue}')"
      ]
    },
    {
      "cell_type": "markdown",
      "metadata": {
        "id": "2Ookb3_W6AH_"
      },
      "source": [
        "Si on a un Hamiltonien\n",
        "$$\\mathtt{H} = a\\mathbb{I} + b\\mathtt{Z} + c\\mathtt{X} + d\\mathtt{Y},\\qquad a,b,c,d\\in\\mathbb{R},$$\n",
        "il faut faire appel à des nombres arbitraires pour a, b, c et d."
      ]
    },
    {
      "cell_type": "code",
      "execution_count": 58,
      "metadata": {
        "colab": {
          "base_uri": "https://localhost:8080/"
        },
        "id": "HNgzJPF56AH_",
        "outputId": "f9daed0b-5546-4247-b3ba-a1d27cc00207"
      },
      "outputs": [
        {
          "name": "stdout",
          "output_type": "stream",
          "text": [
            "SparsePauliOp(['I', 'Z', 'X', 'Y'],\n",
            "              coeffs=[9.41174256+0.j, 1.31125011+0.j, 6.8264229 +0.j, 7.8864318 +0.j])\n",
            "\n",
            " The exact ground state energy is: -1.1008800017614435\n"
          ]
        }
      ],
      "source": [
        "from numpy import random\n",
        "\n",
        "a, b, c, d = 10*random.sample(4)\n",
        "\n",
        "H = SparsePauliOp.from_list([(\"I\", a), (\"Z\", b), (\"X\", c), (\"Y\", d)])\n",
        "\n",
        "print(H)\n",
        "exact_result = NumPyMinimumEigensolver().compute_minimum_eigenvalue(H)\n",
        "print(f'\\n The exact ground state energy is: {exact_result.eigenvalue}')"
      ]
    },
    {
      "cell_type": "markdown",
      "metadata": {
        "id": "Zz_zVmc26AIA"
      },
      "source": [
        "## Molécule d'eau\n",
        "\n",
        "### Hamiltionien électronique\n",
        "\n",
        "![Water_HF_references](Graphics/Water_HF_references.png)\n",
        "\n",
        "La molécule d'eau a un nombre total de dix électrons. Le déterminant de Slater résultant de l'occupation des cinq premières orbitales moléculaires d'énergie la plus basse avec deux électrons *appariés* dans chaque orbitale, l'un avec spin-up et l'autre avec spin-down, est dit être un état HF à couche fermée avec une *multiplicité de spin=1*. Alternativement, si nous définissons une occupation où les quatre premières orbitales sont doublement occupées et les deux suivantes sont occupées individuellement par des électrons *non appariés* avec spin-up, on dit qu'il s'agit d'un état HF à couche ouverte avec une *multiplicité de spin=3*.\n",
        "\n",
        "Il n'est pas superflue de rappeler à nouveau ce qui suit.\n",
        "\n",
        "* La multiplicité, que nous pouvons définir comme $(N_{\\rm unpaired}^e + 1)$ avec $N_{\\rm unpaired}^e$ le nombre d'électrons non appariés, détermine l'occupation des orbitales moléculaires dans les calculs HF.\n",
        "\n",
        "* Les orbitales moléculaires sont généralement représentées comme une combinaison linéaire de\n",
        "**orbitales atomiques**. Les coefficients de d'expansion dans la base atomique sont\n",
        "calculé en utilisant la méthode de Hartree-Fock (HF). Dans l'approximation HF, chaque électron de la molécule est traité comme une particule **indépendante** qui se déplace sous l'influence du Coulomb potentiel dû aux noyaux, et un champ moyen généré par tous les autres\n",
        "électrons. Les coefficients optimisés sont précisément ce dont on a besoin pour\n",
        "construire le Hamiltonien de la seconde quantification.\n",
        "\n",
        "### Active-Space reduction\n",
        "\n",
        "En général, les méthodes de corrélation d'électrons post-Hartree-Fock étendent la fonction d'état de la molécule autour de la solution Hartree-Fock, en ajoutant des déterminants de Slater, communément appelés **configurations**, qui résultent de l'excitation des électrons des orbitales HF occupées vers les orbitales inoccupées. Malgré le fait qu'il existe différentes techniques pour tronquer cette expansion, le nombre de configurations augmente de manière combinatoire avec le nombre d'électrons et de fonctions de base et la tâche de trouver les coefficients d'expansion de la fonction d'état devient numériquement insoluble si nous voulons inclure l'ensemble complet des orbitales moléculaires. .\n",
        "\n",
        "Afin de contourner l'explosion combinatoire, nous pouvons créer un espace actif en classant les orbitales moléculaires en orbitales doublement occupées, actives et externes :\n",
        "\n",
        "* les orbitales doublement occupées (**core orbitals**) sont toujours occupées par deux électrons;\n",
        "* les orbitales actives (**valence orbitals**) peuvent être occupées par zéro, un ou deux électrons.\n",
        "* les orbitales externes (**virtual orbitals**) ne sont jamais occupées.\n",
        "\n",
        "![Sketch_active_space](Graphics/Sketch_active_space.png)\n",
        "\n",
        "Dans cette approximation, un certain nombre d'*électrons actifs* peuvent peupler les *orbitales actives* à partir desquelles nous pouvons générer un espace de taille finie de déterminants de Slater.\n",
        "\n",
        "**Note**</br>\n",
        "Le nombre de *spin-orbitales actives* détermine le *nombre de qubits* requis pour effectuer des simulations quantiques de la structure électronique de la molécule.\n",
        "\n",
        "Pour le cas de la molécule d'eau décrite à l'aide d'un ensemble de base minimal, nous avons un total de dix électrons occupant les cinq premières des sept orbitales moléculaires dans l'état de référence HF.\n",
        "\n",
        "Avec `qiskit_nature.second_q.transformers.ActiveSpaceTransformer`, la réduction se fait en calculant l'opérateur de Fock inactif qui est défini comme\n",
        "$$ F^I_{pq} = h_{pq} + \\sum_i (2 g_{iipq} - g_{iqpi}),\n",
        "$$\n",
        "et l'énergie inactive qui est donnée par\n",
        "$$ E^I = \\sum_j h_{ji} + F^I_{jj} = \\frac12 \\sum_{ij} \\Big(h_{ij} + F^I_{jj}\\Big) D^I_{ij} ,$$\n",
        "où $i$ et $j$ itèrent sur les orbitales inactives. En utilisant l'opérateur de Fock inactif à la place des intégrales à un électron, la description de l'espace actif contient un potentiel effectif généré par les électrons inactifs. Par conséquent, cette méthode permet l'exclusion des électrons non centraux tout en conservant une description de haute qualité du système."
      ]
    },
    {
      "cell_type": "code",
      "execution_count": 59,
      "metadata": {
        "colab": {
          "base_uri": "https://localhost:8080/",
          "height": 35
        },
        "id": "jYpuxgfi6AIB",
        "outputId": "302e9176-6c69-4714-eeb7-60de5ca01616"
      },
      "outputs": [
        {
          "data": {
            "application/vnd.google.colaboratory.intrinsic+json": {
              "type": "string"
            },
            "text/plain": [
              "'0.7.2'"
            ]
          },
          "execution_count": 59,
          "metadata": {},
          "output_type": "execute_result"
        }
      ],
      "source": [
        "try:\n",
        "    import qiskit_nature\n",
        "except:\n",
        "    %pip install qiskit-nature[pyscf] -U\n",
        "    import qiskit_nature\n",
        "\n",
        "qiskit_nature.__version__"
      ]
    },
    {
      "cell_type": "code",
      "execution_count": 60,
      "metadata": {
        "id": "PUNh3u3P6AIB"
      },
      "outputs": [],
      "source": [
        "from qiskit_nature.second_q.drivers import PySCFDriver\n",
        "\n",
        "H2O_driver = PySCFDriver(\n",
        "    atom='O 0.0 0.0 0.0; H 0.757 0.586 0.0; H -0.757 0.586 0.0',\n",
        "    basis=\"sto-3g\"\n",
        ")\n",
        "\n",
        "H2O_problem = H2O_driver.run()\n",
        "H2O_hamiltonian = H2O_problem.hamiltonian\n",
        "H2O_coefficients = H2O_hamiltonian.electronic_integrals\n",
        "H2O_fermionic_op = H2O_hamiltonian.second_q_op()\n"
      ]
    },
    {
      "cell_type": "code",
      "execution_count": 61,
      "metadata": {
        "colab": {
          "base_uri": "https://localhost:8080/"
        },
        "id": "2qITYn7B6AIC",
        "outputId": "a7f997f8-b81d-40c1-b12e-444bd92d4bf1"
      },
      "outputs": [
        {
          "name": "stdout",
          "output_type": "stream",
          "text": [
            "Molecule strcuture: Molecule:\n",
            "\tMultiplicity: 1\n",
            "\tCharge: 0\n",
            "\tUnit: Bohr\n",
            "\tGeometry:\n",
            "\t\tO\t(0.0, 0.0, 0.0)\n",
            "\t\tH\t(1.430522676295752, 1.1073795089951262, 0.0)\n",
            "\t\tH\t(-1.430522676295752, 1.1073795089951262, 0.0)\n",
            "\tMasses:\n",
            "\t\tO\t16\n",
            "\t\tH\t1\n",
            "\t\tH\t1\n",
            "Reference energy: -74.96294665653875\n",
            "Nuclear repulsion energy: 9.193913160623385\n",
            "Number of particules: (5, 5)\n",
            "Number of spatial orbitals: 7\n",
            "Number of molecular orbitals: 14\n",
            "Number of alpha electrons: 5\n",
            "Number of beta electrons: 5\n",
            "Occupations of the alpha-spin orbitals: [1. 1. 1. 1. 1. 0. 0.]\n"
          ]
        }
      ],
      "source": [
        "print(f'Molecule strcuture: {H2O_problem.molecule}')\n",
        "print(f'Reference energy: {H2O_problem.reference_energy}')\n",
        "print(f'Nuclear repulsion energy: {H2O_problem.nuclear_repulsion_energy}')\n",
        "print(f'Number of particules: {H2O_problem.num_particles}')\n",
        "print(f'Number of spatial orbitals: {H2O_problem.num_spatial_orbitals}')\n",
        "print(f'Number of molecular orbitals: {H2O_problem.num_spin_orbitals}')\n",
        "print(f'Number of alpha electrons: {H2O_problem.num_alpha}')\n",
        "print(f'Number of beta electrons: {H2O_problem.num_beta}')\n",
        "print(f'Occupations of the alpha-spin orbitals: {H2O_problem.orbital_occupations}')\n"
      ]
    },
    {
      "cell_type": "code",
      "execution_count": 62,
      "metadata": {
        "colab": {
          "base_uri": "https://localhost:8080/"
        },
        "id": "zBT-ya926AID",
        "outputId": "984e29e5-2acc-4a95-e60e-7ba30097cfed"
      },
      "outputs": [
        {
          "name": "stdout",
          "output_type": "stream",
          "text": [
            "HOMO and LUMO indexes are (Fermi surface) (4, 5)\n",
            "HOMO and LUMO energies are (-0.3912423661263905, 0.6055762144356047)\n",
            "HOMO-LUMO gap is 0.9968185805619952\n"
          ]
        }
      ],
      "source": [
        "\n",
        "print(f\"HOMO and LUMO indexes are (Fermi surface) {H2O_problem.num_alpha-1, H2O_problem.num_alpha}\")\n",
        "print(f\"HOMO and LUMO energies are {H2O_problem.orbital_energies[H2O_problem.num_alpha-1],H2O_problem.orbital_energies[H2O_problem.num_alpha]}\")\n",
        "print(f\"HOMO-LUMO gap is {abs(H2O_problem.orbital_energies[H2O_problem.num_alpha-1]-H2O_problem.orbital_energies[H2O_problem.num_alpha])}\")\n"
      ]
    },
    {
      "cell_type": "markdown",
      "metadata": {
        "id": "kPV0y6Rr6AID"
      },
      "source": [
        "### 1.9.3. <a id='toc1_9_3_'></a>[`FreezeCoreTransformer`](#toc0_)\n",
        "\n",
        "Ce transformateur vous offre un moyen très simple de geler les _core orbitales_ du système moléculaire. Il nécessite que votre problème contienne l'attribut `.molecule` à partir duquel il peut extraire les informations atomiques nécessaires pour effectuer cette réduction d'espace de Hilbert.\n",
        "\n",
        "Appliquons `qiskit_nature.second_q.transformers.FreezeCoreTransforme` à notre molécule qui, dans ce cas, supprimera la seule orbitale d'énergie la plus basse (réduisant le nombre total d'orbitales spatiales de 7 à 6) et supprimant également les deux électrons de l'intérieur de cette orbitale (comme reflété par le nombre modifié de particules)."
      ]
    },
    {
      "cell_type": "code",
      "execution_count": 63,
      "metadata": {
        "colab": {
          "base_uri": "https://localhost:8080/"
        },
        "id": "XbMuEZ9-6AIE",
        "outputId": "79263917-5ae2-4d46-e46e-fcfcef2c3d8a"
      },
      "outputs": [
        {
          "name": "stdout",
          "output_type": "stream",
          "text": [
            "Number of particules with FC: (4, 4)\n",
            "Number of spatial orbitals with FC: 6\n"
          ]
        }
      ],
      "source": [
        "from qiskit_nature.second_q.transformers import FreezeCoreTransformer\n",
        "\n",
        "fc_transformer = FreezeCoreTransformer()\n",
        "\n",
        "fc_H2O_problem = fc_transformer.transform(H2O_problem)\n",
        "print(f'Number of particules with FC: {fc_H2O_problem.num_particles}')\n",
        "print(f'Number of spatial orbitals with FC: {fc_H2O_problem.num_spatial_orbitals}')\n"
      ]
    },
    {
      "cell_type": "markdown",
      "metadata": {
        "id": "8rVsAyQw6AIE"
      },
      "source": [
        "Notez que cette transformation se traduira par un décalage d'énergie constant résultant de la suppression des électrons du noyau. Ce décalage est enregistré à l'intérieur de l'attribut `constants`\" de l'Hamiltonien."
      ]
    },
    {
      "cell_type": "code",
      "execution_count": 64,
      "metadata": {
        "colab": {
          "base_uri": "https://localhost:8080/"
        },
        "id": "rFbfFtHR6AIE",
        "outputId": "feebc477-3882-48b5-c6c8-be3a59efa735"
      },
      "outputs": [
        {
          "name": "stdout",
          "output_type": "stream",
          "text": [
            "{'nuclear_repulsion_energy': 9.193913160623385, 'FreezeCoreTransformer': -60.66177520598535}\n"
          ]
        }
      ],
      "source": [
        "print(fc_H2O_problem.hamiltonian.constants)"
      ]
    },
    {
      "cell_type": "markdown",
      "metadata": {
        "id": "OnIAlGVM6AIE"
      },
      "source": [
        "Vous pouvez fournir une liste d'indices orbitaux (se rappeler qu'on commence par 0) qui doivent être supprimés du système.\n",
        "\n",
        "> **Remarque :** Ces orbitales *doivent* être inoccupées, sinon vous subirez une erreur importante dans votre calcul. Vous devez absolument savoir quelles orbitales vous supprimez, car la suppression des mauvaises orbitales peut toujours entraîner de grandes erreurs si la dynamique des systèmes est modifiée de manière significative."
      ]
    },
    {
      "cell_type": "code",
      "execution_count": 65,
      "metadata": {
        "colab": {
          "base_uri": "https://localhost:8080/"
        },
        "id": "O8N7fnnU6AIF",
        "outputId": "dd1f84f1-fb5b-4a8b-879b-66ca78fc6bfa"
      },
      "outputs": [
        {
          "name": "stdout",
          "output_type": "stream",
          "text": [
            "(4, 4)\n",
            "4\n"
          ]
        }
      ],
      "source": [
        "fc_H2O_transformer = FreezeCoreTransformer(remove_orbitals=[5, 6])\n",
        "\n",
        "fc_H2O_problem = fc_H2O_transformer.transform(H2O_problem)\n",
        "print(fc_H2O_problem.num_particles)\n",
        "print(fc_H2O_problem.num_spatial_orbitals)"
      ]
    },
    {
      "cell_type": "markdown",
      "metadata": {
        "id": "QajoZ7lr6AIF"
      },
      "source": [
        "### `ActiveSpaceTransformer`\n",
        "\n",
        "Ce transformateur généralise la réduction de l'espace de Hilbert qui est effectuée par le `FreezeCoreTransformer`. En termes simples, il vous permet de spécifier un _active space_ en sélectionnant le nombre d'électrons actifs et le nombre d'orbitales spatiales actives. Selon ces paramètres, l'espace actif sera choisi autour du niveau de Fermi.\n",
        "\n",
        "L'espace actif peut être configuré de l'une des manières suivantes via l'initialiseur :\n",
        "\n",
        "- lorsque seuls ``num_electrons`` et ``num_spatial_orbitals`` sont spécifiés, ces entiers indiquent respectivement le nombre d’électrons actifs et d’orbitales. L'espace actif sera puis être choisi autour du niveau de Fermi, ce qui donne un choix unique pour n'importe quelle paire de nombres. Néanmoins, les critères suivants doivent être remplis :\n",
        "\n",
        "   * le nombre restant d'électrons inactifs doit être un nombre pair et positif;\n",
        "   * le nombre d'orbitales actives ``num_spatial_orbitals`` ne doit pas dépasser le nombre total d'orbitales moins le nombre d'orbitales occupées par les électrons inactifs;\n",
        "\n",
        "- lorsque ``num_electrons`` est un tuple, cela doit indiquer le nombre de spins alpha et bêta électrons, respectivement. Les mêmes exigences que celles énumérées précédemment doivent être remplies;\n",
        "- enfin, il est possible de sélectionner un ensemble personnalisé d'orbitales actives via leurs indices en utilisant ``active_orbitals``. Ceci permet de sélectionner un espace actif qui n'est pas placé autour du niveau de Fermi comme décrit dans le premier cas ci-dessus. Lorsque vous utilisez cet argument de mot-clé, les critères suivants doivent être remplis *en plus* de ceux énumérés ci-dessus :\n",
        "\n",
        "   * la longueur de `active_orbitals` doit être égale à ``num_spatial_orbitals``. Noter que qiskit-nature de  **déduit pas** le nombre d'orbitales actives à partir de cette liste d'indices !\n",
        "\n",
        "   * lors de l'utilisation d'un tuple de listes pour indiquer les indices orbitaux de spin alpha et bêta séparément, les deux listes doivent remplir le critère précédent;\n",
        "\n",
        "   * le plus grand indice orbital ne peut **pas** dépasser le ``num_spatial_orbitals`` disponible."
      ]
    },
    {
      "cell_type": "code",
      "execution_count": 66,
      "metadata": {
        "colab": {
          "base_uri": "https://localhost:8080/"
        },
        "id": "4vauSHPr6AIG",
        "outputId": "9cad8d3a-3136-49c5-8883-79c4a454676b"
      },
      "outputs": [
        {
          "name": "stdout",
          "output_type": "stream",
          "text": [
            "(2, 2)\n",
            "4\n"
          ]
        }
      ],
      "source": [
        "from qiskit_nature.second_q.transformers import ActiveSpaceTransformer\n",
        "\n",
        "# We want to reduce it to an active space of 4 electrons in 4 orbitals (HOMO-1,HOMO, LUMO, LUMO+1)\n",
        "as_transformer = ActiveSpaceTransformer(4, 4) # ActiveSpaceTransformer(num_electrons, num_spatial_orbitals)\n",
        "\n",
        "H2O_as_problem = as_transformer.transform(H2O_problem)\n",
        "print(H2O_as_problem.num_particles)\n",
        "print(H2O_as_problem.num_spatial_orbitals)"
      ]
    },
    {
      "cell_type": "markdown",
      "metadata": {
        "id": "VSbMQyLz6AIG"
      },
      "source": [
        "`qiskit_nature.second_q.transformers.ActiveSpaceTransformer` permet aussi de spécifier manuellement les indices des orbitales actives. Cela vous permet de sélectionner manuellement des _active space_ qui ne se trouvent pas en permanence autour du niveau de Fermi."
      ]
    },
    {
      "cell_type": "code",
      "execution_count": 67,
      "metadata": {
        "colab": {
          "base_uri": "https://localhost:8080/"
        },
        "id": "dA4HVZ1z6AIG",
        "outputId": "b8bc1e7a-3532-46c1-ea54-637493715d7c"
      },
      "outputs": [
        {
          "name": "stdout",
          "output_type": "stream",
          "text": [
            "(1, 1)\n",
            "2\n"
          ]
        }
      ],
      "source": [
        "as_transformer = ActiveSpaceTransformer(2, 2, active_orbitals=[3, 6])\n",
        "\n",
        "H2O_as_problem = as_transformer.transform(H2O_problem)\n",
        "print(H2O_as_problem.num_particles)\n",
        "print(H2O_as_problem.num_spatial_orbitals)"
      ]
    },
    {
      "cell_type": "markdown",
      "metadata": {
        "id": "UGyaGjhs6AIG"
      },
      "source": [
        "### Energie fondamentale de la molecule 1,2-Thiazole atom\n",
        "\n",
        "Comme vous le savez déjà, il est difficile d'obtenir le Hamiltonien qubit de cette molecule, au vue de sa taille. Nous allons donc utiliser `ActiveSpaceTransformer` pour réduire sa taille."
      ]
    },
    {
      "cell_type": "code",
      "execution_count": 68,
      "metadata": {
        "id": "r03wCpcW6AIG"
      },
      "outputs": [],
      "source": [
        "# Molecular structure\n",
        "driver = PySCFDriver(\n",
        "    atom=\"\"\"C      1.1291      0.0795     -0.5259\n",
        "  C      0.7115     -1.2207     -0.4748\n",
        "  H      2.0789      0.4171     -0.9381\n",
        "  H      1.2719     -2.0822     -0.8377\n",
        "  S     -0.0500      1.1306      0.1514\n",
        "  N     -1.1147     -0.1822      0.5074\n",
        "  C     -0.5926     -1.3347      0.1299\n",
        "  H     -1.1422     -2.2662      0.2851\"\"\", #C1,2-Thiazole atom\n",
        "    basis='STO-3G'\n",
        ")\n",
        "# Electronic structure problem\n",
        "problem = driver.run()"
      ]
    },
    {
      "cell_type": "code",
      "execution_count": 69,
      "metadata": {
        "colab": {
          "base_uri": "https://localhost:8080/"
        },
        "id": "E8yK4vgU6AIH",
        "outputId": "636a0456-4e74-4da9-f69d-9ca34fd775c8"
      },
      "outputs": [
        {
          "name": "stdout",
          "output_type": "stream",
          "text": [
            "Molecule, basis: STO-3G, Hartree-Fock calculation\n",
            "Number of alpha electrons: 22\n",
            "Number of beta electrons: 22\n",
            "Number of spin orbitals: 64\n",
            "Spin orbitals occupation: [1. 1. 1. 1. 1. 1. 1. 1. 1. 1. 1. 1. 1. 1. 1. 1. 1. 1. 1. 1. 1. 1. 0. 0.\n",
            " 0. 0. 0. 0. 0. 0. 0. 0.]\n",
            "Spin orbitals energies: [-90.84544727 -15.32141747 -11.06407434 -11.04110113 -11.02753474\n",
            "  -8.73707496  -6.36878764  -6.36729122  -6.3646857   -1.19448958\n",
            "  -0.98941296  -0.92735272  -0.72288664  -0.69941879  -0.63361482\n",
            "  -0.51551986  -0.48793488  -0.48191303  -0.40782084  -0.34186567\n",
            "  -0.30009975  -0.27940707   0.23917557   0.37822271   0.38660052\n",
            "   0.50039675   0.61283911   0.69130018   0.76619362   0.824971\n",
            "   0.90816777   1.04637883]\n",
            "Molecule reference (HF) total energy: -560.8391624792079 Ha\n",
            "Molecule nuclear repulsion energy: 203.5391249740159 Ha\n"
          ]
        }
      ],
      "source": [
        "# Some properties\n",
        "print(f\"Molecule, basis: {driver.basis}, Hartree-Fock calculation\")\n",
        "print(f\"Number of alpha electrons: {problem.num_alpha}\")\n",
        "print(f\"Number of beta electrons: {problem.num_beta}\")\n",
        "print(f\"Number of spin orbitals: {problem.num_spin_orbitals}\")\n",
        "print(f\"Spin orbitals occupation: {problem.orbital_occupations}\")\n",
        "print(f\"Spin orbitals energies: {problem.orbital_energies}\")\n",
        "print(f\"Molecule reference (HF) total energy: {problem.reference_energy} Ha\")\n",
        "print(f\"Molecule nuclear repulsion energy: {problem.nuclear_repulsion_energy} Ha\")\n"
      ]
    },
    {
      "cell_type": "code",
      "execution_count": 70,
      "metadata": {
        "colab": {
          "base_uri": "https://localhost:8080/"
        },
        "id": "JsZDZxHj6AIH",
        "outputId": "545ebe0b-8d76-4980-f373-0d61a107b3f3"
      },
      "outputs": [
        {
          "name": "stdout",
          "output_type": "stream",
          "text": [
            "HOMO and LUMO index are (21, 22)\n",
            "HOMO and LUMO energies in eV are(-0.2794070652303571, 6.508298765683214)\n",
            "HOMO-LUMO gap in eV is 14.111352274381781\n"
          ]
        }
      ],
      "source": [
        "# Fermi Level and properties\n",
        "from pyscf.data import nist\n",
        "au2ev = nist.HARTREE2EV\n",
        "\n",
        "print(f\"HOMO and LUMO index are {problem.num_alpha-1, problem.num_alpha}\")\n",
        "print(f\"HOMO and LUMO energies in eV are\\\n",
        "{problem.orbital_energies[problem.num_alpha-1],problem.orbital_energies[problem.num_alpha] * au2ev}\")\n",
        "print(f\"HOMO-LUMO gap in eV is \\\n",
        "{abs(problem.orbital_energies[problem.num_alpha-1]-problem.orbital_energies[problem.num_alpha]) * au2ev}\")"
      ]
    },
    {
      "cell_type": "code",
      "execution_count": 71,
      "metadata": {
        "colab": {
          "base_uri": "https://localhost:8080/"
        },
        "id": "a_TUi2ER6AIH",
        "outputId": "ac0a82c9-64be-4d2e-ec58-6a1fee6f2e4a"
      },
      "outputs": [
        {
          "data": {
            "text/plain": [
              "(22, 22)"
            ]
          },
          "execution_count": 71,
          "metadata": {},
          "output_type": "execute_result"
        }
      ],
      "source": [
        "problem.num_particles"
      ]
    },
    {
      "cell_type": "markdown",
      "metadata": {
        "id": "Fo8hh3RJ6AIH"
      },
      "source": [
        "* Définition d'un espace actif autour du niveau de Fermi\n",
        "\n",
        "Nous allons choisir un espace actif avec 4 orbitale spatiale, c'est-à-dire (HOMO-1,HOMO, LUMO, LUMO+1)."
      ]
    },
    {
      "cell_type": "code",
      "execution_count": 72,
      "metadata": {
        "colab": {
          "base_uri": "https://localhost:8080/"
        },
        "id": "jPukFijq6AII",
        "outputId": "81bb0948-de42-471b-e494-874b7f3c6ceb"
      },
      "outputs": [
        {
          "data": {
            "text/plain": [
              "(2, 2)"
            ]
          },
          "execution_count": 72,
          "metadata": {},
          "output_type": "execute_result"
        }
      ],
      "source": [
        "from qiskit_nature.second_q.transformers import ActiveSpaceTransformer\n",
        "problem = ActiveSpaceTransformer(4, 4).transform(problem) # Utiliser (2,2) pour rendre le calcul moins couteux (+perte précision)"
      ]
    },
    {
      "cell_type": "markdown",
      "metadata": {
        "id": "qY44qdww6AII"
      },
      "source": [
        "On note que nous sommes partis de (22,22) à (2,2) particules alpha et beta!"
      ]
    },
    {
      "cell_type": "code",
      "execution_count": 73,
      "metadata": {
        "colab": {
          "base_uri": "https://localhost:8080/"
        },
        "id": "W1oCXNNo6AII",
        "outputId": "5cd97039-7efe-4e23-df1d-3a31b032169f"
      },
      "outputs": [
        {
          "name": "stdout",
          "output_type": "stream",
          "text": [
            "Fermionic Operator\n",
            "number spin orbitals=8, number terms=1056\n",
            "  0.18037101450036708 * ( +_0 +_0 -_0 -_0 )\n",
            "+ -0.003998983948927016 * ( +_0 +_0 -_1 -_0 )\n",
            "+ -0.003708063437679914 * ( +_0 +_0 -_2 -_0 )\n",
            "+ -0.0033104464651577087 * ( +_0 +_0 -_3 -_0 )\n",
            "+ -0.003998983948927016 * ( +_0 +_1 -_0 -_0 )\n",
            "+ 0.15726000430579692 * ( +_0 +_1 -_1 -_0 )\n",
            "+ 0.0018142693697536605 * ( +_0 +_1 -_2 -_0 )\n",
            "+ 0.016408915168517547 * ( +_0 +_1 -_3 -_0 )\n",
            "+ -0.003708063437679914 * ( +_0 +_2 -_0 -_0 )\n",
            "+ 0.0018142693697536605 * ( +_0 +_2 -_1 -_0 )\n",
            "+ 0.17784258943634249 * ( +_0 +_2 -_2 -_0 )\n",
            "+ 0.01716541288730581 * ( +_0 +_2 -_3 -_0 )\n",
            "+ -0.0033104464651577087 * ( +_0 +_3 -_0 -_0 )\n",
            "+ 0.016408915168517547 * ( +_0 +_3 -_1 -_0 )\n",
            "+ 0.01716541288730581 * ( +_0 +_3 -_2 -_0 )\n",
            "+ 0.16914164309672147 * ( +_0 +_3 -_3 -_0 )\n",
            "+ 0.18037101450036708 * ( +_0 +_4 -_4 -_0 )\n",
            "+ -0.003998983948927016 * ( +_0 +_4 -_5 -_0 )\n",
            "+ -0.003708063437679914 * ( +_0 +_4 -_6 -_0 )\n",
            "+ -0.0033104464651577087 * ( +_0 +_4 -_7 -_0 )\n",
            "...\n"
          ]
        }
      ],
      "source": [
        "hamiltonian = problem.hamiltonian # Hamiltonien en 1ere quantification\n",
        "fermionic_op = hamiltonian.second_q_op() # Hamiltonien fermionique\n",
        "if len(fermionic_op) <= 20:\n",
        "    print(fermionic_op)\n",
        "else: # print the first 20 terms of the fermionic Hamiltonian operator of the molecule\n",
        "    print(\"\\n\".join(str(fermionic_op).splitlines()[:22] + [\"...\"]))"
      ]
    },
    {
      "cell_type": "markdown",
      "metadata": {
        "id": "UwKNfwyH6AII"
      },
      "source": [
        "* Hamiltonien qubit avec la réduction $\\mathbb{Z}_2$"
      ]
    },
    {
      "cell_type": "code",
      "execution_count": 74,
      "metadata": {
        "colab": {
          "base_uri": "https://localhost:8080/"
        },
        "id": "yon9s9s56AII",
        "outputId": "b11201d0-eccd-4162-f77f-e7bdfeb2c15a"
      },
      "outputs": [
        {
          "name": "stdout",
          "output_type": "stream",
          "text": [
            "Number of items in the PM Z2 Pauli list: 325\n",
            "SparsePauliOp(['IIIIII', 'IIIIIZ', 'IIIIZZ', 'IIIIZI', 'IIIZXZ', 'IIIZXI', 'IIIIXI', 'IIIIXZ', 'IIIXXZ', 'IIIXXI'],\n",
            "              coeffs=[-2.07212264e+00+0.j,  7.84078941e-02+0.j,  8.19933172e-02+0.j,\n",
            "  1.26938405e-01+0.j, -1.51674797e-02+0.j,  1.99548286e-03+0.j,\n",
            "  1.51674797e-02+0.j, -1.99548286e-03+0.j,  1.24056296e-02+0.j,\n",
            "  8.26189392e-03+0.j])\n"
          ]
        }
      ],
      "source": [
        "from qiskit_nature.second_q.mappers import JordanWignerMapper, ParityMapper, BravyiKitaevMapper, TaperedQubitMapper\n",
        "\n",
        "mapper = ParityMapper(num_particles=problem.num_particles)\n",
        "mapper = problem.get_tapered_mapper(mapper)\n",
        "Hamil_z2qubit = mapper.map(fermionic_op)\n",
        "\n",
        "print(f\"Number of items in the PM Z2 Pauli list:\", len(Hamil_z2qubit))\n",
        "if len(Hamil_z2qubit) <= 10:\n",
        "    print(Hamil_z2qubit)\n",
        "else:\n",
        "    print(Hamil_z2qubit[0:10])"
      ]
    },
    {
      "cell_type": "markdown",
      "metadata": {
        "id": "4vUYVu_p6AIJ"
      },
      "source": [
        "* Circuit de l'état initial"
      ]
    },
    {
      "cell_type": "code",
      "execution_count": 75,
      "metadata": {
        "colab": {
          "base_uri": "https://localhost:8080/",
          "height": 217
        },
        "id": "08E7-yxL6AIK",
        "outputId": "ab10ce03-ab24-451a-f895-f45d728ad8dc"
      },
      "outputs": [
        {
          "data": {
            "text/html": [
              "<pre style=\"word-wrap: normal;white-space: pre;background: #fff0;line-height: 1.1;font-family: &quot;Courier New&quot;,Courier,monospace\">        ┌───┐\n",
              "q_0: |0>┤ X ├\n",
              "        └───┘\n",
              "q_1: |0>─────\n",
              "             \n",
              "q_2: |0>─────\n",
              "        ┌───┐\n",
              "q_3: |0>┤ X ├\n",
              "        └───┘\n",
              "q_4: |0>─────\n",
              "             \n",
              "q_5: |0>─────\n",
              "             </pre>"
            ],
            "text/plain": [
              "        ┌───┐\n",
              "q_0: |0>┤ X ├\n",
              "        └───┘\n",
              "q_1: |0>─────\n",
              "             \n",
              "q_2: |0>─────\n",
              "        ┌───┐\n",
              "q_3: |0>┤ X ├\n",
              "        └───┘\n",
              "q_4: |0>─────\n",
              "             \n",
              "q_5: |0>─────\n",
              "             "
            ]
          },
          "execution_count": 75,
          "metadata": {},
          "output_type": "execute_result"
        }
      ],
      "source": [
        "from qiskit_nature.second_q.circuit.library import HartreeFock\n",
        "\n",
        "HF_state = HartreeFock(problem.num_spatial_orbitals, problem.num_particles, mapper)\n",
        "HF_state.draw('text',initial_state=True)"
      ]
    },
    {
      "cell_type": "markdown",
      "metadata": {
        "id": "lab12QkT6AIK"
      },
      "source": [
        "Ce qui précède est une solution au **Devoir sur le Hamiltonien Qubit**.\n",
        "\n",
        "* Définisons le solveur VQE."
      ]
    },
    {
      "cell_type": "code",
      "execution_count": 76,
      "metadata": {
        "id": "KjDQJ93f6AIK"
      },
      "outputs": [],
      "source": [
        "from qiskit_nature.second_q.circuit.library import UCCSD\n",
        "from qiskit.primitives import Estimator\n",
        "from qiskit_algorithms.optimizers import SLSQP\n",
        "from qiskit_algorithms import VQE\n",
        "import numpy as np\n",
        "\n",
        "ansatz = UCCSD(\n",
        "    problem.num_spatial_orbitals,\n",
        "    problem.num_particles,\n",
        "    mapper,\n",
        "    initial_state = HF_state)\n",
        "\n",
        "vqe_solver = VQE(Estimator(), ansatz, SLSQP())\n",
        "vqe_solver.initial_point = np.zeros(ansatz.num_parameters) # Initialisation with zero-qubit"
      ]
    },
    {
      "cell_type": "markdown",
      "metadata": {
        "id": "_KTit7UN6AIK"
      },
      "source": [
        "* Calcul et résultats"
      ]
    },
    {
      "cell_type": "code",
      "execution_count": 77,
      "metadata": {
        "id": "rc8WzyO26AIL"
      },
      "outputs": [],
      "source": [
        "from qiskit_nature.second_q.algorithms import GroundStateEigensolver\n",
        "\n",
        "# Résultats VQE\n",
        "GS_VQE = GroundStateEigensolver(mapper, vqe_solver)\n",
        "GS_VQE_res = GS_VQE.solve(problem)"
      ]
    },
    {
      "cell_type": "code",
      "execution_count": 78,
      "metadata": {
        "id": "-ziIfzxI6AIL"
      },
      "outputs": [],
      "source": [
        "# Resultats de la diagonalisation exacte\n",
        "from qiskit_algorithms import NumPyMinimumEigensolver\n",
        "\n",
        "numpy_solver = NumPyMinimumEigensolver()\n",
        "NP_calc = GroundStateEigensolver(mapper, numpy_solver)\n",
        "GS_NP_res = NP_calc.solve(problem)"
      ]
    },
    {
      "cell_type": "markdown",
      "metadata": {
        "id": "fHfopi-S6AIL"
      },
      "source": [
        "### Class `qiskit_nature_pyscf.PySCFGroundStateSolver`\n",
        "\n",
        "Nous allons maintenant utiliser le plugin `qiskit_nature_pyscf` qui couple PySCF et Qiskit Nature.  C'est un solveur [FCI](https://en.wikipedia.org/wiki/Full_configuration_interaction) (Full Configuration Interaction) basé sur Qiskit-Nature qui permet à un utilisateur de PySCF (Python-based Simulations of Chemistry Framework) de tirer parti des algorithmes quantique implémentés dans Qiskit-Nature pour être utilisés à la place de leurs homologues classiques (dans un esprit similaire à l'intégration NWChemEx).\n",
        "\n",
        "La classe `qiskit_nature_pyscf.PySCFGroundStateSolver` s'appuie sur le module ``fci`` de PySCF. Il n'utilise aucun algorithmes quantiques (puisqu'il les remplace dans le workflow de Qiskit-Naure) mais fournit à la place un utilitaire pour déboguer les workflows de calcul classique basés sur Qiskit-Nature.\n",
        "\n",
        "Plus important encore, il fournit une implémentation plus efficace de ce que Qiskit-Nature réalise en utilisant la classe `qiskit_algorithms.NumPyMinimumEigensolver` en combinaison avec un ``filter_criterion``. Pour les états fondamentaux de spin autres que le singlet, l'utilisation des composants Qiskit-Nature est beaucoup plus complexe, alors que cette classe fournit une alternative facile à utiliser."
      ]
    },
    {
      "cell_type": "code",
      "execution_count": 79,
      "metadata": {
        "id": "C23NUR_A6AIL"
      },
      "outputs": [],
      "source": [
        "from pyscf import fci\n",
        "try:\n",
        "    from qiskit_nature_pyscf import PySCFGroundStateSolver\n",
        "except:\n",
        "    %pip install qiskit-nature-pyscf\n",
        "    from qiskit_nature_pyscf import PySCFGroundStateSolver\n",
        "\n",
        "au2kcalc = 627.509474"
      ]
    },
    {
      "cell_type": "code",
      "execution_count": 80,
      "metadata": {
        "colab": {
          "base_uri": "https://localhost:8080/"
        },
        "id": "1NNcJVfV6AIL",
        "outputId": "107c42ea-7fee-4e6f-cac0-5b49d7fb96d8"
      },
      "outputs": [
        {
          "name": "stdout",
          "output_type": "stream",
          "text": [
            "=== GROUND STATE ENERGY ===\n",
            " \n",
            "* Electronic ground state energy (Hartree): -764.419565104202\n",
            "  - computed part:      -3.079445017779\n",
            "  - ActiveSpaceTransformer extracted energy part: -761.340120086423\n",
            "~ Nuclear repulsion energy (Hartree): 203.539124974016\n",
            "> Total ground state energy (Hartree): -560.880440130186\n",
            " \n",
            "=== MEASURED OBSERVABLES ===\n",
            " \n",
            "  0:  # Particles: 4.000 S: 0.000 S^2: 0.000 M: 0.000\n"
          ]
        }
      ],
      "source": [
        "fci_solver = fci.direct_uhf.FCI()\n",
        "solver_pyscf = PySCFGroundStateSolver(fci_solver)\n",
        "\n",
        "GS_FCI_res = solver_pyscf.solve(problem)\n",
        "print(GS_FCI_res)"
      ]
    },
    {
      "cell_type": "code",
      "execution_count": 81,
      "metadata": {
        "colab": {
          "base_uri": "https://localhost:8080/"
        },
        "id": "rdIWCG776AIM",
        "outputId": "92d51f23-a072-4898-89d9-a3389f89e8e0"
      },
      "outputs": [
        {
          "name": "stdout",
          "output_type": "stream",
          "text": [
            "error between the two exact calculations, 0.0 kcal/mol\n"
          ]
        }
      ],
      "source": [
        "print(f'error between the two exact calculations, {abs(GS_FCI_res.total_energies[0] - GS_NP_res.total_energies[0]) * au2kcalc} kcal/mol')"
      ]
    },
    {
      "cell_type": "markdown",
      "metadata": {
        "id": "FD2Bj9Zv6AIM"
      },
      "source": [
        "### Visualisation des résultats"
      ]
    },
    {
      "cell_type": "code",
      "execution_count": 82,
      "metadata": {
        "colab": {
          "base_uri": "https://localhost:8080/",
          "height": 112
        },
        "id": "hIMkCp236AIM",
        "outputId": "84c1bbe4-5c53-439a-d482-4dded4effa03"
      },
      "outputs": [
        {
          "data": {
            "application/vnd.google.colaboratory.intrinsic+json": {
              "summary": "{\n  \"name\": \"df_GS\",\n  \"rows\": 2,\n  \"fields\": [\n    {\n      \"column\": \"FCI\",\n      \"properties\": {\n        \"dtype\": \"date\",\n        \"min\": \"1969-12-31 23:59:59.999999440\",\n        \"max\": \"1969-12-31 23:59:59.999999440\",\n        \"num_unique_values\": 2,\n        \"samples\": [\n          \"\",\n          -560.8804401301861\n        ],\n        \"semantic_type\": \"\",\n        \"description\": \"\"\n      }\n    },\n    {\n      \"column\": \"Numpy\",\n      \"properties\": {\n        \"dtype\": \"date\",\n        \"min\": \"1969-12-31 23:59:59.999999440\",\n        \"max\": \"1969-12-31 23:59:59.999999440\",\n        \"num_unique_values\": 2,\n        \"samples\": [\n          \"\",\n          -560.8804401301861\n        ],\n        \"semantic_type\": \"\",\n        \"description\": \"\"\n      }\n    },\n    {\n      \"column\": \"VQE\",\n      \"properties\": {\n        \"dtype\": \"number\",\n        \"std\": 396.7029358297963,\n        \"min\": -560.8802131073566,\n        \"max\": 0.14245897636499696,\n        \"num_unique_values\": 2,\n        \"samples\": [\n          0.14245897636499696,\n          -560.8802131073566\n        ],\n        \"semantic_type\": \"\",\n        \"description\": \"\"\n      }\n    },\n    {\n      \"column\": \"HF\",\n      \"properties\": {\n        \"dtype\": \"number\",\n        \"std\": 414.8887375595241,\n        \"min\": -560.8391624792079,\n        \"max\": 25.9021170533228,\n        \"num_unique_values\": 2,\n        \"samples\": [\n          25.9021170533228,\n          -560.8391624792079\n        ],\n        \"semantic_type\": \"\",\n        \"description\": \"\"\n      }\n    }\n  ]\n}",
              "type": "dataframe",
              "variable_name": "df_GS"
            },
            "text/html": [
              "\n",
              "  <div id=\"df-4a3ed9ca-7d0f-4d0d-95e2-610e66918c3d\" class=\"colab-df-container\">\n",
              "    <div>\n",
              "<style scoped>\n",
              "    .dataframe tbody tr th:only-of-type {\n",
              "        vertical-align: middle;\n",
              "    }\n",
              "\n",
              "    .dataframe tbody tr th {\n",
              "        vertical-align: top;\n",
              "    }\n",
              "\n",
              "    .dataframe thead th {\n",
              "        text-align: right;\n",
              "    }\n",
              "</style>\n",
              "<table border=\"1\" class=\"dataframe\">\n",
              "  <thead>\n",
              "    <tr style=\"text-align: right;\">\n",
              "      <th></th>\n",
              "      <th>FCI</th>\n",
              "      <th>Numpy</th>\n",
              "      <th>VQE</th>\n",
              "      <th>HF</th>\n",
              "    </tr>\n",
              "  </thead>\n",
              "  <tbody>\n",
              "    <tr>\n",
              "      <th>E_tot (a.u.)</th>\n",
              "      <td>-560.88044</td>\n",
              "      <td>-560.88044</td>\n",
              "      <td>-560.880213</td>\n",
              "      <td>-560.839162</td>\n",
              "    </tr>\n",
              "    <tr>\n",
              "      <th>Error (kcal/mol)</th>\n",
              "      <td></td>\n",
              "      <td></td>\n",
              "      <td>0.142459</td>\n",
              "      <td>25.902117</td>\n",
              "    </tr>\n",
              "  </tbody>\n",
              "</table>\n",
              "</div>\n",
              "    <div class=\"colab-df-buttons\">\n",
              "\n",
              "  <div class=\"colab-df-container\">\n",
              "    <button class=\"colab-df-convert\" onclick=\"convertToInteractive('df-4a3ed9ca-7d0f-4d0d-95e2-610e66918c3d')\"\n",
              "            title=\"Convert this dataframe to an interactive table.\"\n",
              "            style=\"display:none;\">\n",
              "\n",
              "  <svg xmlns=\"http://www.w3.org/2000/svg\" height=\"24px\" viewBox=\"0 -960 960 960\">\n",
              "    <path d=\"M120-120v-720h720v720H120Zm60-500h600v-160H180v160Zm220 220h160v-160H400v160Zm0 220h160v-160H400v160ZM180-400h160v-160H180v160Zm440 0h160v-160H620v160ZM180-180h160v-160H180v160Zm440 0h160v-160H620v160Z\"/>\n",
              "  </svg>\n",
              "    </button>\n",
              "\n",
              "  <style>\n",
              "    .colab-df-container {\n",
              "      display:flex;\n",
              "      gap: 12px;\n",
              "    }\n",
              "\n",
              "    .colab-df-convert {\n",
              "      background-color: #E8F0FE;\n",
              "      border: none;\n",
              "      border-radius: 50%;\n",
              "      cursor: pointer;\n",
              "      display: none;\n",
              "      fill: #1967D2;\n",
              "      height: 32px;\n",
              "      padding: 0 0 0 0;\n",
              "      width: 32px;\n",
              "    }\n",
              "\n",
              "    .colab-df-convert:hover {\n",
              "      background-color: #E2EBFA;\n",
              "      box-shadow: 0px 1px 2px rgba(60, 64, 67, 0.3), 0px 1px 3px 1px rgba(60, 64, 67, 0.15);\n",
              "      fill: #174EA6;\n",
              "    }\n",
              "\n",
              "    .colab-df-buttons div {\n",
              "      margin-bottom: 4px;\n",
              "    }\n",
              "\n",
              "    [theme=dark] .colab-df-convert {\n",
              "      background-color: #3B4455;\n",
              "      fill: #D2E3FC;\n",
              "    }\n",
              "\n",
              "    [theme=dark] .colab-df-convert:hover {\n",
              "      background-color: #434B5C;\n",
              "      box-shadow: 0px 1px 3px 1px rgba(0, 0, 0, 0.15);\n",
              "      filter: drop-shadow(0px 1px 2px rgba(0, 0, 0, 0.3));\n",
              "      fill: #FFFFFF;\n",
              "    }\n",
              "  </style>\n",
              "\n",
              "    <script>\n",
              "      const buttonEl =\n",
              "        document.querySelector('#df-4a3ed9ca-7d0f-4d0d-95e2-610e66918c3d button.colab-df-convert');\n",
              "      buttonEl.style.display =\n",
              "        google.colab.kernel.accessAllowed ? 'block' : 'none';\n",
              "\n",
              "      async function convertToInteractive(key) {\n",
              "        const element = document.querySelector('#df-4a3ed9ca-7d0f-4d0d-95e2-610e66918c3d');\n",
              "        const dataTable =\n",
              "          await google.colab.kernel.invokeFunction('convertToInteractive',\n",
              "                                                    [key], {});\n",
              "        if (!dataTable) return;\n",
              "\n",
              "        const docLinkHtml = 'Like what you see? Visit the ' +\n",
              "          '<a target=\"_blank\" href=https://colab.research.google.com/notebooks/data_table.ipynb>data table notebook</a>'\n",
              "          + ' to learn more about interactive tables.';\n",
              "        element.innerHTML = '';\n",
              "        dataTable['output_type'] = 'display_data';\n",
              "        await google.colab.output.renderOutput(dataTable, element);\n",
              "        const docLink = document.createElement('div');\n",
              "        docLink.innerHTML = docLinkHtml;\n",
              "        element.appendChild(docLink);\n",
              "      }\n",
              "    </script>\n",
              "  </div>\n",
              "\n",
              "\n",
              "<div id=\"df-847a392b-5c92-45d4-975e-2dd0152ac86e\">\n",
              "  <button class=\"colab-df-quickchart\" onclick=\"quickchart('df-847a392b-5c92-45d4-975e-2dd0152ac86e')\"\n",
              "            title=\"Suggest charts\"\n",
              "            style=\"display:none;\">\n",
              "\n",
              "<svg xmlns=\"http://www.w3.org/2000/svg\" height=\"24px\"viewBox=\"0 0 24 24\"\n",
              "     width=\"24px\">\n",
              "    <g>\n",
              "        <path d=\"M19 3H5c-1.1 0-2 .9-2 2v14c0 1.1.9 2 2 2h14c1.1 0 2-.9 2-2V5c0-1.1-.9-2-2-2zM9 17H7v-7h2v7zm4 0h-2V7h2v10zm4 0h-2v-4h2v4z\"/>\n",
              "    </g>\n",
              "</svg>\n",
              "  </button>\n",
              "\n",
              "<style>\n",
              "  .colab-df-quickchart {\n",
              "      --bg-color: #E8F0FE;\n",
              "      --fill-color: #1967D2;\n",
              "      --hover-bg-color: #E2EBFA;\n",
              "      --hover-fill-color: #174EA6;\n",
              "      --disabled-fill-color: #AAA;\n",
              "      --disabled-bg-color: #DDD;\n",
              "  }\n",
              "\n",
              "  [theme=dark] .colab-df-quickchart {\n",
              "      --bg-color: #3B4455;\n",
              "      --fill-color: #D2E3FC;\n",
              "      --hover-bg-color: #434B5C;\n",
              "      --hover-fill-color: #FFFFFF;\n",
              "      --disabled-bg-color: #3B4455;\n",
              "      --disabled-fill-color: #666;\n",
              "  }\n",
              "\n",
              "  .colab-df-quickchart {\n",
              "    background-color: var(--bg-color);\n",
              "    border: none;\n",
              "    border-radius: 50%;\n",
              "    cursor: pointer;\n",
              "    display: none;\n",
              "    fill: var(--fill-color);\n",
              "    height: 32px;\n",
              "    padding: 0;\n",
              "    width: 32px;\n",
              "  }\n",
              "\n",
              "  .colab-df-quickchart:hover {\n",
              "    background-color: var(--hover-bg-color);\n",
              "    box-shadow: 0 1px 2px rgba(60, 64, 67, 0.3), 0 1px 3px 1px rgba(60, 64, 67, 0.15);\n",
              "    fill: var(--button-hover-fill-color);\n",
              "  }\n",
              "\n",
              "  .colab-df-quickchart-complete:disabled,\n",
              "  .colab-df-quickchart-complete:disabled:hover {\n",
              "    background-color: var(--disabled-bg-color);\n",
              "    fill: var(--disabled-fill-color);\n",
              "    box-shadow: none;\n",
              "  }\n",
              "\n",
              "  .colab-df-spinner {\n",
              "    border: 2px solid var(--fill-color);\n",
              "    border-color: transparent;\n",
              "    border-bottom-color: var(--fill-color);\n",
              "    animation:\n",
              "      spin 1s steps(1) infinite;\n",
              "  }\n",
              "\n",
              "  @keyframes spin {\n",
              "    0% {\n",
              "      border-color: transparent;\n",
              "      border-bottom-color: var(--fill-color);\n",
              "      border-left-color: var(--fill-color);\n",
              "    }\n",
              "    20% {\n",
              "      border-color: transparent;\n",
              "      border-left-color: var(--fill-color);\n",
              "      border-top-color: var(--fill-color);\n",
              "    }\n",
              "    30% {\n",
              "      border-color: transparent;\n",
              "      border-left-color: var(--fill-color);\n",
              "      border-top-color: var(--fill-color);\n",
              "      border-right-color: var(--fill-color);\n",
              "    }\n",
              "    40% {\n",
              "      border-color: transparent;\n",
              "      border-right-color: var(--fill-color);\n",
              "      border-top-color: var(--fill-color);\n",
              "    }\n",
              "    60% {\n",
              "      border-color: transparent;\n",
              "      border-right-color: var(--fill-color);\n",
              "    }\n",
              "    80% {\n",
              "      border-color: transparent;\n",
              "      border-right-color: var(--fill-color);\n",
              "      border-bottom-color: var(--fill-color);\n",
              "    }\n",
              "    90% {\n",
              "      border-color: transparent;\n",
              "      border-bottom-color: var(--fill-color);\n",
              "    }\n",
              "  }\n",
              "</style>\n",
              "\n",
              "  <script>\n",
              "    async function quickchart(key) {\n",
              "      const quickchartButtonEl =\n",
              "        document.querySelector('#' + key + ' button');\n",
              "      quickchartButtonEl.disabled = true;  // To prevent multiple clicks.\n",
              "      quickchartButtonEl.classList.add('colab-df-spinner');\n",
              "      try {\n",
              "        const charts = await google.colab.kernel.invokeFunction(\n",
              "            'suggestCharts', [key], {});\n",
              "      } catch (error) {\n",
              "        console.error('Error during call to suggestCharts:', error);\n",
              "      }\n",
              "      quickchartButtonEl.classList.remove('colab-df-spinner');\n",
              "      quickchartButtonEl.classList.add('colab-df-quickchart-complete');\n",
              "    }\n",
              "    (() => {\n",
              "      let quickchartButtonEl =\n",
              "        document.querySelector('#df-847a392b-5c92-45d4-975e-2dd0152ac86e button');\n",
              "      quickchartButtonEl.style.display =\n",
              "        google.colab.kernel.accessAllowed ? 'block' : 'none';\n",
              "    })();\n",
              "  </script>\n",
              "</div>\n",
              "    </div>\n",
              "  </div>\n"
            ],
            "text/plain": [
              "                        FCI      Numpy         VQE          HF\n",
              "E_tot (a.u.)     -560.88044 -560.88044 -560.880213 -560.839162\n",
              "Error (kcal/mol)                          0.142459   25.902117"
            ]
          },
          "execution_count": 82,
          "metadata": {},
          "output_type": "execute_result"
        }
      ],
      "source": [
        "error_VQE_NP = abs(GS_VQE_res.total_energies[0] - GS_NP_res.total_energies[0]) * au2kcalc\n",
        "error_HF_NP = abs(GS_VQE_res.hartree_fock_energy - GS_NP_res.total_energies[0]) * au2kcalc\n",
        "\n",
        "import pandas as pd\n",
        "\n",
        "# Create the results dataframe\n",
        "dict_res = {'FCI': [GS_FCI_res.total_energies[0], ''],\n",
        "            'Numpy': [GS_NP_res.total_energies[0], ''],\n",
        "            'VQE': [GS_VQE_res.total_energies[0], error_VQE_NP],\n",
        "            'HF': [GS_VQE_res.hartree_fock_energy, error_HF_NP]}\n",
        "df_GS = pd.DataFrame(dict_res, index = ['E_tot (a.u.)', 'Error (kcal/mol)'])\n",
        "\n",
        "df_GS\n"
      ]
    },
    {
      "cell_type": "markdown",
      "metadata": {
        "id": "39hNzUSF6AIM"
      },
      "source": [
        "## Etats excités\n",
        "\n",
        "Calculons maintenant les énergies des états excités de notre Hamiltonien moléculaire et en déduisons la\n",
        "* la bande interdite ou l'écart entre le niveau fondamental $S_0$ et le premier niveau excité (le niveau triplet $T_1$),\n",
        "* et et de l'énergie de fluorescence ou l'écart entre le niveau fondamental $S_0$ et le premier niveau excité singulet $S_1$.\n",
        "\n",
        "![Molecule_HOMO-LUMO_diagram](Graphics/Molecule_HOMO-LUMO_diagram.png)\n"
      ]
    },
    {
      "cell_type": "markdown",
      "metadata": {
        "id": "Cqw_O1AH6AIN"
      },
      "source": [
        "### Calcul avec `ExcitedStatesEigensolver`\n",
        "\n",
        "Effectuons les calculs avec `NumPyEigensolver` avec le critère de filtre par défaut activé."
      ]
    },
    {
      "cell_type": "code",
      "execution_count": 83,
      "metadata": {
        "colab": {
          "base_uri": "https://localhost:8080/"
        },
        "id": "E9iS1N8o6AIN",
        "outputId": "62c7fb53-d2a5-4c7b-dcf4-8737a87be1d0"
      },
      "outputs": [
        {
          "name": "stdout",
          "output_type": "stream",
          "text": [
            "=== GROUND STATE ENERGY ===\n",
            " \n",
            "* Electronic ground state energy (Hartree): -764.419565104202\n",
            "  - computed part:      -3.079445017779\n",
            "  - ActiveSpaceTransformer extracted energy part: -761.340120086423\n",
            "~ Nuclear repulsion energy (Hartree): 203.539124974016\n",
            "> Total ground state energy (Hartree): -560.880440130186\n",
            " \n",
            "=== EXCITED STATE ENERGIES ===\n",
            " \n",
            "  1: \n",
            "* Electronic excited state energy (Hartree): -764.122470836677\n",
            "> Total excited state energy (Hartree): -560.583345862661\n",
            "  2: \n",
            "* Electronic excited state energy (Hartree): -764.043946955492\n",
            "> Total excited state energy (Hartree): -560.504821981476\n",
            "  3: \n",
            "* Electronic excited state energy (Hartree): -764.009962482753\n",
            "> Total excited state energy (Hartree): -560.470837508737\n",
            " \n",
            "=== MEASURED OBSERVABLES ===\n",
            " \n",
            "  0:  # Particles: 4.000 S: 0.000 S^2: 0.000 M: 0.000\n",
            "  1:  # Particles: 4.000 S: 0.000 S^2: 0.000 M: 0.000\n",
            "  2:  # Particles: 4.000 S: 0.000 S^2: 0.000 M: 0.000\n",
            "  3:  # Particles: 4.000 S: 0.000 S^2: 0.000 M: 0.000\n",
            " \n",
            "=== DIPOLE MOMENTS ===\n",
            " \n",
            "~ Nuclear dipole moment (a.u.): [2.06679346  -3.72748478  -1.40085398]\n",
            " \n",
            "  0: \n",
            "  * Electronic dipole moment (a.u.): [1.37337707978  -3.654082194976  -1.064035849917]\n",
            "    - computed part:      [0.292824754925  -0.508434565402  -0.196037589752]\n",
            "    - ActiveSpaceTransformer extracted energy part: [1.080552324856  -3.145647629574  -0.867998260166]\n",
            "  > Dipole moment (a.u.): [0.69341638022  -0.073402585024  -0.336818130083]  Total: 0.774377600785\n",
            "                 (debye): [1.762488470975  -0.186570743834  -0.856106212688]  Total: 1.968271348208\n",
            " \n",
            "  1: \n",
            "  * Electronic dipole moment (a.u.): [1.241090548926  -4.281942390216  -1.072389398989]\n",
            "    - computed part:      [0.16053822407  -1.136294760642  -0.204391138823]\n",
            "    - ActiveSpaceTransformer extracted energy part: [1.080552324856  -3.145647629574  -0.867998260166]\n",
            "  > Dipole moment (a.u.): [0.825702911074  0.554457610216  -0.328464581011]  Total: 1.047424231084\n",
            "                 (debye): [2.098727262194  1.409290541046  -0.834873610821]  Total: 2.662286591673\n",
            " \n",
            "  2: \n",
            "  * Electronic dipole moment (a.u.): [1.1564841566  -4.493863443562  -1.056045163862]\n",
            "    - computed part:      [0.075931831744  -1.348215813988  -0.188046903696]\n",
            "    - ActiveSpaceTransformer extracted energy part: [1.080552324856  -3.145647629574  -0.867998260166]\n",
            "  > Dipole moment (a.u.): [0.9103093034  0.766378663562  -0.344808816138]  Total: 1.238907746165\n",
            "                 (debye): [2.313775241012  1.947940079669  -0.876416508854]  Total: 3.148989094439\n",
            " \n",
            "  3: \n",
            "  * Electronic dipole moment (a.u.): [1.201003480076  -4.430006088584  -1.070229919034]\n",
            "    - computed part:      [0.12045115522  -1.28435845901  -0.202231658869]\n",
            "    - ActiveSpaceTransformer extracted energy part: [1.080552324856  -3.145647629574  -0.867998260166]\n",
            "  > Dipole moment (a.u.): [0.865789979924  0.702521308584  -0.330624060966]  Total: 1.162944860276\n",
            "                 (debye): [2.200618418358  1.785630888329  -0.840362460856]  Total: 2.95591071553\n",
            " \n"
          ]
        }
      ],
      "source": [
        "from qiskit_nature.second_q.algorithms import ExcitedStatesEigensolver\n",
        "from qiskit_algorithms import NumPyEigensolver\n",
        "\n",
        "numpy_solver = NumPyEigensolver(k=4, filter_criterion=problem.get_default_filter_criterion())\n",
        "\n",
        "numpy_ES_solver = ExcitedStatesEigensolver(mapper, numpy_solver)\n",
        "NP_ES = numpy_ES_solver.solve(problem)\n",
        "\n",
        "print(NP_ES)"
      ]
    },
    {
      "cell_type": "code",
      "execution_count": 84,
      "metadata": {
        "colab": {
          "base_uri": "https://localhost:8080/"
        },
        "id": "mUw8M39_6AIN",
        "outputId": "6d342601-6d4f-4b79-cd21-270ff9d91bd6"
      },
      "outputs": [
        {
          "name": "stdout",
          "output_type": "stream",
          "text": [
            "Total Numpy ES energy T1 = -560.5833458626611 a.u.\n",
            "Total Numpy ES energy S1 = -560.504821981476 a.u.\n",
            "The bandgap obtained form Numpy ES calculations is : -75.71162030819806 eV\n",
            "The fluorescence energy obtained form Numpy ES calculations is : -73.574876665481 eV\n"
          ]
        }
      ],
      "source": [
        "ET1_NP = NP_ES.total_energies[1]\n",
        "ES1_NP = NP_ES.total_energies[2]\n",
        "NP_gap = NP_ES.computed_energies[1] * au2ev\n",
        "NP_f_energy = NP_ES.computed_energies[2] * au2ev\n",
        "\n",
        "print(f'Total Numpy ES energy T1 = {ET1_NP} a.u.')\n",
        "print(f'Total Numpy ES energy S1 = {ES1_NP} a.u.')\n",
        "print(f'The bandgap obtained form Numpy ES calculations is : {NP_gap} eV')\n",
        "print(f'The fluorescence energy obtained form Numpy ES calculations is : {NP_f_energy} eV')\n"
      ]
    },
    {
      "cell_type": "code",
      "execution_count": 85,
      "metadata": {
        "colab": {
          "base_uri": "https://localhost:8080/",
          "height": 175
        },
        "id": "3QiSS6SS6AIN",
        "outputId": "e2fd109e-5fa1-4b59-d80a-d728487790ba"
      },
      "outputs": [
        {
          "data": {
            "application/vnd.google.colaboratory.intrinsic+json": {
              "summary": "{\n  \"name\": \"df_NP\",\n  \"rows\": 4,\n  \"fields\": [\n    {\n      \"column\": \"Numpy ES\",\n      \"properties\": {\n        \"dtype\": \"number\",\n        \"std\": 280.5363362064118,\n        \"min\": -560.5833458626611,\n        \"max\": -73.574876665481,\n        \"num_unique_values\": 4,\n        \"samples\": [\n          -560.504821981476,\n          -75.71162030819806,\n          -560.5833458626611\n        ],\n        \"semantic_type\": \"\",\n        \"description\": \"\"\n      }\n    }\n  ]\n}",
              "type": "dataframe",
              "variable_name": "df_NP"
            },
            "text/html": [
              "\n",
              "  <div id=\"df-e59b713c-d362-4ac7-9baa-49d43fe572d9\" class=\"colab-df-container\">\n",
              "    <div>\n",
              "<style scoped>\n",
              "    .dataframe tbody tr th:only-of-type {\n",
              "        vertical-align: middle;\n",
              "    }\n",
              "\n",
              "    .dataframe tbody tr th {\n",
              "        vertical-align: top;\n",
              "    }\n",
              "\n",
              "    .dataframe thead th {\n",
              "        text-align: right;\n",
              "    }\n",
              "</style>\n",
              "<table border=\"1\" class=\"dataframe\">\n",
              "  <thead>\n",
              "    <tr style=\"text-align: right;\">\n",
              "      <th></th>\n",
              "      <th>Numpy ES</th>\n",
              "    </tr>\n",
              "  </thead>\n",
              "  <tbody>\n",
              "    <tr>\n",
              "      <th>ES energy T1 (a.u.)</th>\n",
              "      <td>-560.583346</td>\n",
              "    </tr>\n",
              "    <tr>\n",
              "      <th>ES energy S1 (a.u.)</th>\n",
              "      <td>-560.504822</td>\n",
              "    </tr>\n",
              "    <tr>\n",
              "      <th>f_energy ES1-ES0 (eV)</th>\n",
              "      <td>-73.574877</td>\n",
              "    </tr>\n",
              "    <tr>\n",
              "      <th>Gap ES1 - ET1 (eV)</th>\n",
              "      <td>-75.711620</td>\n",
              "    </tr>\n",
              "  </tbody>\n",
              "</table>\n",
              "</div>\n",
              "    <div class=\"colab-df-buttons\">\n",
              "\n",
              "  <div class=\"colab-df-container\">\n",
              "    <button class=\"colab-df-convert\" onclick=\"convertToInteractive('df-e59b713c-d362-4ac7-9baa-49d43fe572d9')\"\n",
              "            title=\"Convert this dataframe to an interactive table.\"\n",
              "            style=\"display:none;\">\n",
              "\n",
              "  <svg xmlns=\"http://www.w3.org/2000/svg\" height=\"24px\" viewBox=\"0 -960 960 960\">\n",
              "    <path d=\"M120-120v-720h720v720H120Zm60-500h600v-160H180v160Zm220 220h160v-160H400v160Zm0 220h160v-160H400v160ZM180-400h160v-160H180v160Zm440 0h160v-160H620v160ZM180-180h160v-160H180v160Zm440 0h160v-160H620v160Z\"/>\n",
              "  </svg>\n",
              "    </button>\n",
              "\n",
              "  <style>\n",
              "    .colab-df-container {\n",
              "      display:flex;\n",
              "      gap: 12px;\n",
              "    }\n",
              "\n",
              "    .colab-df-convert {\n",
              "      background-color: #E8F0FE;\n",
              "      border: none;\n",
              "      border-radius: 50%;\n",
              "      cursor: pointer;\n",
              "      display: none;\n",
              "      fill: #1967D2;\n",
              "      height: 32px;\n",
              "      padding: 0 0 0 0;\n",
              "      width: 32px;\n",
              "    }\n",
              "\n",
              "    .colab-df-convert:hover {\n",
              "      background-color: #E2EBFA;\n",
              "      box-shadow: 0px 1px 2px rgba(60, 64, 67, 0.3), 0px 1px 3px 1px rgba(60, 64, 67, 0.15);\n",
              "      fill: #174EA6;\n",
              "    }\n",
              "\n",
              "    .colab-df-buttons div {\n",
              "      margin-bottom: 4px;\n",
              "    }\n",
              "\n",
              "    [theme=dark] .colab-df-convert {\n",
              "      background-color: #3B4455;\n",
              "      fill: #D2E3FC;\n",
              "    }\n",
              "\n",
              "    [theme=dark] .colab-df-convert:hover {\n",
              "      background-color: #434B5C;\n",
              "      box-shadow: 0px 1px 3px 1px rgba(0, 0, 0, 0.15);\n",
              "      filter: drop-shadow(0px 1px 2px rgba(0, 0, 0, 0.3));\n",
              "      fill: #FFFFFF;\n",
              "    }\n",
              "  </style>\n",
              "\n",
              "    <script>\n",
              "      const buttonEl =\n",
              "        document.querySelector('#df-e59b713c-d362-4ac7-9baa-49d43fe572d9 button.colab-df-convert');\n",
              "      buttonEl.style.display =\n",
              "        google.colab.kernel.accessAllowed ? 'block' : 'none';\n",
              "\n",
              "      async function convertToInteractive(key) {\n",
              "        const element = document.querySelector('#df-e59b713c-d362-4ac7-9baa-49d43fe572d9');\n",
              "        const dataTable =\n",
              "          await google.colab.kernel.invokeFunction('convertToInteractive',\n",
              "                                                    [key], {});\n",
              "        if (!dataTable) return;\n",
              "\n",
              "        const docLinkHtml = 'Like what you see? Visit the ' +\n",
              "          '<a target=\"_blank\" href=https://colab.research.google.com/notebooks/data_table.ipynb>data table notebook</a>'\n",
              "          + ' to learn more about interactive tables.';\n",
              "        element.innerHTML = '';\n",
              "        dataTable['output_type'] = 'display_data';\n",
              "        await google.colab.output.renderOutput(dataTable, element);\n",
              "        const docLink = document.createElement('div');\n",
              "        docLink.innerHTML = docLinkHtml;\n",
              "        element.appendChild(docLink);\n",
              "      }\n",
              "    </script>\n",
              "  </div>\n",
              "\n",
              "\n",
              "<div id=\"df-1da73c08-be2c-42e2-be10-d413b8c6aa7f\">\n",
              "  <button class=\"colab-df-quickchart\" onclick=\"quickchart('df-1da73c08-be2c-42e2-be10-d413b8c6aa7f')\"\n",
              "            title=\"Suggest charts\"\n",
              "            style=\"display:none;\">\n",
              "\n",
              "<svg xmlns=\"http://www.w3.org/2000/svg\" height=\"24px\"viewBox=\"0 0 24 24\"\n",
              "     width=\"24px\">\n",
              "    <g>\n",
              "        <path d=\"M19 3H5c-1.1 0-2 .9-2 2v14c0 1.1.9 2 2 2h14c1.1 0 2-.9 2-2V5c0-1.1-.9-2-2-2zM9 17H7v-7h2v7zm4 0h-2V7h2v10zm4 0h-2v-4h2v4z\"/>\n",
              "    </g>\n",
              "</svg>\n",
              "  </button>\n",
              "\n",
              "<style>\n",
              "  .colab-df-quickchart {\n",
              "      --bg-color: #E8F0FE;\n",
              "      --fill-color: #1967D2;\n",
              "      --hover-bg-color: #E2EBFA;\n",
              "      --hover-fill-color: #174EA6;\n",
              "      --disabled-fill-color: #AAA;\n",
              "      --disabled-bg-color: #DDD;\n",
              "  }\n",
              "\n",
              "  [theme=dark] .colab-df-quickchart {\n",
              "      --bg-color: #3B4455;\n",
              "      --fill-color: #D2E3FC;\n",
              "      --hover-bg-color: #434B5C;\n",
              "      --hover-fill-color: #FFFFFF;\n",
              "      --disabled-bg-color: #3B4455;\n",
              "      --disabled-fill-color: #666;\n",
              "  }\n",
              "\n",
              "  .colab-df-quickchart {\n",
              "    background-color: var(--bg-color);\n",
              "    border: none;\n",
              "    border-radius: 50%;\n",
              "    cursor: pointer;\n",
              "    display: none;\n",
              "    fill: var(--fill-color);\n",
              "    height: 32px;\n",
              "    padding: 0;\n",
              "    width: 32px;\n",
              "  }\n",
              "\n",
              "  .colab-df-quickchart:hover {\n",
              "    background-color: var(--hover-bg-color);\n",
              "    box-shadow: 0 1px 2px rgba(60, 64, 67, 0.3), 0 1px 3px 1px rgba(60, 64, 67, 0.15);\n",
              "    fill: var(--button-hover-fill-color);\n",
              "  }\n",
              "\n",
              "  .colab-df-quickchart-complete:disabled,\n",
              "  .colab-df-quickchart-complete:disabled:hover {\n",
              "    background-color: var(--disabled-bg-color);\n",
              "    fill: var(--disabled-fill-color);\n",
              "    box-shadow: none;\n",
              "  }\n",
              "\n",
              "  .colab-df-spinner {\n",
              "    border: 2px solid var(--fill-color);\n",
              "    border-color: transparent;\n",
              "    border-bottom-color: var(--fill-color);\n",
              "    animation:\n",
              "      spin 1s steps(1) infinite;\n",
              "  }\n",
              "\n",
              "  @keyframes spin {\n",
              "    0% {\n",
              "      border-color: transparent;\n",
              "      border-bottom-color: var(--fill-color);\n",
              "      border-left-color: var(--fill-color);\n",
              "    }\n",
              "    20% {\n",
              "      border-color: transparent;\n",
              "      border-left-color: var(--fill-color);\n",
              "      border-top-color: var(--fill-color);\n",
              "    }\n",
              "    30% {\n",
              "      border-color: transparent;\n",
              "      border-left-color: var(--fill-color);\n",
              "      border-top-color: var(--fill-color);\n",
              "      border-right-color: var(--fill-color);\n",
              "    }\n",
              "    40% {\n",
              "      border-color: transparent;\n",
              "      border-right-color: var(--fill-color);\n",
              "      border-top-color: var(--fill-color);\n",
              "    }\n",
              "    60% {\n",
              "      border-color: transparent;\n",
              "      border-right-color: var(--fill-color);\n",
              "    }\n",
              "    80% {\n",
              "      border-color: transparent;\n",
              "      border-right-color: var(--fill-color);\n",
              "      border-bottom-color: var(--fill-color);\n",
              "    }\n",
              "    90% {\n",
              "      border-color: transparent;\n",
              "      border-bottom-color: var(--fill-color);\n",
              "    }\n",
              "  }\n",
              "</style>\n",
              "\n",
              "  <script>\n",
              "    async function quickchart(key) {\n",
              "      const quickchartButtonEl =\n",
              "        document.querySelector('#' + key + ' button');\n",
              "      quickchartButtonEl.disabled = true;  // To prevent multiple clicks.\n",
              "      quickchartButtonEl.classList.add('colab-df-spinner');\n",
              "      try {\n",
              "        const charts = await google.colab.kernel.invokeFunction(\n",
              "            'suggestCharts', [key], {});\n",
              "      } catch (error) {\n",
              "        console.error('Error during call to suggestCharts:', error);\n",
              "      }\n",
              "      quickchartButtonEl.classList.remove('colab-df-spinner');\n",
              "      quickchartButtonEl.classList.add('colab-df-quickchart-complete');\n",
              "    }\n",
              "    (() => {\n",
              "      let quickchartButtonEl =\n",
              "        document.querySelector('#df-1da73c08-be2c-42e2-be10-d413b8c6aa7f button');\n",
              "      quickchartButtonEl.style.display =\n",
              "        google.colab.kernel.accessAllowed ? 'block' : 'none';\n",
              "    })();\n",
              "  </script>\n",
              "</div>\n",
              "    </div>\n",
              "  </div>\n"
            ],
            "text/plain": [
              "                         Numpy ES\n",
              "ES energy T1 (a.u.)   -560.583346\n",
              "ES energy S1 (a.u.)   -560.504822\n",
              "f_energy ES1-ES0 (eV)  -73.574877\n",
              "Gap ES1 - ET1 (eV)     -75.711620"
            ]
          },
          "execution_count": 85,
          "metadata": {},
          "output_type": "execute_result"
        }
      ],
      "source": [
        "# Create the results dataframe\n",
        "list_results_NP = [ET1_NP, ES1_NP, NP_f_energy, NP_gap]\n",
        "dict_results_NP = {'Numpy ES': list_results_NP}\n",
        "df_NP = pd.DataFrame(dict_results_NP,\n",
        "                    index = ['ES energy T1 (a.u.)', 'ES energy S1 (a.u.)',\n",
        "                            'f_energy ES1-ES0 (eV)', 'Gap ES1 - ET1 (eV)'])\n",
        "\n",
        "df_NP"
      ]
    },
    {
      "cell_type": "markdown",
      "metadata": {
        "id": "cn8oVwCZ6AIO"
      },
      "source": [
        "### Calculs avec `PySCFGroundStateSolver`"
      ]
    },
    {
      "cell_type": "code",
      "execution_count": 86,
      "metadata": {
        "colab": {
          "base_uri": "https://localhost:8080/"
        },
        "id": "l7FW49iC6AIO",
        "outputId": "88ebdc65-4a5e-4682-a5a8-4259e5af8f59"
      },
      "outputs": [
        {
          "name": "stdout",
          "output_type": "stream",
          "text": [
            "=== GROUND STATE ENERGY ===\n",
            " \n",
            "* Electronic ground state energy (Hartree): -764.419565104202\n",
            "  - computed part:      -3.079445017779\n",
            "  - ActiveSpaceTransformer extracted energy part: -761.340120086423\n",
            "~ Nuclear repulsion energy (Hartree): 203.539124974016\n",
            "> Total ground state energy (Hartree): -560.880440130186\n",
            " \n",
            "=== EXCITED STATE ENERGIES ===\n",
            " \n",
            "  1: \n",
            "* Electronic excited state energy (Hartree): -764.251287516913\n",
            "> Total excited state energy (Hartree): -560.712162542897\n",
            "  2: \n",
            "* Electronic excited state energy (Hartree): -764.201014546775\n",
            "> Total excited state energy (Hartree): -560.661889572759\n",
            "  3: \n",
            "* Electronic excited state energy (Hartree): -764.122470836677\n",
            "> Total excited state energy (Hartree): -560.583345862661\n",
            " \n",
            "=== MEASURED OBSERVABLES ===\n",
            " \n",
            "  0:  # Particles: 4.000 S: 0.000 S^2: 0.000 M: 0.000\n",
            "  1:  # Particles: 4.000 S: 1.000 S^2: 2.000 M: 0.000\n",
            "  2:  # Particles: 4.000 S: 1.000 S^2: 2.000 M: 0.000\n",
            "  3:  # Particles: 4.000 S: 0.000 S^2: 0.000 M: 0.000\n"
          ]
        }
      ],
      "source": [
        "fci_solver.nroots = 4\n",
        "solver_fci = PySCFGroundStateSolver(fci_solver)\n",
        "FCI_ES = solver_fci.solve(problem)\n",
        "print(FCI_ES)"
      ]
    },
    {
      "cell_type": "code",
      "execution_count": 87,
      "metadata": {
        "colab": {
          "base_uri": "https://localhost:8080/"
        },
        "id": "kQqA_vNl6AIO",
        "outputId": "3a1d4989-2560-4395-c505-7eae97ce5851"
      },
      "outputs": [
        {
          "name": "stdout",
          "output_type": "stream",
          "text": [
            "Total FCI ES energy T1 = -560.7121625428969 a.u.\n",
            "Total FCI ES energy S1 = -560.6618895727594 a.u.\n",
            "The bandgap obtained form FCI ES calculations is : -79.21690071990727 eV\n",
            "The fluorescence energy obtained form FCI ES calculations is : -77.84890352312551 eV\n"
          ]
        }
      ],
      "source": [
        "ET1_FCI = FCI_ES.total_energies[1]\n",
        "ES1_FCI = FCI_ES.total_energies[2]\n",
        "FCI_gap = FCI_ES.computed_energies[1] * au2ev\n",
        "FCI_f_energy = FCI_ES.computed_energies[2] * au2ev\n",
        "\n",
        "print(f'Total FCI ES energy T1 = {ET1_FCI} a.u.')\n",
        "print(f'Total FCI ES energy S1 = {ES1_FCI} a.u.')\n",
        "print(f'The bandgap obtained form FCI ES calculations is : {FCI_gap} eV')\n",
        "print(f'The fluorescence energy obtained form FCI ES calculations is : {FCI_f_energy} eV')"
      ]
    },
    {
      "cell_type": "code",
      "execution_count": 88,
      "metadata": {
        "colab": {
          "base_uri": "https://localhost:8080/",
          "height": 175
        },
        "id": "psPxAsf86AIO",
        "outputId": "259ea253-7a4d-499b-9152-672bd4e4f138"
      },
      "outputs": [
        {
          "data": {
            "application/vnd.google.colaboratory.intrinsic+json": {
              "summary": "{\n  \"name\": \"df_FCI\",\n  \"rows\": 4,\n  \"fields\": [\n    {\n      \"column\": \"FCI ES\",\n      \"properties\": {\n        \"dtype\": \"number\",\n        \"std\": 278.3723742283845,\n        \"min\": -560.7121625428969,\n        \"max\": -77.84890352312551,\n        \"num_unique_values\": 4,\n        \"samples\": [\n          -560.6618895727594,\n          -79.21690071990727,\n          -560.7121625428969\n        ],\n        \"semantic_type\": \"\",\n        \"description\": \"\"\n      }\n    }\n  ]\n}",
              "type": "dataframe",
              "variable_name": "df_FCI"
            },
            "text/html": [
              "\n",
              "  <div id=\"df-7b5ed3c6-0112-4ada-b442-6586c60c460f\" class=\"colab-df-container\">\n",
              "    <div>\n",
              "<style scoped>\n",
              "    .dataframe tbody tr th:only-of-type {\n",
              "        vertical-align: middle;\n",
              "    }\n",
              "\n",
              "    .dataframe tbody tr th {\n",
              "        vertical-align: top;\n",
              "    }\n",
              "\n",
              "    .dataframe thead th {\n",
              "        text-align: right;\n",
              "    }\n",
              "</style>\n",
              "<table border=\"1\" class=\"dataframe\">\n",
              "  <thead>\n",
              "    <tr style=\"text-align: right;\">\n",
              "      <th></th>\n",
              "      <th>FCI ES</th>\n",
              "    </tr>\n",
              "  </thead>\n",
              "  <tbody>\n",
              "    <tr>\n",
              "      <th>ES energy T1 (a.u.)</th>\n",
              "      <td>-560.712163</td>\n",
              "    </tr>\n",
              "    <tr>\n",
              "      <th>ES energy S1 (a.u.)</th>\n",
              "      <td>-560.661890</td>\n",
              "    </tr>\n",
              "    <tr>\n",
              "      <th>f_energy ES1-ES0 (eV)</th>\n",
              "      <td>-77.848904</td>\n",
              "    </tr>\n",
              "    <tr>\n",
              "      <th>Gap ES1 - ET1 (eV)</th>\n",
              "      <td>-79.216901</td>\n",
              "    </tr>\n",
              "  </tbody>\n",
              "</table>\n",
              "</div>\n",
              "    <div class=\"colab-df-buttons\">\n",
              "\n",
              "  <div class=\"colab-df-container\">\n",
              "    <button class=\"colab-df-convert\" onclick=\"convertToInteractive('df-7b5ed3c6-0112-4ada-b442-6586c60c460f')\"\n",
              "            title=\"Convert this dataframe to an interactive table.\"\n",
              "            style=\"display:none;\">\n",
              "\n",
              "  <svg xmlns=\"http://www.w3.org/2000/svg\" height=\"24px\" viewBox=\"0 -960 960 960\">\n",
              "    <path d=\"M120-120v-720h720v720H120Zm60-500h600v-160H180v160Zm220 220h160v-160H400v160Zm0 220h160v-160H400v160ZM180-400h160v-160H180v160Zm440 0h160v-160H620v160ZM180-180h160v-160H180v160Zm440 0h160v-160H620v160Z\"/>\n",
              "  </svg>\n",
              "    </button>\n",
              "\n",
              "  <style>\n",
              "    .colab-df-container {\n",
              "      display:flex;\n",
              "      gap: 12px;\n",
              "    }\n",
              "\n",
              "    .colab-df-convert {\n",
              "      background-color: #E8F0FE;\n",
              "      border: none;\n",
              "      border-radius: 50%;\n",
              "      cursor: pointer;\n",
              "      display: none;\n",
              "      fill: #1967D2;\n",
              "      height: 32px;\n",
              "      padding: 0 0 0 0;\n",
              "      width: 32px;\n",
              "    }\n",
              "\n",
              "    .colab-df-convert:hover {\n",
              "      background-color: #E2EBFA;\n",
              "      box-shadow: 0px 1px 2px rgba(60, 64, 67, 0.3), 0px 1px 3px 1px rgba(60, 64, 67, 0.15);\n",
              "      fill: #174EA6;\n",
              "    }\n",
              "\n",
              "    .colab-df-buttons div {\n",
              "      margin-bottom: 4px;\n",
              "    }\n",
              "\n",
              "    [theme=dark] .colab-df-convert {\n",
              "      background-color: #3B4455;\n",
              "      fill: #D2E3FC;\n",
              "    }\n",
              "\n",
              "    [theme=dark] .colab-df-convert:hover {\n",
              "      background-color: #434B5C;\n",
              "      box-shadow: 0px 1px 3px 1px rgba(0, 0, 0, 0.15);\n",
              "      filter: drop-shadow(0px 1px 2px rgba(0, 0, 0, 0.3));\n",
              "      fill: #FFFFFF;\n",
              "    }\n",
              "  </style>\n",
              "\n",
              "    <script>\n",
              "      const buttonEl =\n",
              "        document.querySelector('#df-7b5ed3c6-0112-4ada-b442-6586c60c460f button.colab-df-convert');\n",
              "      buttonEl.style.display =\n",
              "        google.colab.kernel.accessAllowed ? 'block' : 'none';\n",
              "\n",
              "      async function convertToInteractive(key) {\n",
              "        const element = document.querySelector('#df-7b5ed3c6-0112-4ada-b442-6586c60c460f');\n",
              "        const dataTable =\n",
              "          await google.colab.kernel.invokeFunction('convertToInteractive',\n",
              "                                                    [key], {});\n",
              "        if (!dataTable) return;\n",
              "\n",
              "        const docLinkHtml = 'Like what you see? Visit the ' +\n",
              "          '<a target=\"_blank\" href=https://colab.research.google.com/notebooks/data_table.ipynb>data table notebook</a>'\n",
              "          + ' to learn more about interactive tables.';\n",
              "        element.innerHTML = '';\n",
              "        dataTable['output_type'] = 'display_data';\n",
              "        await google.colab.output.renderOutput(dataTable, element);\n",
              "        const docLink = document.createElement('div');\n",
              "        docLink.innerHTML = docLinkHtml;\n",
              "        element.appendChild(docLink);\n",
              "      }\n",
              "    </script>\n",
              "  </div>\n",
              "\n",
              "\n",
              "<div id=\"df-2d1a9490-11a7-4e50-920d-56a23d8b668b\">\n",
              "  <button class=\"colab-df-quickchart\" onclick=\"quickchart('df-2d1a9490-11a7-4e50-920d-56a23d8b668b')\"\n",
              "            title=\"Suggest charts\"\n",
              "            style=\"display:none;\">\n",
              "\n",
              "<svg xmlns=\"http://www.w3.org/2000/svg\" height=\"24px\"viewBox=\"0 0 24 24\"\n",
              "     width=\"24px\">\n",
              "    <g>\n",
              "        <path d=\"M19 3H5c-1.1 0-2 .9-2 2v14c0 1.1.9 2 2 2h14c1.1 0 2-.9 2-2V5c0-1.1-.9-2-2-2zM9 17H7v-7h2v7zm4 0h-2V7h2v10zm4 0h-2v-4h2v4z\"/>\n",
              "    </g>\n",
              "</svg>\n",
              "  </button>\n",
              "\n",
              "<style>\n",
              "  .colab-df-quickchart {\n",
              "      --bg-color: #E8F0FE;\n",
              "      --fill-color: #1967D2;\n",
              "      --hover-bg-color: #E2EBFA;\n",
              "      --hover-fill-color: #174EA6;\n",
              "      --disabled-fill-color: #AAA;\n",
              "      --disabled-bg-color: #DDD;\n",
              "  }\n",
              "\n",
              "  [theme=dark] .colab-df-quickchart {\n",
              "      --bg-color: #3B4455;\n",
              "      --fill-color: #D2E3FC;\n",
              "      --hover-bg-color: #434B5C;\n",
              "      --hover-fill-color: #FFFFFF;\n",
              "      --disabled-bg-color: #3B4455;\n",
              "      --disabled-fill-color: #666;\n",
              "  }\n",
              "\n",
              "  .colab-df-quickchart {\n",
              "    background-color: var(--bg-color);\n",
              "    border: none;\n",
              "    border-radius: 50%;\n",
              "    cursor: pointer;\n",
              "    display: none;\n",
              "    fill: var(--fill-color);\n",
              "    height: 32px;\n",
              "    padding: 0;\n",
              "    width: 32px;\n",
              "  }\n",
              "\n",
              "  .colab-df-quickchart:hover {\n",
              "    background-color: var(--hover-bg-color);\n",
              "    box-shadow: 0 1px 2px rgba(60, 64, 67, 0.3), 0 1px 3px 1px rgba(60, 64, 67, 0.15);\n",
              "    fill: var(--button-hover-fill-color);\n",
              "  }\n",
              "\n",
              "  .colab-df-quickchart-complete:disabled,\n",
              "  .colab-df-quickchart-complete:disabled:hover {\n",
              "    background-color: var(--disabled-bg-color);\n",
              "    fill: var(--disabled-fill-color);\n",
              "    box-shadow: none;\n",
              "  }\n",
              "\n",
              "  .colab-df-spinner {\n",
              "    border: 2px solid var(--fill-color);\n",
              "    border-color: transparent;\n",
              "    border-bottom-color: var(--fill-color);\n",
              "    animation:\n",
              "      spin 1s steps(1) infinite;\n",
              "  }\n",
              "\n",
              "  @keyframes spin {\n",
              "    0% {\n",
              "      border-color: transparent;\n",
              "      border-bottom-color: var(--fill-color);\n",
              "      border-left-color: var(--fill-color);\n",
              "    }\n",
              "    20% {\n",
              "      border-color: transparent;\n",
              "      border-left-color: var(--fill-color);\n",
              "      border-top-color: var(--fill-color);\n",
              "    }\n",
              "    30% {\n",
              "      border-color: transparent;\n",
              "      border-left-color: var(--fill-color);\n",
              "      border-top-color: var(--fill-color);\n",
              "      border-right-color: var(--fill-color);\n",
              "    }\n",
              "    40% {\n",
              "      border-color: transparent;\n",
              "      border-right-color: var(--fill-color);\n",
              "      border-top-color: var(--fill-color);\n",
              "    }\n",
              "    60% {\n",
              "      border-color: transparent;\n",
              "      border-right-color: var(--fill-color);\n",
              "    }\n",
              "    80% {\n",
              "      border-color: transparent;\n",
              "      border-right-color: var(--fill-color);\n",
              "      border-bottom-color: var(--fill-color);\n",
              "    }\n",
              "    90% {\n",
              "      border-color: transparent;\n",
              "      border-bottom-color: var(--fill-color);\n",
              "    }\n",
              "  }\n",
              "</style>\n",
              "\n",
              "  <script>\n",
              "    async function quickchart(key) {\n",
              "      const quickchartButtonEl =\n",
              "        document.querySelector('#' + key + ' button');\n",
              "      quickchartButtonEl.disabled = true;  // To prevent multiple clicks.\n",
              "      quickchartButtonEl.classList.add('colab-df-spinner');\n",
              "      try {\n",
              "        const charts = await google.colab.kernel.invokeFunction(\n",
              "            'suggestCharts', [key], {});\n",
              "      } catch (error) {\n",
              "        console.error('Error during call to suggestCharts:', error);\n",
              "      }\n",
              "      quickchartButtonEl.classList.remove('colab-df-spinner');\n",
              "      quickchartButtonEl.classList.add('colab-df-quickchart-complete');\n",
              "    }\n",
              "    (() => {\n",
              "      let quickchartButtonEl =\n",
              "        document.querySelector('#df-2d1a9490-11a7-4e50-920d-56a23d8b668b button');\n",
              "      quickchartButtonEl.style.display =\n",
              "        google.colab.kernel.accessAllowed ? 'block' : 'none';\n",
              "    })();\n",
              "  </script>\n",
              "</div>\n",
              "    </div>\n",
              "  </div>\n"
            ],
            "text/plain": [
              "                           FCI ES\n",
              "ES energy T1 (a.u.)   -560.712163\n",
              "ES energy S1 (a.u.)   -560.661890\n",
              "f_energy ES1-ES0 (eV)  -77.848904\n",
              "Gap ES1 - ET1 (eV)     -79.216901"
            ]
          },
          "execution_count": 88,
          "metadata": {},
          "output_type": "execute_result"
        }
      ],
      "source": [
        "# Create the results dataframe\n",
        "list_results_FCI = [ET1_FCI, ES1_FCI, FCI_f_energy, FCI_gap]\n",
        "dict_results_FCI = {'FCI ES': list_results_FCI}\n",
        "df_FCI = pd.DataFrame(dict_results_FCI,\n",
        "                    index = ['ES energy T1 (a.u.)', 'ES energy S1 (a.u.)',\n",
        "                            'f_energy ES1-ES0 (eV)', 'Gap ES1 - ET1 (eV)'])\n",
        "\n",
        "df_FCI"
      ]
    },
    {
      "cell_type": "markdown",
      "metadata": {
        "id": "kZoHQQQ-6AIP"
      },
      "source": [
        "### Calculs avec `QEOM`\n",
        "\n",
        " Puisque nous avons déjà défini le système, nous avons besoin d'accéder à l'énergie d'excitation en utilisant l'[algorithme quantique d'équation du mouvement (qEOM)](https://arxiv.org/abs/1910.12890).\n",
        "\n",
        "La classe `qiskit_nature.second_q.algorithms.QEOM` implémente cet algorithme qui approxime les propriétés de l'état excité d'un problème en utilisant des mesures supplémentaires sur l'état fondamental fournies par un objet `GroundStateSolver`. La précision de la méthode `GroundStateSolver.solve` pour l'approximation de l'état fondamental affecte directement la précision de l'algorithme qEOM pour le même problème. Les excitations sont utilisées pour construire un sous-espace linéaire dans lequel un problème de valeurs propres pour l'Hamiltonien projeté sera résolu. Cette méthode fonctionne généralement bien pour calculer les états excités les plus bas d'un problème. Les énergies des états excités sont calculées par défaut dans cet algorithme pour tous les états excités."
      ]
    },
    {
      "cell_type": "code",
      "execution_count": 89,
      "metadata": {
        "colab": {
          "base_uri": "https://localhost:8080/"
        },
        "id": "DXnIO0z96AIP",
        "outputId": "28571f6c-2f16-49e7-e01a-b6dff8f3c736"
      },
      "outputs": [
        {
          "name": "stdout",
          "output_type": "stream",
          "text": [
            "=== GROUND STATE ENERGY ===\n",
            " \n",
            "* Electronic ground state energy (Hartree): -764.419338081372\n",
            "  - computed part:      -3.079217994949\n",
            "  - ActiveSpaceTransformer extracted energy part: -761.340120086423\n",
            "~ Nuclear repulsion energy (Hartree): 203.539124974016\n",
            "> Total ground state energy (Hartree): -560.880213107357\n",
            " \n",
            "=== EXCITED STATE ENERGIES ===\n",
            " \n",
            "  1: \n",
            "* Electronic excited state energy (Hartree): -764.25038974753\n",
            "> Total excited state energy (Hartree): -560.711264773515\n",
            "  2: \n",
            "* Electronic excited state energy (Hartree): -764.199095721532\n",
            "> Total excited state energy (Hartree): -560.659970747516\n",
            "  3: \n",
            "* Electronic excited state energy (Hartree): -764.115515889976\n",
            "> Total excited state energy (Hartree): -560.57639091596\n",
            "  4: \n",
            "* Electronic excited state energy (Hartree): -764.089515004816\n",
            "> Total excited state energy (Hartree): -560.5503900308\n",
            "  5: \n",
            "* Electronic excited state energy (Hartree): -764.065618163307\n",
            "> Total excited state energy (Hartree): -560.526493189291\n",
            "  6: \n",
            "* Electronic excited state energy (Hartree): -764.04199786486\n",
            "> Total excited state energy (Hartree): -560.502872890844\n",
            "  7: \n",
            "* Electronic excited state energy (Hartree): -764.022158286729\n",
            "> Total excited state energy (Hartree): -560.483033312713\n",
            "  8: \n",
            "* Electronic excited state energy (Hartree): -764.005867049296\n",
            "> Total excited state energy (Hartree): -560.46674207528\n",
            "  9: \n",
            "* Electronic excited state energy (Hartree): -763.982980470809\n",
            "> Total excited state energy (Hartree): -560.443855496793\n",
            " 10: \n",
            "* Electronic excited state energy (Hartree): -763.889415122884\n",
            "> Total excited state energy (Hartree): -560.350290148868\n",
            " 11: \n",
            "* Electronic excited state energy (Hartree): -763.865888465446\n",
            "> Total excited state energy (Hartree): -560.32676349143\n",
            " 12: \n",
            "* Electronic excited state energy (Hartree): -763.856209119098\n",
            "> Total excited state energy (Hartree): -560.317084145082\n",
            " 13: \n",
            "* Electronic excited state energy (Hartree): -763.803775483133\n",
            "> Total excited state energy (Hartree): -560.264650509117\n",
            " 14: \n",
            "* Electronic excited state energy (Hartree): -763.794249297257\n",
            "> Total excited state energy (Hartree): -560.255124323241\n",
            " 15: \n",
            "* Electronic excited state energy (Hartree): -763.734238958746\n",
            "> Total excited state energy (Hartree): -560.195113984731\n",
            " 16: \n",
            "* Electronic excited state energy (Hartree): -763.698415971317\n",
            "> Total excited state energy (Hartree): -560.159290997301\n",
            " 17: \n",
            "* Electronic excited state energy (Hartree): -763.661637200684\n",
            "> Total excited state energy (Hartree): -560.122512226668\n",
            " 18: \n",
            "* Electronic excited state energy (Hartree): -763.64518429384\n",
            "> Total excited state energy (Hartree): -560.106059319824\n",
            " 19: \n",
            "* Electronic excited state energy (Hartree): -763.62596628607\n",
            "> Total excited state energy (Hartree): -560.086841312054\n",
            " 20: \n",
            "* Electronic excited state energy (Hartree): -763.596880412132\n",
            "> Total excited state energy (Hartree): -560.057755438116\n",
            " 21: \n",
            "* Electronic excited state energy (Hartree): -763.568718664827\n",
            "> Total excited state energy (Hartree): -560.029593690811\n",
            " 22: \n",
            "* Electronic excited state energy (Hartree): -763.501851135866\n",
            "> Total excited state energy (Hartree): -559.96272616185\n",
            " 23: \n",
            "* Electronic excited state energy (Hartree): -763.466698167758\n",
            "> Total excited state energy (Hartree): -559.927573193742\n",
            " 24: \n",
            "* Electronic excited state energy (Hartree): -763.42089360997\n",
            "> Total excited state energy (Hartree): -559.881768635954\n",
            " 25: \n",
            "* Electronic excited state energy (Hartree): -763.363001776914\n",
            "> Total excited state energy (Hartree): -559.823876802898\n",
            " 26: \n",
            "* Electronic excited state energy (Hartree): -763.286926489766\n",
            "> Total excited state energy (Hartree): -559.74780151575\n",
            " \n",
            "=== MEASURED OBSERVABLES ===\n",
            " \n",
            "  0:  # Particles: 4.000 S: 0.000 S^2: 0.000 M: -0.000\n",
            "  1:  # Particles: 4.003 S: 1.000 S^2: 2.001 M: 0.000\n",
            "  2:  # Particles: 4.002 S: 1.000 S^2: 2.001 M: 0.000\n",
            "  3:  # Particles: 4.002 S: 0.000 S^2: 0.000 M: -0.000\n",
            "  4:  # Particles: 4.001 S: 1.000 S^2: 2.001 M: 0.000\n",
            "  5:  # Particles: 4.001 S: 1.000 S^2: 2.001 M: 0.000\n",
            "  6:  # Particles: 4.001 S: 0.000 S^2: 0.000 M: -0.000\n",
            "  7:  # Particles: 4.000 S: 2.000 S^2: 6.000 M: -0.000\n",
            "  8:  # Particles: 4.001 S: 0.000 S^2: 0.000 M: -0.000\n",
            "  9:  # Particles: 4.001 S: 0.000 S^2: 0.000 M: -0.000\n",
            " 10:  # Particles: 4.001 S: 1.000 S^2: 2.000 M: 0.000\n",
            " 11:  # Particles: 4.001 S: 0.000 S^2: 0.000 M: -0.000\n",
            " 12:  # Particles: 4.000 S: 1.000 S^2: 2.000 M: 0.000\n",
            " 13:  # Particles: 4.000 S: 1.000 S^2: 2.000 M: 0.000\n",
            " 14:  # Particles: 4.001 S: 0.000 S^2: 0.000 M: 0.000\n",
            " 15:  # Particles: 4.001 S: 0.000 S^2: 0.000 M: -0.000\n",
            " 16:  # Particles: 4.001 S: 1.000 S^2: 2.001 M: -0.000\n",
            " 17:  # Particles: 4.000 S: 1.000 S^2: 2.000 M: 0.000\n",
            " 18:  # Particles: 4.000 S: 0.000 S^2: 0.000 M: 0.000\n",
            " 19:  # Particles: 4.000 S: 1.000 S^2: 2.000 M: 0.000\n",
            " 20:  # Particles: 4.000 S: 0.000 S^2: 0.000 M: 0.000\n",
            " 21:  # Particles: 4.000 S: 0.000 S^2: 0.000 M: -0.000\n",
            " 22:  # Particles: 4.000 S: 1.000 S^2: 2.000 M: 0.000\n",
            " 23:  # Particles: 4.000 S: 0.000 S^2: 0.000 M: 0.000\n",
            " 24:  # Particles: 4.000 S: 0.000 S^2: 0.000 M: -0.000\n",
            " 25:  # Particles: 4.000 S: 0.000 S^2: 0.000 M: -0.000\n",
            " 26:  # Particles: 4.000 S: -0.000 S^2: -0.000 M: -0.000\n",
            " \n",
            "=== DIPOLE MOMENTS ===\n",
            " \n",
            "~ Nuclear dipole moment (a.u.): [2.06679346  -3.72748478  -1.40085398]\n",
            " \n",
            "  0: \n",
            "  * Electronic dipole moment (a.u.): [1.373491149736  -3.652979310471  -1.063964703292]\n",
            "    - computed part:      [0.29293882488  -0.507331680897  -0.195966443126]\n",
            "    - ActiveSpaceTransformer extracted energy part: [1.080552324856  -3.145647629574  -0.867998260166]\n",
            "  > Dipole moment (a.u.): [0.693302310264  -0.074505469529  -0.336889276708]  Total: 0.774411740076\n",
            "                 (debye): [1.762198534095  -0.189373996369  -0.856287049355]  Total: 1.968358121623\n",
            " \n",
            "  1: \n",
            "  * Electronic dipole moment (a.u.): [1.343588740603  -3.315694968313  -1.011701316819]\n",
            "    - computed part:      [0.263036415747  -0.170047338739  -0.143703056653]\n",
            "    - ActiveSpaceTransformer extracted energy part: [1.080552324856  -3.145647629574  -0.867998260166]\n",
            "  > Dipole moment (a.u.): [0.723204719397  -0.411789811687  -0.389152663181]  Total: 0.918714161439\n",
            "                 (debye): [1.838202869808  -1.046665201842  -0.989127314946]  Total: 2.335138257253\n",
            " \n",
            "  2: \n",
            "  * Electronic dipole moment (a.u.): [1.408794984766  -4.572589658164  -1.184555872602]\n",
            "    - computed part:      [0.32824265991  -1.426942028591  -0.316557612437]\n",
            "    - ActiveSpaceTransformer extracted energy part: [1.080552324856  -3.145647629574  -0.867998260166]\n",
            "  > Dipole moment (a.u.): [0.657998475234  0.845104878164  -0.216298107398]  Total: 1.092679788306\n",
            "                 (debye): [1.672465144467  2.14804213892  -0.549774899262]  Total: 2.777314733676\n",
            " \n",
            "  3: \n",
            "  * Electronic dipole moment (a.u.): [1.205412020328  -4.309202282258  -1.058560428394]\n",
            "    - computed part:      [0.124859695472  -1.163554652684  -0.190562168229]\n",
            "    - ActiveSpaceTransformer extracted energy part: [1.080552324856  -3.145647629574  -0.867998260166]\n",
            "  > Dipole moment (a.u.): [0.861381439672  0.581717502258  -0.342293551606]  Total: 1.094320845326\n",
            "                 (debye): [2.189413027786  1.478578268903  -0.870023344708]  Total: 2.781485884172\n",
            " \n",
            "  4: \n",
            "  * Electronic dipole moment (a.u.): [0.799140402879  -5.170948982841  -0.963845701356]\n",
            "    - computed part:      [-0.281411921977  -2.025301353267  -0.095847441191]\n",
            "    - ActiveSpaceTransformer extracted energy part: [1.080552324856  -3.145647629574  -0.867998260166]\n",
            "  > Dipole moment (a.u.): [1.267653057121  1.443464202841  -0.437008278644]  Total: 1.97015466746\n",
            "                 (debye): [3.222052380222  3.668919697234  -1.110764145183]  Total: 5.007633200612\n",
            " \n",
            "  5: \n",
            "  * Electronic dipole moment (a.u.): [1.716572901291  -4.891758789425  -1.36638886648]\n",
            "    - computed part:      [0.636020576435  -1.746111159851  -0.498390606314]\n",
            "    - ActiveSpaceTransformer extracted energy part: [1.080552324856  -3.145647629574  -0.867998260166]\n",
            "  > Dipole moment (a.u.): [0.350220558709  1.164274009425  -0.03446511352]  Total: 1.21629612053\n",
            "                 (debye): [0.890171785136  2.959289075372  -0.087601572393]  Total: 3.091516080203\n",
            " \n",
            "  6: \n",
            "  * Electronic dipole moment (a.u.): [1.17028408439  -4.501591323234  -1.063447030945]\n",
            "    - computed part:      [0.089731759534  -1.35594369366  -0.195448770779]\n",
            "    - ActiveSpaceTransformer extracted energy part: [1.080552324856  -3.145647629574  -0.867998260166]\n",
            "  > Dipole moment (a.u.): [0.89650937561  0.774106543234  -0.337406949055]  Total: 1.231589805944\n",
            "                 (debye): [2.278699326563  1.967582388699  -0.857602841092]  Total: 3.130388747463\n",
            " \n",
            "  7: \n",
            "  * Electronic dipole moment (a.u.): [1.407767204687  -5.554250525206  -1.295141990722]\n",
            "    - computed part:      [0.327214879831  -2.408602895632  -0.427143730556]\n",
            "    - ActiveSpaceTransformer extracted energy part: [1.080552324856  -3.145647629574  -0.867998260166]\n",
            "  > Dipole moment (a.u.): [0.659026255313  1.826765745206  -0.105711989278]  Total: 1.944881414823\n",
            "                 (debye): [1.675077500608  4.643174947897  -0.268693050325]  Total: 4.943395005976\n",
            " \n",
            "  8: \n",
            "  * Electronic dipole moment (a.u.): [1.236474210224  -4.452011577269  -1.089523848874]\n",
            "    - computed part:      [0.155921885368  -1.306363947695  -0.221525588709]\n",
            "    - ActiveSpaceTransformer extracted energy part: [1.080552324856  -3.145647629574  -0.867998260166]\n",
            "  > Dipole moment (a.u.): [0.830319249776  0.724526797269  -0.311330131126]  Total: 1.14511815419\n",
            "                 (debye): [2.110460823691  1.841563256256  -0.791322187403]  Total: 2.910599752526\n",
            " \n",
            "  9: \n",
            "  * Electronic dipole moment (a.u.): [1.591832115735  -4.484869534934  -1.261504884767]\n",
            "    - computed part:      [0.511279790879  -1.339221905361  -0.393506624602]\n",
            "    - ActiveSpaceTransformer extracted energy part: [1.080552324856  -3.145647629574  -0.867998260166]\n",
            "  > Dipole moment (a.u.): [0.474961344265  0.757384754934  -0.139349095233]  Total: 0.904786226628\n",
            "                 (debye): [1.207231206682  1.925079846313  -0.354190037608]  Total: 2.299736981441\n",
            " \n",
            " 10: \n",
            "  * Electronic dipole moment (a.u.): [1.677743696566  -4.222318766143  -1.272346705393]\n",
            "    - computed part:      [0.59719137171  -1.076671136569  -0.404348445228]\n",
            "    - ActiveSpaceTransformer extracted energy part: [1.080552324856  -3.145647629574  -0.867998260166]\n",
            "  > Dipole moment (a.u.): [0.389049763434  0.494833986143  -0.128507274607]  Total: 0.642444170257\n",
            "                 (debye): [0.988865769902  1.257742419277  -0.326632880895]  Total: 1.632930048414\n",
            " \n",
            " 11: \n",
            "  * Electronic dipole moment (a.u.): [1.400567711733  -3.996689141807  -1.115592219514]\n",
            "    - computed part:      [0.320015386877  -0.851041512233  -0.247593959348]\n",
            "    - ActiveSpaceTransformer extracted energy part: [1.080552324856  -3.145647629574  -0.867998260166]\n",
            "  > Dipole moment (a.u.): [0.666225748267  0.269204361807  -0.285261760486]  Total: 0.7731118988\n",
            "                 (debye): [1.693376784689  0.684249172006  -0.725063004579]  Total: 1.965054254957\n",
            " \n",
            " 12: \n",
            "  * Electronic dipole moment (a.u.): [1.104847625392  -5.217593342204  -1.113697480858]\n",
            "    - computed part:      [0.024295300536  -2.071945712631  -0.245699220692]\n",
            "    - ActiveSpaceTransformer extracted energy part: [1.080552324856  -3.145647629574  -0.867998260166]\n",
            "  > Dipole moment (a.u.): [0.961945834608  1.490108562204  -0.287156499142]  Total: 1.79672540219\n",
            "                 (debye): [2.445022199593  3.787477821846  -0.729878949417]  Total: 4.566820019256\n",
            " \n",
            " 13: \n",
            "  * Electronic dipole moment (a.u.): [1.278247819015  -4.580206946242  -1.123670314608]\n",
            "    - computed part:      [0.197695494159  -1.434559316668  -0.255672054443]\n",
            "    - ActiveSpaceTransformer extracted energy part: [1.080552324856  -3.145647629574  -0.867998260166]\n",
            "  > Dipole moment (a.u.): [0.788545640985  0.852722166242  -0.277183665392]  Total: 1.194056156584\n",
            "                 (debye): [2.00428291099  2.167403352182  -0.704530536819]  Total: 3.034987735666\n",
            " \n",
            " 14: \n",
            "  * Electronic dipole moment (a.u.): [1.496919483879  -3.187944758057  -1.069949116799]\n",
            "    - computed part:      [0.416367159023  -0.042297128483  -0.201950856634]\n",
            "    - ActiveSpaceTransformer extracted energy part: [1.080552324856  -3.145647629574  -0.867998260166]\n",
            "  > Dipole moment (a.u.): [0.569873976121  -0.539540021943  -0.330904863201]  Total: 0.851679407071\n",
            "                 (debye): [1.448475030982  -1.371373817278  -0.841076188878]  Total: 2.164752922989\n",
            " \n",
            " 15: \n",
            "  * Electronic dipole moment (a.u.): [1.615236763526  -5.568429197149  -1.394829746311]\n",
            "    - computed part:      [0.534684438671  -2.422781567575  -0.526831486146]\n",
            "    - ActiveSpaceTransformer extracted energy part: [1.080552324856  -3.145647629574  -0.867998260166]\n",
            "  > Dipole moment (a.u.): [0.451556696474  1.840944417149  -0.006024233689]  Total: 1.895525280378\n",
            "                 (debye): [1.14774253137  4.679213533869  -0.015312073273]  Total: 4.817944237271\n",
            " \n",
            " 16: \n",
            "  * Electronic dipole moment (a.u.): [1.525961211692  -5.534162075908  -1.348835496279]\n",
            "    - computed part:      [0.445408886836  -2.388514446334  -0.480837236113]\n",
            "    - ActiveSpaceTransformer extracted energy part: [1.080552324856  -3.145647629574  -0.867998260166]\n",
            "  > Dipole moment (a.u.): [0.540832248308  1.806677295908  -0.052018483721]  Total: 1.886607615539\n",
            "                 (debye): [1.374658328771  4.592115207607  -0.132217784943]  Total: 4.795277796275\n",
            " \n",
            " 17: \n",
            "  * Electronic dipole moment (a.u.): [1.656214392581  -6.928610575723  -1.568107603401]\n",
            "    - computed part:      [0.575662067725  -3.782962946149  -0.700109343235]\n",
            "    - ActiveSpaceTransformer extracted energy part: [1.080552324856  -3.145647629574  -0.867998260166]\n",
            "  > Dipole moment (a.u.): [0.410579067419  3.201125795723  0.167253623401]  Total: 3.231679950921\n",
            "                 (debye): [1.043587797163  8.136449426412  0.425116266909]  Total: 8.21411033523\n",
            " \n",
            " 18: \n",
            "  * Electronic dipole moment (a.u.): [1.52493947821  -4.574071718037  -1.239904294588]\n",
            "    - computed part:      [0.444387153354  -1.428424088463  -0.371906034423]\n",
            "    - ActiveSpaceTransformer extracted energy part: [1.080552324856  -3.145647629574  -0.867998260166]\n",
            "  > Dipole moment (a.u.): [0.54185398179  0.846586938037  -0.160949685412]  Total: 1.017948909558\n",
            "                 (debye): [1.377255315997  2.151809159016  -0.409093256285]  Total: 2.587367804277\n",
            " \n",
            " 19: \n",
            "  * Electronic dipole moment (a.u.): [1.540165099779  -5.727038490133  -1.377336689819]\n",
            "    - computed part:      [0.459612774923  -2.581390860559  -0.509338429654]\n",
            "    - ActiveSpaceTransformer extracted energy part: [1.080552324856  -3.145647629574  -0.867998260166]\n",
            "  > Dipole moment (a.u.): [0.526628360221  1.999553710133  -0.023517290181]  Total: 2.067874641373\n",
            "                 (debye): [1.338555649759  5.082358106521  -0.059774983681]  Total: 5.256012576003\n",
            " \n",
            " 20: \n",
            "  * Electronic dipole moment (a.u.): [1.836813477797  -5.734303905351  -1.518677158793]\n",
            "    - computed part:      [0.756261152941  -2.588656275777  -0.650678898627]\n",
            "    - ActiveSpaceTransformer extracted energy part: [1.080552324856  -3.145647629574  -0.867998260166]\n",
            "  > Dipole moment (a.u.): [0.229979982203  2.006819125351  0.117823178793]  Total: 2.02338728264\n",
            "                 (debye): [0.584550752983  5.100824948269  0.299476620627]  Total: 5.142936999614\n",
            " \n",
            " 21: \n",
            "  * Electronic dipole moment (a.u.): [1.047820709593  -5.761469111501  -1.148110219903]\n",
            "    - computed part:      [-0.032731615263  -2.615821481927  -0.280111959738]\n",
            "    - ActiveSpaceTransformer extracted energy part: [1.080552324856  -3.145647629574  -0.867998260166]\n",
            "  > Dipole moment (a.u.): [1.018972750407  2.033984331501  -0.252743760097]  Total: 2.288946730514\n",
            "                 (debye): [2.589970147895  5.169872008616  -0.642410499648]  Total: 5.817921725369\n",
            " \n",
            " 22: \n",
            "  * Electronic dipole moment (a.u.): [1.373498886337  -7.08325148585  -1.451821441305]\n",
            "    - computed part:      [0.292946561481  -3.937603856276  -0.583823181139]\n",
            "    - ActiveSpaceTransformer extracted energy part: [1.080552324856  -3.145647629574  -0.867998260166]\n",
            "  > Dipole moment (a.u.): [0.693294573663  3.35576670585  0.050967461305]  Total: 3.427014040251\n",
            "                 (debye): [1.762178869619  8.529507376894  0.129546352678]  Total: 8.710600020579\n",
            " \n",
            " 23: \n",
            "  * Electronic dipole moment (a.u.): [1.076842077599  -6.88575505584  -1.288981777579]\n",
            "    - computed part:      [-0.003710247257  -3.740107426266  -0.420983517413]\n",
            "    - ActiveSpaceTransformer extracted energy part: [1.080552324856  -3.145647629574  -0.867998260166]\n",
            "  > Dipole moment (a.u.): [0.989951382401  3.15827027584  -0.111872202421]  Total: 3.311674842802\n",
            "                 (debye): [2.516205195146  8.027521570269  -0.284350748863]  Total: 8.417437050171\n",
            " \n",
            " 24: \n",
            "  * Electronic dipole moment (a.u.): [1.185521793565  -6.111352700295  -1.252913659041]\n",
            "    - computed part:      [0.104969468709  -2.965705070721  -0.384915398875]\n",
            "    - ActiveSpaceTransformer extracted energy part: [1.080552324856  -3.145647629574  -0.867998260166]\n",
            "  > Dipole moment (a.u.): [0.881271666435  2.383867920295  -0.147940320959]  Total: 2.545850025048\n",
            "                 (debye): [2.239968936698  6.059187301742  -0.37602675322]  Total: 6.470904705998\n",
            " \n",
            " 25: \n",
            "  * Electronic dipole moment (a.u.): [0.025201195088  -6.981978014207  -0.801961658506]\n",
            "    - computed part:      [-1.055351129768  -3.836330384633  0.066036601659]\n",
            "    - ActiveSpaceTransformer extracted energy part: [1.080552324856  -3.145647629574  -0.867998260166]\n",
            "  > Dipole moment (a.u.): [2.041592264912  3.254493234207  -0.598892321494]  Total: 3.888251175065\n",
            "                 (debye): [5.189209444691  8.272095912038  -1.522232300964]  Total: 9.882947769615\n",
            " \n",
            " 26: \n",
            "  * Electronic dipole moment (a.u.): [3.235759001107  -7.377520703287  -2.366818552376]\n",
            "    - computed part:      [2.155206676251  -4.231873073713  -1.49882029221]\n",
            "    - ActiveSpaceTransformer extracted energy part: [1.080552324856  -3.145647629574  -0.867998260166]\n",
            "  > Dipole moment (a.u.): [-1.168965541107  3.650035923287  0.965964572376]  Total: 3.95250935896\n",
            "                 (debye): [-2.971213758341  9.27746505123  2.455236811168]  Total: 10.046275766346\n",
            " \n"
          ]
        }
      ],
      "source": [
        "from qiskit_nature.second_q.algorithms import QEOM\n",
        "from qiskit_nature.second_q.algorithms.excited_states_solvers.qeom import EvaluationRule\n",
        "\n",
        "qeom_ES_solver = QEOM(GS_VQE, Estimator(), \"sd\", EvaluationRule.ALL)\n",
        "qeom_ES = qeom_ES_solver.solve(problem)\n",
        "print(qeom_ES)"
      ]
    },
    {
      "cell_type": "code",
      "execution_count": 90,
      "metadata": {
        "colab": {
          "base_uri": "https://localhost:8080/"
        },
        "id": "5axFMtxs6AIP",
        "outputId": "00423e14-531d-40f8-fb67-6bea98ae11e3"
      },
      "outputs": [
        {
          "name": "stdout",
          "output_type": "stream",
          "text": [
            "Total QEOM ES energy T1 = -560.7112647735146 a.u.\n",
            "Total QEOM ES energy S1 = -560.6599707475164 a.u.\n",
            "The bandgap obtained form Py ES calculations is : -79.19247117068878 eV\n",
            "The fluorescence energy obtained form Py ES calculations is : -77.79668962873295 eV\n"
          ]
        }
      ],
      "source": [
        "ET1 = qeom_ES.total_energies[1]\n",
        "ES1 = qeom_ES.total_energies[2]\n",
        "qeom_gap = qeom_ES.computed_energies[1] * au2ev\n",
        "qeom_f_energy = qeom_ES.computed_energies[2] * au2ev\n",
        "\n",
        "print(f'Total QEOM ES energy T1 = {ET1} a.u.')\n",
        "print(f'Total QEOM ES energy S1 = {ES1} a.u.')\n",
        "print(f'The bandgap obtained form Py ES calculations is : {qeom_gap} eV')\n",
        "print(f'The fluorescence energy obtained form Py ES calculations is : {qeom_f_energy} eV')"
      ]
    },
    {
      "cell_type": "code",
      "execution_count": 91,
      "metadata": {
        "colab": {
          "base_uri": "https://localhost:8080/",
          "height": 175
        },
        "id": "GaDbauS66AIP",
        "outputId": "caf4ca1c-3e19-4434-d832-db9f45affbee"
      },
      "outputs": [
        {
          "data": {
            "application/vnd.google.colaboratory.intrinsic+json": {
              "summary": "{\n  \"name\": \"df_QEOM\",\n  \"rows\": 4,\n  \"fields\": [\n    {\n      \"column\": \"QEOM\",\n      \"properties\": {\n        \"dtype\": \"number\",\n        \"std\": 278.39370917801756,\n        \"min\": -560.7112647735146,\n        \"max\": -77.79668962873295,\n        \"num_unique_values\": 4,\n        \"samples\": [\n          -560.6599707475164,\n          -79.19247117068878,\n          -560.7112647735146\n        ],\n        \"semantic_type\": \"\",\n        \"description\": \"\"\n      }\n    }\n  ]\n}",
              "type": "dataframe",
              "variable_name": "df_QEOM"
            },
            "text/html": [
              "\n",
              "  <div id=\"df-04d91eac-407b-466d-9549-17e03aa17d50\" class=\"colab-df-container\">\n",
              "    <div>\n",
              "<style scoped>\n",
              "    .dataframe tbody tr th:only-of-type {\n",
              "        vertical-align: middle;\n",
              "    }\n",
              "\n",
              "    .dataframe tbody tr th {\n",
              "        vertical-align: top;\n",
              "    }\n",
              "\n",
              "    .dataframe thead th {\n",
              "        text-align: right;\n",
              "    }\n",
              "</style>\n",
              "<table border=\"1\" class=\"dataframe\">\n",
              "  <thead>\n",
              "    <tr style=\"text-align: right;\">\n",
              "      <th></th>\n",
              "      <th>QEOM</th>\n",
              "    </tr>\n",
              "  </thead>\n",
              "  <tbody>\n",
              "    <tr>\n",
              "      <th>ES energy T1 (a.u.)</th>\n",
              "      <td>-560.711265</td>\n",
              "    </tr>\n",
              "    <tr>\n",
              "      <th>ES energy S1 (a.u.)</th>\n",
              "      <td>-560.659971</td>\n",
              "    </tr>\n",
              "    <tr>\n",
              "      <th>f_energy ES1-ES0 (eV)</th>\n",
              "      <td>-77.796690</td>\n",
              "    </tr>\n",
              "    <tr>\n",
              "      <th>Gap ES1 - ET1 (eV)</th>\n",
              "      <td>-79.192471</td>\n",
              "    </tr>\n",
              "  </tbody>\n",
              "</table>\n",
              "</div>\n",
              "    <div class=\"colab-df-buttons\">\n",
              "\n",
              "  <div class=\"colab-df-container\">\n",
              "    <button class=\"colab-df-convert\" onclick=\"convertToInteractive('df-04d91eac-407b-466d-9549-17e03aa17d50')\"\n",
              "            title=\"Convert this dataframe to an interactive table.\"\n",
              "            style=\"display:none;\">\n",
              "\n",
              "  <svg xmlns=\"http://www.w3.org/2000/svg\" height=\"24px\" viewBox=\"0 -960 960 960\">\n",
              "    <path d=\"M120-120v-720h720v720H120Zm60-500h600v-160H180v160Zm220 220h160v-160H400v160Zm0 220h160v-160H400v160ZM180-400h160v-160H180v160Zm440 0h160v-160H620v160ZM180-180h160v-160H180v160Zm440 0h160v-160H620v160Z\"/>\n",
              "  </svg>\n",
              "    </button>\n",
              "\n",
              "  <style>\n",
              "    .colab-df-container {\n",
              "      display:flex;\n",
              "      gap: 12px;\n",
              "    }\n",
              "\n",
              "    .colab-df-convert {\n",
              "      background-color: #E8F0FE;\n",
              "      border: none;\n",
              "      border-radius: 50%;\n",
              "      cursor: pointer;\n",
              "      display: none;\n",
              "      fill: #1967D2;\n",
              "      height: 32px;\n",
              "      padding: 0 0 0 0;\n",
              "      width: 32px;\n",
              "    }\n",
              "\n",
              "    .colab-df-convert:hover {\n",
              "      background-color: #E2EBFA;\n",
              "      box-shadow: 0px 1px 2px rgba(60, 64, 67, 0.3), 0px 1px 3px 1px rgba(60, 64, 67, 0.15);\n",
              "      fill: #174EA6;\n",
              "    }\n",
              "\n",
              "    .colab-df-buttons div {\n",
              "      margin-bottom: 4px;\n",
              "    }\n",
              "\n",
              "    [theme=dark] .colab-df-convert {\n",
              "      background-color: #3B4455;\n",
              "      fill: #D2E3FC;\n",
              "    }\n",
              "\n",
              "    [theme=dark] .colab-df-convert:hover {\n",
              "      background-color: #434B5C;\n",
              "      box-shadow: 0px 1px 3px 1px rgba(0, 0, 0, 0.15);\n",
              "      filter: drop-shadow(0px 1px 2px rgba(0, 0, 0, 0.3));\n",
              "      fill: #FFFFFF;\n",
              "    }\n",
              "  </style>\n",
              "\n",
              "    <script>\n",
              "      const buttonEl =\n",
              "        document.querySelector('#df-04d91eac-407b-466d-9549-17e03aa17d50 button.colab-df-convert');\n",
              "      buttonEl.style.display =\n",
              "        google.colab.kernel.accessAllowed ? 'block' : 'none';\n",
              "\n",
              "      async function convertToInteractive(key) {\n",
              "        const element = document.querySelector('#df-04d91eac-407b-466d-9549-17e03aa17d50');\n",
              "        const dataTable =\n",
              "          await google.colab.kernel.invokeFunction('convertToInteractive',\n",
              "                                                    [key], {});\n",
              "        if (!dataTable) return;\n",
              "\n",
              "        const docLinkHtml = 'Like what you see? Visit the ' +\n",
              "          '<a target=\"_blank\" href=https://colab.research.google.com/notebooks/data_table.ipynb>data table notebook</a>'\n",
              "          + ' to learn more about interactive tables.';\n",
              "        element.innerHTML = '';\n",
              "        dataTable['output_type'] = 'display_data';\n",
              "        await google.colab.output.renderOutput(dataTable, element);\n",
              "        const docLink = document.createElement('div');\n",
              "        docLink.innerHTML = docLinkHtml;\n",
              "        element.appendChild(docLink);\n",
              "      }\n",
              "    </script>\n",
              "  </div>\n",
              "\n",
              "\n",
              "<div id=\"df-1c16c10e-6fb6-4fc4-859e-2f52fd8b96b2\">\n",
              "  <button class=\"colab-df-quickchart\" onclick=\"quickchart('df-1c16c10e-6fb6-4fc4-859e-2f52fd8b96b2')\"\n",
              "            title=\"Suggest charts\"\n",
              "            style=\"display:none;\">\n",
              "\n",
              "<svg xmlns=\"http://www.w3.org/2000/svg\" height=\"24px\"viewBox=\"0 0 24 24\"\n",
              "     width=\"24px\">\n",
              "    <g>\n",
              "        <path d=\"M19 3H5c-1.1 0-2 .9-2 2v14c0 1.1.9 2 2 2h14c1.1 0 2-.9 2-2V5c0-1.1-.9-2-2-2zM9 17H7v-7h2v7zm4 0h-2V7h2v10zm4 0h-2v-4h2v4z\"/>\n",
              "    </g>\n",
              "</svg>\n",
              "  </button>\n",
              "\n",
              "<style>\n",
              "  .colab-df-quickchart {\n",
              "      --bg-color: #E8F0FE;\n",
              "      --fill-color: #1967D2;\n",
              "      --hover-bg-color: #E2EBFA;\n",
              "      --hover-fill-color: #174EA6;\n",
              "      --disabled-fill-color: #AAA;\n",
              "      --disabled-bg-color: #DDD;\n",
              "  }\n",
              "\n",
              "  [theme=dark] .colab-df-quickchart {\n",
              "      --bg-color: #3B4455;\n",
              "      --fill-color: #D2E3FC;\n",
              "      --hover-bg-color: #434B5C;\n",
              "      --hover-fill-color: #FFFFFF;\n",
              "      --disabled-bg-color: #3B4455;\n",
              "      --disabled-fill-color: #666;\n",
              "  }\n",
              "\n",
              "  .colab-df-quickchart {\n",
              "    background-color: var(--bg-color);\n",
              "    border: none;\n",
              "    border-radius: 50%;\n",
              "    cursor: pointer;\n",
              "    display: none;\n",
              "    fill: var(--fill-color);\n",
              "    height: 32px;\n",
              "    padding: 0;\n",
              "    width: 32px;\n",
              "  }\n",
              "\n",
              "  .colab-df-quickchart:hover {\n",
              "    background-color: var(--hover-bg-color);\n",
              "    box-shadow: 0 1px 2px rgba(60, 64, 67, 0.3), 0 1px 3px 1px rgba(60, 64, 67, 0.15);\n",
              "    fill: var(--button-hover-fill-color);\n",
              "  }\n",
              "\n",
              "  .colab-df-quickchart-complete:disabled,\n",
              "  .colab-df-quickchart-complete:disabled:hover {\n",
              "    background-color: var(--disabled-bg-color);\n",
              "    fill: var(--disabled-fill-color);\n",
              "    box-shadow: none;\n",
              "  }\n",
              "\n",
              "  .colab-df-spinner {\n",
              "    border: 2px solid var(--fill-color);\n",
              "    border-color: transparent;\n",
              "    border-bottom-color: var(--fill-color);\n",
              "    animation:\n",
              "      spin 1s steps(1) infinite;\n",
              "  }\n",
              "\n",
              "  @keyframes spin {\n",
              "    0% {\n",
              "      border-color: transparent;\n",
              "      border-bottom-color: var(--fill-color);\n",
              "      border-left-color: var(--fill-color);\n",
              "    }\n",
              "    20% {\n",
              "      border-color: transparent;\n",
              "      border-left-color: var(--fill-color);\n",
              "      border-top-color: var(--fill-color);\n",
              "    }\n",
              "    30% {\n",
              "      border-color: transparent;\n",
              "      border-left-color: var(--fill-color);\n",
              "      border-top-color: var(--fill-color);\n",
              "      border-right-color: var(--fill-color);\n",
              "    }\n",
              "    40% {\n",
              "      border-color: transparent;\n",
              "      border-right-color: var(--fill-color);\n",
              "      border-top-color: var(--fill-color);\n",
              "    }\n",
              "    60% {\n",
              "      border-color: transparent;\n",
              "      border-right-color: var(--fill-color);\n",
              "    }\n",
              "    80% {\n",
              "      border-color: transparent;\n",
              "      border-right-color: var(--fill-color);\n",
              "      border-bottom-color: var(--fill-color);\n",
              "    }\n",
              "    90% {\n",
              "      border-color: transparent;\n",
              "      border-bottom-color: var(--fill-color);\n",
              "    }\n",
              "  }\n",
              "</style>\n",
              "\n",
              "  <script>\n",
              "    async function quickchart(key) {\n",
              "      const quickchartButtonEl =\n",
              "        document.querySelector('#' + key + ' button');\n",
              "      quickchartButtonEl.disabled = true;  // To prevent multiple clicks.\n",
              "      quickchartButtonEl.classList.add('colab-df-spinner');\n",
              "      try {\n",
              "        const charts = await google.colab.kernel.invokeFunction(\n",
              "            'suggestCharts', [key], {});\n",
              "      } catch (error) {\n",
              "        console.error('Error during call to suggestCharts:', error);\n",
              "      }\n",
              "      quickchartButtonEl.classList.remove('colab-df-spinner');\n",
              "      quickchartButtonEl.classList.add('colab-df-quickchart-complete');\n",
              "    }\n",
              "    (() => {\n",
              "      let quickchartButtonEl =\n",
              "        document.querySelector('#df-1c16c10e-6fb6-4fc4-859e-2f52fd8b96b2 button');\n",
              "      quickchartButtonEl.style.display =\n",
              "        google.colab.kernel.accessAllowed ? 'block' : 'none';\n",
              "    })();\n",
              "  </script>\n",
              "</div>\n",
              "    </div>\n",
              "  </div>\n"
            ],
            "text/plain": [
              "                             QEOM\n",
              "ES energy T1 (a.u.)   -560.711265\n",
              "ES energy S1 (a.u.)   -560.659971\n",
              "f_energy ES1-ES0 (eV)  -77.796690\n",
              "Gap ES1 - ET1 (eV)     -79.192471"
            ]
          },
          "execution_count": 91,
          "metadata": {},
          "output_type": "execute_result"
        }
      ],
      "source": [
        "# Create the results dataframe\n",
        "list_results_QEOM = [ET1, ES1, qeom_f_energy, qeom_gap]\n",
        "dict_results_QEOM = {'QEOM': list_results_QEOM}\n",
        "df_QEOM = pd.DataFrame(dict_results_QEOM,\n",
        "                    index = ['ES energy T1 (a.u.)', 'ES energy S1 (a.u.)',\n",
        "                            'f_energy ES1-ES0 (eV)', 'Gap ES1 - ET1 (eV)'])\n",
        "\n",
        "df_QEOM"
      ]
    },
    {
      "cell_type": "markdown",
      "metadata": {
        "id": "skUd4Bnv6AIQ"
      },
      "source": [
        "### Synthèse des résultats sur les états excités"
      ]
    },
    {
      "cell_type": "code",
      "execution_count": 92,
      "metadata": {
        "colab": {
          "base_uri": "https://localhost:8080/",
          "height": 175
        },
        "id": "37ZoBuwM6AIQ",
        "outputId": "f3dc88e2-d3ba-4896-9cdf-f688cf0fed15"
      },
      "outputs": [
        {
          "data": {
            "application/vnd.google.colaboratory.intrinsic+json": {
              "summary": "{\n  \"name\": \"df_ES\",\n  \"rows\": 4,\n  \"fields\": [\n    {\n      \"column\": \"FCI ES\",\n      \"properties\": {\n        \"dtype\": \"number\",\n        \"std\": 278.3723742283845,\n        \"min\": -560.7121625428969,\n        \"max\": -77.84890352312551,\n        \"num_unique_values\": 4,\n        \"samples\": [\n          -560.6618895727594,\n          -79.21690071990727,\n          -560.7121625428969\n        ],\n        \"semantic_type\": \"\",\n        \"description\": \"\"\n      }\n    },\n    {\n      \"column\": \"Numpy ES\",\n      \"properties\": {\n        \"dtype\": \"number\",\n        \"std\": 280.5363362064118,\n        \"min\": -560.5833458626611,\n        \"max\": -73.574876665481,\n        \"num_unique_values\": 4,\n        \"samples\": [\n          -560.504821981476,\n          -75.71162030819806,\n          -560.5833458626611\n        ],\n        \"semantic_type\": \"\",\n        \"description\": \"\"\n      }\n    },\n    {\n      \"column\": \"QEOM\",\n      \"properties\": {\n        \"dtype\": \"number\",\n        \"std\": 278.39370917801756,\n        \"min\": -560.7112647735146,\n        \"max\": -77.79668962873295,\n        \"num_unique_values\": 4,\n        \"samples\": [\n          -560.6599707475164,\n          -79.19247117068878,\n          -560.7112647735146\n        ],\n        \"semantic_type\": \"\",\n        \"description\": \"\"\n      }\n    }\n  ]\n}",
              "type": "dataframe",
              "variable_name": "df_ES"
            },
            "text/html": [
              "\n",
              "  <div id=\"df-ab6a160f-0a92-4201-b203-e0b5d0ef8ddc\" class=\"colab-df-container\">\n",
              "    <div>\n",
              "<style scoped>\n",
              "    .dataframe tbody tr th:only-of-type {\n",
              "        vertical-align: middle;\n",
              "    }\n",
              "\n",
              "    .dataframe tbody tr th {\n",
              "        vertical-align: top;\n",
              "    }\n",
              "\n",
              "    .dataframe thead th {\n",
              "        text-align: right;\n",
              "    }\n",
              "</style>\n",
              "<table border=\"1\" class=\"dataframe\">\n",
              "  <thead>\n",
              "    <tr style=\"text-align: right;\">\n",
              "      <th></th>\n",
              "      <th>FCI ES</th>\n",
              "      <th>Numpy ES</th>\n",
              "      <th>QEOM</th>\n",
              "    </tr>\n",
              "  </thead>\n",
              "  <tbody>\n",
              "    <tr>\n",
              "      <th>ES energy T1 (a.u.)</th>\n",
              "      <td>-560.712163</td>\n",
              "      <td>-560.583346</td>\n",
              "      <td>-560.711265</td>\n",
              "    </tr>\n",
              "    <tr>\n",
              "      <th>ES energy S1 (a.u.)</th>\n",
              "      <td>-560.661890</td>\n",
              "      <td>-560.504822</td>\n",
              "      <td>-560.659971</td>\n",
              "    </tr>\n",
              "    <tr>\n",
              "      <th>f_energy ES1-ES0 (eV)</th>\n",
              "      <td>-77.848904</td>\n",
              "      <td>-73.574877</td>\n",
              "      <td>-77.796690</td>\n",
              "    </tr>\n",
              "    <tr>\n",
              "      <th>Gap ES1 - ET1 (eV)</th>\n",
              "      <td>-79.216901</td>\n",
              "      <td>-75.711620</td>\n",
              "      <td>-79.192471</td>\n",
              "    </tr>\n",
              "  </tbody>\n",
              "</table>\n",
              "</div>\n",
              "    <div class=\"colab-df-buttons\">\n",
              "\n",
              "  <div class=\"colab-df-container\">\n",
              "    <button class=\"colab-df-convert\" onclick=\"convertToInteractive('df-ab6a160f-0a92-4201-b203-e0b5d0ef8ddc')\"\n",
              "            title=\"Convert this dataframe to an interactive table.\"\n",
              "            style=\"display:none;\">\n",
              "\n",
              "  <svg xmlns=\"http://www.w3.org/2000/svg\" height=\"24px\" viewBox=\"0 -960 960 960\">\n",
              "    <path d=\"M120-120v-720h720v720H120Zm60-500h600v-160H180v160Zm220 220h160v-160H400v160Zm0 220h160v-160H400v160ZM180-400h160v-160H180v160Zm440 0h160v-160H620v160ZM180-180h160v-160H180v160Zm440 0h160v-160H620v160Z\"/>\n",
              "  </svg>\n",
              "    </button>\n",
              "\n",
              "  <style>\n",
              "    .colab-df-container {\n",
              "      display:flex;\n",
              "      gap: 12px;\n",
              "    }\n",
              "\n",
              "    .colab-df-convert {\n",
              "      background-color: #E8F0FE;\n",
              "      border: none;\n",
              "      border-radius: 50%;\n",
              "      cursor: pointer;\n",
              "      display: none;\n",
              "      fill: #1967D2;\n",
              "      height: 32px;\n",
              "      padding: 0 0 0 0;\n",
              "      width: 32px;\n",
              "    }\n",
              "\n",
              "    .colab-df-convert:hover {\n",
              "      background-color: #E2EBFA;\n",
              "      box-shadow: 0px 1px 2px rgba(60, 64, 67, 0.3), 0px 1px 3px 1px rgba(60, 64, 67, 0.15);\n",
              "      fill: #174EA6;\n",
              "    }\n",
              "\n",
              "    .colab-df-buttons div {\n",
              "      margin-bottom: 4px;\n",
              "    }\n",
              "\n",
              "    [theme=dark] .colab-df-convert {\n",
              "      background-color: #3B4455;\n",
              "      fill: #D2E3FC;\n",
              "    }\n",
              "\n",
              "    [theme=dark] .colab-df-convert:hover {\n",
              "      background-color: #434B5C;\n",
              "      box-shadow: 0px 1px 3px 1px rgba(0, 0, 0, 0.15);\n",
              "      filter: drop-shadow(0px 1px 2px rgba(0, 0, 0, 0.3));\n",
              "      fill: #FFFFFF;\n",
              "    }\n",
              "  </style>\n",
              "\n",
              "    <script>\n",
              "      const buttonEl =\n",
              "        document.querySelector('#df-ab6a160f-0a92-4201-b203-e0b5d0ef8ddc button.colab-df-convert');\n",
              "      buttonEl.style.display =\n",
              "        google.colab.kernel.accessAllowed ? 'block' : 'none';\n",
              "\n",
              "      async function convertToInteractive(key) {\n",
              "        const element = document.querySelector('#df-ab6a160f-0a92-4201-b203-e0b5d0ef8ddc');\n",
              "        const dataTable =\n",
              "          await google.colab.kernel.invokeFunction('convertToInteractive',\n",
              "                                                    [key], {});\n",
              "        if (!dataTable) return;\n",
              "\n",
              "        const docLinkHtml = 'Like what you see? Visit the ' +\n",
              "          '<a target=\"_blank\" href=https://colab.research.google.com/notebooks/data_table.ipynb>data table notebook</a>'\n",
              "          + ' to learn more about interactive tables.';\n",
              "        element.innerHTML = '';\n",
              "        dataTable['output_type'] = 'display_data';\n",
              "        await google.colab.output.renderOutput(dataTable, element);\n",
              "        const docLink = document.createElement('div');\n",
              "        docLink.innerHTML = docLinkHtml;\n",
              "        element.appendChild(docLink);\n",
              "      }\n",
              "    </script>\n",
              "  </div>\n",
              "\n",
              "\n",
              "<div id=\"df-fd6a993b-0537-47a7-bcfb-47348ded8c10\">\n",
              "  <button class=\"colab-df-quickchart\" onclick=\"quickchart('df-fd6a993b-0537-47a7-bcfb-47348ded8c10')\"\n",
              "            title=\"Suggest charts\"\n",
              "            style=\"display:none;\">\n",
              "\n",
              "<svg xmlns=\"http://www.w3.org/2000/svg\" height=\"24px\"viewBox=\"0 0 24 24\"\n",
              "     width=\"24px\">\n",
              "    <g>\n",
              "        <path d=\"M19 3H5c-1.1 0-2 .9-2 2v14c0 1.1.9 2 2 2h14c1.1 0 2-.9 2-2V5c0-1.1-.9-2-2-2zM9 17H7v-7h2v7zm4 0h-2V7h2v10zm4 0h-2v-4h2v4z\"/>\n",
              "    </g>\n",
              "</svg>\n",
              "  </button>\n",
              "\n",
              "<style>\n",
              "  .colab-df-quickchart {\n",
              "      --bg-color: #E8F0FE;\n",
              "      --fill-color: #1967D2;\n",
              "      --hover-bg-color: #E2EBFA;\n",
              "      --hover-fill-color: #174EA6;\n",
              "      --disabled-fill-color: #AAA;\n",
              "      --disabled-bg-color: #DDD;\n",
              "  }\n",
              "\n",
              "  [theme=dark] .colab-df-quickchart {\n",
              "      --bg-color: #3B4455;\n",
              "      --fill-color: #D2E3FC;\n",
              "      --hover-bg-color: #434B5C;\n",
              "      --hover-fill-color: #FFFFFF;\n",
              "      --disabled-bg-color: #3B4455;\n",
              "      --disabled-fill-color: #666;\n",
              "  }\n",
              "\n",
              "  .colab-df-quickchart {\n",
              "    background-color: var(--bg-color);\n",
              "    border: none;\n",
              "    border-radius: 50%;\n",
              "    cursor: pointer;\n",
              "    display: none;\n",
              "    fill: var(--fill-color);\n",
              "    height: 32px;\n",
              "    padding: 0;\n",
              "    width: 32px;\n",
              "  }\n",
              "\n",
              "  .colab-df-quickchart:hover {\n",
              "    background-color: var(--hover-bg-color);\n",
              "    box-shadow: 0 1px 2px rgba(60, 64, 67, 0.3), 0 1px 3px 1px rgba(60, 64, 67, 0.15);\n",
              "    fill: var(--button-hover-fill-color);\n",
              "  }\n",
              "\n",
              "  .colab-df-quickchart-complete:disabled,\n",
              "  .colab-df-quickchart-complete:disabled:hover {\n",
              "    background-color: var(--disabled-bg-color);\n",
              "    fill: var(--disabled-fill-color);\n",
              "    box-shadow: none;\n",
              "  }\n",
              "\n",
              "  .colab-df-spinner {\n",
              "    border: 2px solid var(--fill-color);\n",
              "    border-color: transparent;\n",
              "    border-bottom-color: var(--fill-color);\n",
              "    animation:\n",
              "      spin 1s steps(1) infinite;\n",
              "  }\n",
              "\n",
              "  @keyframes spin {\n",
              "    0% {\n",
              "      border-color: transparent;\n",
              "      border-bottom-color: var(--fill-color);\n",
              "      border-left-color: var(--fill-color);\n",
              "    }\n",
              "    20% {\n",
              "      border-color: transparent;\n",
              "      border-left-color: var(--fill-color);\n",
              "      border-top-color: var(--fill-color);\n",
              "    }\n",
              "    30% {\n",
              "      border-color: transparent;\n",
              "      border-left-color: var(--fill-color);\n",
              "      border-top-color: var(--fill-color);\n",
              "      border-right-color: var(--fill-color);\n",
              "    }\n",
              "    40% {\n",
              "      border-color: transparent;\n",
              "      border-right-color: var(--fill-color);\n",
              "      border-top-color: var(--fill-color);\n",
              "    }\n",
              "    60% {\n",
              "      border-color: transparent;\n",
              "      border-right-color: var(--fill-color);\n",
              "    }\n",
              "    80% {\n",
              "      border-color: transparent;\n",
              "      border-right-color: var(--fill-color);\n",
              "      border-bottom-color: var(--fill-color);\n",
              "    }\n",
              "    90% {\n",
              "      border-color: transparent;\n",
              "      border-bottom-color: var(--fill-color);\n",
              "    }\n",
              "  }\n",
              "</style>\n",
              "\n",
              "  <script>\n",
              "    async function quickchart(key) {\n",
              "      const quickchartButtonEl =\n",
              "        document.querySelector('#' + key + ' button');\n",
              "      quickchartButtonEl.disabled = true;  // To prevent multiple clicks.\n",
              "      quickchartButtonEl.classList.add('colab-df-spinner');\n",
              "      try {\n",
              "        const charts = await google.colab.kernel.invokeFunction(\n",
              "            'suggestCharts', [key], {});\n",
              "      } catch (error) {\n",
              "        console.error('Error during call to suggestCharts:', error);\n",
              "      }\n",
              "      quickchartButtonEl.classList.remove('colab-df-spinner');\n",
              "      quickchartButtonEl.classList.add('colab-df-quickchart-complete');\n",
              "    }\n",
              "    (() => {\n",
              "      let quickchartButtonEl =\n",
              "        document.querySelector('#df-fd6a993b-0537-47a7-bcfb-47348ded8c10 button');\n",
              "      quickchartButtonEl.style.display =\n",
              "        google.colab.kernel.accessAllowed ? 'block' : 'none';\n",
              "    })();\n",
              "  </script>\n",
              "</div>\n",
              "    </div>\n",
              "  </div>\n"
            ],
            "text/plain": [
              "                           FCI ES    Numpy ES        QEOM\n",
              "ES energy T1 (a.u.)   -560.712163 -560.583346 -560.711265\n",
              "ES energy S1 (a.u.)   -560.661890 -560.504822 -560.659971\n",
              "f_energy ES1-ES0 (eV)  -77.848904  -73.574877  -77.796690\n",
              "Gap ES1 - ET1 (eV)     -79.216901  -75.711620  -79.192471"
            ]
          },
          "execution_count": 92,
          "metadata": {},
          "output_type": "execute_result"
        }
      ],
      "source": [
        "# Visualisation of results\n",
        "\n",
        "# Create the results dataframe\n",
        "dict_res = {'FCI ES': list_results_FCI, 'Numpy ES': list_results_NP,\n",
        "            'QEOM': list_results_QEOM\n",
        "            }\n",
        "df_ES = pd.DataFrame(dict_res,\n",
        "                     index = ['ES energy T1 (a.u.)', 'ES energy S1 (a.u.)',\n",
        "                            'f_energy ES1-ES0 (eV)', 'Gap ES1 - ET1 (eV)'])\n",
        "\n",
        "df_ES\n"
      ]
    }
  ],
  "metadata": {
    "colab": {
      "provenance": []
    },
    "jupytext": {
      "formats": "ipynb,md"
    },
    "kernelspec": {
      "display_name": "qiskit-env",
      "language": "python",
      "name": "qiskit-env"
    },
    "language_info": {
      "codemirror_mode": {
        "name": "ipython",
        "version": 3
      },
      "file_extension": ".py",
      "mimetype": "text/x-python",
      "name": "python",
      "nbconvert_exporter": "python",
      "pygments_lexer": "ipython3",
      "version": "3.10.14"
    }
  },
  "nbformat": 4,
  "nbformat_minor": 0
}
