{
 "cells": [
  {
   "cell_type": "markdown",
   "id": "7ecdb324-0cce-4d05-a532-7f270c092249",
   "metadata": {},
   "source": [
    "# UE 4268 - Informatique Quantique Project 1\n",
    "\n",
    "Department of Physics - Faculty of Science - University of Yaoundé I\n",
    "\n",
    "Proposé par Nana Engo\n",
    "\n",
    "`Mars 2024`"
   ]
  },
  {
   "cell_type": "markdown",
   "id": "034d0393-2bf3-4911-90cc-efa495148242",
   "metadata": {},
   "source": [
    "## Informatique quantique - Recherche documentaire et redaction scientifique\n",
    "\n",
    "Le but de ce projet est d'amener l'étudiant à faire une recherche documentaire sur l'informatique quantique et rédiger un rapport scientifique. L'étudiant est appelé à **rédiger son rapport** autour des points sur ci-dessous. Il ne s'agit pas de répondre aux question! Il illustrera autant que possible son rapport et utilisera le langage LaTeX.\n",
    "\n",
    "Pour faire face aux besoins croissants en ressources informatiques (temps de calculs, capacités de stockages), on a de plus en plus recours au Machine Learning  (apprentissage automatique) et au calcul quantique. \n",
    "\n",
    "1. Qu'est-ce que le Machine Learning (ML) Quels sont les différents types d'algorithmes de ML? Dans quels domaines utilise-t-on le ML?\n",
    "\n",
    "2. Pourquoi l'informatique quantique ?\n",
    "    L'informatique quantique sert à dépasser les limites des processeurs traditionnels pour des applications spécifiques d'optimisation, de simulation de prédiction et de cryptographie dont la complexité croit de manière exponentielle avec la taille du problème. Pourquoi les technologies classiques sont-elles pour l’instant insuffisantes pour atteindre cet objectif ?\n",
    "\n",
    "3. Les fondements de la physique quantique utilisés dans les technologies quantiques et en particulier dans les calculateurs quantiques sont\n",
    "    * la quantification,\n",
    "    * la superposition, \n",
    "    * la complémentarité ondes-corpuscule,\n",
    "    * l’épineuse question de la mesure ou de la réduction d'état lors de la mesure,\n",
    "    * l'indétermination d'Heisenberg,\n",
    "    * l'intrication,\n",
    "    * et le non-clonage quantique.\n",
    "\n",
    "Expliquer ces notions. \n",
    "\n",
    "4. Quelles sont les applications quantiques?\n",
    "    * 1ère révolution quantique,\n",
    "    * 2eme révolution quantique.\n",
    "    \n",
    "5. **Qubits**. Les calculateurs quantiques exploitent au niveau le plus bas des qubits, des entités qui ont deux états simultanés (par superposition) et peuvent se combiner via des portes quantiques (via l'intrication). \n",
    "    * Expliquer, en utilisant la sphère de Bloch, comment avec les qubits, on passe d'un monde déterministe à un monde probabiliste;\n",
    "    * Expliquer le cycle de vie d'un qubit (initialisation, évolution, mesure);\n",
    "    * Présenter brièvement les types de qubits qui utilisent les trois principaux types de particules: atomes, électrons et photons.\n",
    "\n",
    "6. **Algorithmes et usages**.\n",
    "    * Expliquer brièvement les notions de suprématie et avantage quantiques. \n",
    "    \n",
    "7. **Applcations métiers**. Les grandes applications de l'informatique quantique portent sur la simulation de physique des matériaux, en biologie moléculaire, des optimisations complexes. \n",
    "    * Présenter brièvement les applications potentielles de l'informatique quantique dans différents secteurs d’activité comme les transports, la santé, l’énergie et la chimie, la finance, le marketing, la défense et l'aérospatial, le renseignement, la défense, l’industrie et la recherche."
   ]
  }
 ],
 "metadata": {
  "kernelspec": {
   "display_name": "qiskit-env",
   "language": "python",
   "name": "qiskit-env"
  },
  "language_info": {
   "codemirror_mode": {
    "name": "ipython",
    "version": 3
   },
   "file_extension": ".py",
   "mimetype": "text/x-python",
   "name": "python",
   "nbconvert_exporter": "python",
   "pygments_lexer": "ipython3",
   "version": "3.10.14"
  }
 },
 "nbformat": 4,
 "nbformat_minor": 5
}
