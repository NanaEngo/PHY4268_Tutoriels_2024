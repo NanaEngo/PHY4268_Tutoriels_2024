{
 "cells": [
  {
   "cell_type": "markdown",
   "metadata": {},
   "source": [
    "Le Hamiltonien 2-qubits de de la molécule 4CzIPN est\n",
    "$$ \\mathtt{H} = h_1(\\mathtt{I}\\otimes\\mathtt{I}) + h_2(\\mathtt{Z}\\otimes\\mathtt{I} - \\mathtt{I}\\otimes\\mathtt{Z}) + h_3(\\mathtt{Z}\\otimes\\mathtt{Z}) + h_4(\\mathtt{x}\\otimes\\mathtt{X}) + h_5(\\mathtt{X}\\otimes\\mathtt{I} + \\mathtt{I}\\otimes\\mathtt{X}) + h_6(\\mathtt{X}\\otimes\\mathtt{Z} - \\mathtt{Z}\\otimes\\mathtt{X}),\n",
    "$$\n",
    "avec les coefficients \n",
    "\\begin{align*}\n",
    "&h_1 = -0.46959492273396025,&&h_2 = -0.12480163590374627,\\\\\n",
    "&h_3 = -0.026903253444563915,&&  h_4 = 0.004924575935052124,\\\\\n",
    "&h_5 = -4.6840929608197336e-06,&& h_6 = - 4.683976972721447e-06.\n",
    "\\end{align*}\n",
    "Utiliser, `qiskit.quantum_info.SparsePauliOp` et `qiskit_algorithms.NumPyMinimumEigensolver` pour calculer l'état fondamental de la molécule 4CzIPN.\n"
   ]
  }
 ],
 "metadata": {
  "language_info": {
   "name": "python"
  }
 },
 "nbformat": 4,
 "nbformat_minor": 2
}
