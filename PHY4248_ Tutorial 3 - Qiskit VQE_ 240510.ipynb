{
 "cells": [
  {
   "cell_type": "markdown",
   "metadata": {},
   "source": [
    "# PHY4268 Tutorial 3 - Qiskit VQE\n",
    "\n",
    "1. **S. G. Nana Engo**, serge.nana-engo@facsciences-uy1.cm\n",
    "    * Department of Physics, Faculty of Science, University of Yaounde I\n",
    "2. **J-P. Tchapet Njafa**, jean-pierre.tchapet-njafa@univ-maroua.cm\n",
    "    * Department of Physics, Faculty of Science, University of Maroua\n",
    "       \n",
    "May 2024"
   ]
  },
  {
   "cell_type": "markdown",
   "metadata": {},
   "source": [
    "$\n",
    "\\newcommand{\\ad}{a^\\dagger} % Operateur bosonique adjoint \n",
    "\\newcommand{\\mt}[1]{\\mathtt{#1}} %  Use mathtt\n",
    "\\newcommand{\\mel}[3]{\\langle #1|#2|#3\\rangle} %Matrix element\n",
    "\\newcommand{\\ket}[1]{|#1\\rangle}\n",
    "$"
   ]
  },
  {
   "cell_type": "markdown",
   "metadata": {},
   "source": [
    " L'objectif de ce tutoriel 3 est de présenter brièvement l'algorithme VQE (Variational Quantum Eigensolver), dans la contexte de la chimie quantique ou de la modélisation moléculaire. Le VQE utilise la méthode variationelle, et deux processeurs, quantique et classique, pour déterminer l'énergie la plus basse associée à la valeur propre de l'etat fondamental ou des états excités.\n",
    "\n",
    " A la fin de ce tutoriel, l'apprenant doit être capable d'utiliser Qiskit-Nature pour\n",
    " * renseigner la structure de la molécule et obtenir `ElectronicStructureProblem`;\n",
    " * obtenir les Hamiltoniens de 1ere et 2e quantification;\n",
    " * transformer le Hamiltoniens de 2e quantification en Hamiltonien de spin;\n",
    " * exploiter la symétrie $\\mathbb{Z}_2$ pour effectuer la **reduction 2-qubit**;\n",
    " * evaluer l'énergie en utilisant le VQE.\n",
    "\n",
    " \n"
   ]
  },
  {
   "cell_type": "markdown",
   "metadata": {},
   "source": [
    "## Algorithme détaillé du VQE\n",
    "\n",
    "On peut résumer cet algorithme en deux grandes parties qu'illustre la figure ci-dessous.\n",
    "\n",
    "![VQE_Flowchart](./Graphics/VQE_Flowchart_Tuto3.jpeg)\n",
    "                                                          \n",
    "### Processeur quantique\n",
    "\n",
    "Le processeur quantique comporte trois étapes fondamentales :\n",
    "\n",
    "1. Définir le circuit quantique ou porte quantique $\\mathtt{U}(\\vec{\\theta})$;\n",
    "2. Préparer de la fonction d'essai paramétré $|\\Psi (\\vec{\\theta})\\rangle$ appelée **Ansatz**, qui est essentiellement une estimation de l'état fondamental, à cet effet, on choisit arbitrairement un état de référence $|\\psi_0\\rangle$ sur lequel on applique $\\mathtt{U}(\\vec{\\theta})$,\n",
    "\t\\begin{equation}\n",
    "\t\t|\\Psi (\\vec{\\theta})\\rangle= \\mathtt{U}(\\vec{\\theta})|\\psi_0 \\rangle=\\sum_i\\alpha_i|E_i\\rangle.\n",
    "\t\\end{equation}\n",
    "3. Mesurer de la valeur moyenne ou fonction de coût\n",
    "\\begin{equation}\n",
    "C(\\vec\\theta)=\\langle\\Psi(\\vec\\theta)|\\mathtt{H}|\\Psi(\\vec\\theta)\\rangle\n",
    "=\\langle \\psi_0| \\mathtt{U}^\\dagger (\\vec{\\theta})\\mathtt{HU} (\\vec{\\theta})|\\psi_0\\rangle.\n",
    "\\end{equation}\n",
    "Selon la décomposition spectrale, $\\mathtt{H}$ peut être représenté par:\n",
    "\\begin{equation}\n",
    "\\mathtt{H}=\\sum_i E_i|E_i\\rangle\\langle E_i|.\n",
    "\\end{equation}\n",
    "En vertu du [théorème variationnel](https://en.wikipedia.org/wiki/Vcorrespondariational_method_(quantum_mechanics)) de Rayleigh-Ritz, la valeur moyenne est toujours supérieure ou égale à la valeur propre $E_0$ la plus basse de l'Hamiltonien $\\mathtt{H}$, qui correspond à l'état fondamental $|E_{\\min}\\rangle$:\n",
    "\\begin{equation}\n",
    "C(\\vec\\theta)=\\langle \\psi_0| \\mathtt{U}^\\dagger (\\vec{\\theta})\\mathtt{HU} (\\vec{\\theta})|\\psi_0\\rangle\n",
    "=\\sum_i|\\alpha_i|^2E_i\\geq E_{\\min}.\n",
    "\\end{equation}\n",
    "Le problème se résume à trouver un tel choix optimal de paramètres $\\vec\\theta=(\\theta_1,\\dots,\\theta_n)^T$ à valeurs réelles, permettant de trouver la valeur moyenne minimale $E_{\\min}$ qui est l'énergie de l'état fondamental et l'état correspondant est l'état fondamental $|E_{\\min}\\rangle$.\n",
    "\n",
    "\n",
    "### Processeur classique\n",
    "\n",
    "Grâce au processeur quantique, on obtient une valeur moyenne dépendante des paramètres. Cette valeur peut être minimisée avec une méthode d'optimisation qui permet d'ajuster les paramètres de l'état d'essai. L'algorithme procède alors de façon itérative, l'optimiseur classique proposant de nouvelles valeurs de paramètres pour l'état d'essai.\n",
    "\n",
    "En gros, dans le processeur classique :\n",
    "1. Minimiser la valeur moyenne ou fonction de coût $C(\\vec\\theta)$ en faisant varier les paramètres $\\vec{\\theta}$ de l'_Ansatz_, en utilisant un optimiseur classique.\n",
    "2. Itèrer jusqu'à ce que le critère de convergence ($10^{-7}$) soit atteint et que $|\\psi(\\vec{\\theta})\\rangle\\simeq |E_0(\\vec{\\theta})\\rangle$.\n"
   ]
  },
  {
   "cell_type": "markdown",
   "metadata": {},
   "source": [
    "### Défis ou challenges du VQE\n",
    "\n",
    "1. La taille de l'espace de Hilbert en fonction du nombre des opérations de portes nécessaires ou **profondeur du circuit** pour obtenir le précisions souhaitée pour les valeurs attendues (comme l'énergie du système).\n",
    "\n",
    "2. Le nombre de portes parametrés (nombre de paramètres à optimiser) en fonction de l'amplitude des gradients pour les variables de circuits.\n",
    "\n",
    "3. La taille de l'espace de Hilbert en fonction du nombre de mesures nécessaire pour parvenir à la convergence des propriétés physiques (par exemple, l'énergie du système).\n"
   ]
  },
  {
   "cell_type": "markdown",
   "metadata": {},
   "source": [
    "Dans ce qui suit, nous utilisons les **Unitary Coupled Clusters Singles and Doubles** (UCCSD) comme point de départ pour déterminer une fonction d'état d'essai pour la méthode variationnelle, car il est essentiel que l'ansatz VQE soit proche de l'état fondamental réel pour que les calculs VQE réussissent."
   ]
  },
  {
   "cell_type": "markdown",
   "metadata": {},
   "source": [
    "### 1.1.4. <a id='toc1_1_4_'></a>[Unitary Coupled Cluster (UCC) *Ansatz*](#toc0_)\n",
    "\n",
    "En chimie quantique, la méthode **Unitary Coupled Cluster (UCC)** (de [cluster à couplage unitaire](https://fr.wikipedia.org/wiki/M%C3%A9thode_du_cluster_coupl%C3%A9)) apparait comme une extension de la méthode *Coupled Cluster (CC)* qui est une méthode de traitement de la corrélation électronique. Elle est basée sur l'expression de la fonction d'état à $N$ électrons comme une combinaison linéaire de déterminants de Slater incluant la fonction d'état HF de l'état fondamental et toutes les excitations possibles des orbitales occupées vers des orbitales inoccupées. Ainsi, il sera possible de générer un *Unitary Coupled Cluster Ansatz* en appliquant à un état de référence $\\ket{\\psi_0}$ un opérateur unitaire qui est une somme anti-Hermitienne d'opérateurs d'excitation et de désexcitation sous la forme $e^{\\mathtt{T}(\\theta)-\\mathtt{T}^\\dagger(\\theta)}$, qui est un opérateur unitaire\n",
    "$$\n",
    "\\ket{\\psi(\\theta)} = \\mt{U}(\\theta) \\ket{\\psi_0}\n",
    "= e^{\\mathtt{T}(\\theta)-\\mathtt{T}^\\dagger(\\theta)} \\ket{\\psi_0(\\theta)} ,\n",
    "$$\n",
    "* $\\theta$ est l'amplitude CC. Il représente aussi le paramètre d'optimisation pouvant prendre des valeurs réelles ou imaginaires. Mais les paramètres réels se sont révélés plus précises et plus réalisables ;\n",
    "\n",
    "* $\\mathtt{T}(\\theta)$ est l'opérateur de *Cluster* ou opérateur d'excitation complète, défini comme  $\\mathtt{T}(\\theta)=\\sum_{k=1}^N\\mathtt{T}_k(\\theta)$ avec $\\mathtt{T}_k(\\theta)$ l'opérateur d'excitation au $k$-ième ordre, qui contient des termes $k$-corps. Par exemple,\n",
    "    * l'opérateur \n",
    "\\begin{equation*}\n",
    "\\mathtt{T}_1 = \\underset{i\\in\\rm{unocc}}{\\sum_{j\\in\\rm{occ}}}\\theta_{ij}\\ad_i a_j,\n",
    "\\end{equation*}  \n",
    "engendre les **excitations simples** $j\\rightarrow i$ (transforme le déterminant HF de référence en une combinaison linéaire des déterminants monoexcités),\n",
    "    * l'opérateur\n",
    " \\begin{equation*}\n",
    "\\mathtt{T}_2 = \\underset{l>k\\in\\rm{occ}}{\\sum_{i>j\\in\\rm{unocc}}}\\theta_{ijkl} \n",
    "\\ad_i\\ad_j a_k a_l,\\ \\dots,\n",
    "\\end{equation*}  \n",
    "engendre les **doubles excitations** (transforme le déterminant HF de référence en une combinaison linéaire des déterminants doublement excités).\n",
    "    * Les termes d'ordre supérieur (triple, quadruple, etc.) sont possibles, mais sont actuellement rarement pris en charge par les bibliothèques de chimie quantique.\n",
    "    * \"occ\" et \"unocc\" sont définis comme les sites occupés et les sites inoccupés dans l'état de référence.\n",
    "    * Les opérateurs $\\ad_i$ et $a_i$ dans les termes de clusters couplés ci-dessus sont écrits dans une forme canonique, dans laquelle chaque terme est en ordre normal (opérateurs de création sont à gauche de tous les opérateurs d'annihilation)."
   ]
  },
  {
   "cell_type": "markdown",
   "metadata": {},
   "source": [
    "## Choix des optimiseurs classiques\n",
    "\n",
    "Une fois que l'_Ansatz_ a été sélectionné, ses paramètres doivent être optimisés pour minimiser la valeur attendue de l'Hamiltonien cible. Le processus d'optimisation des paramètres présente divers défis. Par exemple, le matériel quantique a divers types de bruits et donc l'évaluation de la fonction objective (calcul de l'énergie) peut ne pas nécessairement refléter la véritable fonction objectif. De plus, certains optimiseurs effectuent un certain nombre d'évaluations de fonctions objectives en fonction de la cardinalité de l'ensemble de paramètres. __Un optimiseur approprié doit être sélectionné en tenant compte des exigences d'une application__.\n",
    "\n",
    "- Un optimiseur approprié pour optimiser une fonction objectif bruyante est l'optimiseur d'__approximation stochastique de perturbations simultanées (Simultaneous Perturbation Stochastic Approximation, SPSA),__ (`qiskit.algorithms.optimizers.SPSA`). SPSA se rapproche du gradient de la fonction objectif avec seulement deux mesures. Il le fait en perturbant simultanément tous les paramètres de manière aléatoire, contrairement à la descente de gradient où chaque paramètre est perturbé indépendamment. __Lors de l'utilisation de VQE dans un simulateur bruyant (QasmSimulator) ou sur du matériel réel, SPSA est recommandé comme optimiseur classique__.\n",
    "    - L'optimiseur Quantum Natural SPSA, QN-SPSA (`qiskit.algorithms.optimizers.QnSPSA`) basé sur SPSA tente d'améliorer la convergence en échantillonnant le gradient naturel au lieu du gradient de premier ordre. Par rapport aux gradients naturels, qui nécessitent $\\mathcal{O}(d^2)$ évaluations des valeurs moyennes pour un circuit avec $d$ paramètres, QN-SPSA ne nécessite que $\\mathcal{O}(1)$ et peut donc accélérer considérablement le calcul du gradient naturel en sacrifiant une certaine précision. Par rapport à SPSA, QN-SPSA nécessite 4 évaluations supplémentaires de la fidélité.\n",
    "\n",
    "- Lorsque le bruit n'est pas présent dans l'évaluation de la fonction de coût, comme lors de l'utilisation de VQE avec un simulateur de vecteur d'état (_StatevectorSimulator_), une grande variété d'optimiseurs classiques peut être utile. Par exemple,  \n",
    "    - l'optimiseur __Constrained Optimization by Linear Approximation, COBYLA,__ (`qiskit.algorithms.optimizers.COBYLA`) qui n'effectue qu'une seule évaluation de fonction objectif par itération d'optimisation, et donc le nombre d'évaluations est indépendant de la cardinalité de l'ensemble de paramètres. Par conséquent, si la fonction objectif est sans bruit et qu'il est souhaitable de minimiser le nombre d'évaluations effectuées, il est recommandé d'essayer COBYLA;\n",
    "    - l'optimiseur __Programmation des moindres carrés séquentiels (Sequential Least Squares Programming, SLSQP)__ (`qiskit.algorithms.optimizers.SLSQP`), est idéal pour les problèmes mathématiques pour lesquels la fonction objectif et les contraintes sont deux fois continûment différentiables;\n",
    "    - l'optimiseur __Limited-memory Broyden-Fletcher-Goldfarb-Shanno Bound, L_BFGS_B,__ (`qiskit.algorithms.optimizers.L_BFGS_B`), est une méthode quasi-Newton qui commence par une estimation initiale de la valeur optimale et procède de manière itérative pour affiner cette estimation avec une séquence de meilleures estimations."
   ]
  },
  {
   "cell_type": "markdown",
   "metadata": {},
   "source": [
    "### Workflow du VQE\n",
    "\n",
    "![Qiskit-nature flowchart](./Graphics/Qiskit_nature_Flow.png)\n",
    "\n",
    "1. Renseigner la structure de la molécule en utilisant la classe `qiskit_nature.second_q.drivers.PySCFDriver`.\n",
    "\n",
    "2. Effectuer le calcul HF dans la base chimique indiquée. Il s'agit en réalité représenter le problème de l'equation de Schrödinguer électronique, $\\mathtt{H}_{\\rm el}|\\Psi\\rangle = E_{\\rm el}|\\Psi\\rangle$. $\\mathtt{H}_{\\rm el}$ est l'Hamiltonien de la classe `qiskit_nature.second_q.hamiltonians.ElectronicEnergy`. Celle-ci est obtenue à travers la méthode `hamiltonian` de `ElectronicStructureProblem` (voir le Tutoriel 2).\n",
    "\n",
    "3. Extraire, à l'aide du calcul HF précédent (première quantification), les éléments de matrice 1-integrals $h_{pq}$ et 2-integrals $h_{pqrs}$ qui relient l'Hamiltonien de la seconde quantification 1a celui de la première quantification. Les utiliser pour construire l'Hamiltonien fermionique de la seconde quantification, grâce à la l'attibut `.second_q_op()` du Hamiltonien précédemment obtenu :\n",
    "\\begin{equation}\n",
    "\\mathtt{H} = h_0+\\sum_{p,q=1}^M h_{pq}\\ad_p a_q + \\frac12\\sum_{p,q,r,s=1}^M h_{pqrs}\\ad_p \\ad_q a_ra_s ,\n",
    "\\end{equation} \n",
    "que `qiskit_nature.second_q.mappers` converti, grâce à un encodage approprié (JWT, PT ou BKT) en Hamiltonien qubit.\n",
    "\n",
    "   * Exploiter les symmétries, en utilisant (`qiskit_nature.second_q.mappers.TaperedQubitMapper`),\n",
    "   \\begin{align}\n",
    "   &[\\mathtt{H},\\mathtt{N_\\uparrow}] = [\\mathtt{H},\\mathtt{N_\\downarrow}] = 0, \n",
    "   && \\mathtt{N_\\uparrow} = \\sum_{p=1}^{M/2} \\alpha^\\dagger_p \\alpha_p,\n",
    "   & \\mathtt{N_\\downarrow} = \\sum_{p=M/2+1}^M \\alpha^\\dagger_p \\alpha_p,\n",
    "   \\end{align}\n",
    "   pour effectuer la **reduction 2-qubit** (une pour chaque symétrie $\\mathbb{Z}$ de l'Hamiltionien) sans modifier la partie inférieure du spectre d'énergie (y compris l'état fondamental). $\\mathtt{N_\\downarrow}$ et $\\mathtt{N_\\uparrow}$ sont les opérateurs nombre de particules de spin down et up.\n",
    "\n",
    "4. La fonction d'état d'essai ou *Ansatz* $\\ket{\\psi(\\theta)}$ est généré à partir de l'état HF $\\ket{\\Phi_0}$ en appliquant les opérateurs de clusters q-UCC ou autre forme d'*Ansatz* variationnel (`qiskit_nature.second_q.circuit.library.UCCSD`).\n",
    "\n",
    "5. Evaluer l'énergie du système $\\mel{\\psi(\\theta)}{\\mathtt{H}}{\\psi(\\theta)}$ en utilisant\n",
    "   * la primitive (ou calcul de la valeur moyenne) `qiskit.primitives.Estimator`;\n",
    "   * l'optimisation des paramètres du circuit (grâce à `qiskit.algorithms.optimizers`), \n",
    "   * suivi par la séquence de mesure des propriétés physiques (avec `qiskit_nature.second_q.algorithms.GroundStateEigensolver` si on cherche l'énergie du niveau fondamental). Ceci peut se faire avec ou sans les mesures du bruit.\n",
    "\n",
    "6. Repeter les étapes (4) et (5) jusqu'à la convergence, en utilisant un optimiseur classique (ceci est une opération interne de `qiskit_nature.second_q.algorithms.GroundStateEigensolver`). Par usage, on fixe le critère de convergence à $10^{-7}$. En effet, il est essentiel que l'*Ansatz* VQE soit proche de l'état fondamental réel pour que les calculs VQE réussissent. Pour obtenir une estimation d'énergie précise de 1 milli-Hartree (mHa), l'*Ansatz* du VQE doit être proche du véritable état fondamental de moins d'un sur un million.\n",
    "\n",
    " Nous allons nous intéresser aux molécules suivantes:\n",
    "$$\n",
    "\\begin{array}{|l|l|l|}\\hline\n",
    "\\text{Molécule} & \\text{Qubits} & \\text{Energie} (\\rm{Hartree}) \\\\\\hline\n",
    "H_2 & 4 & -1.137306 \\\\\\hline\n",
    "LiH & 12 & -7.882752\\\\\\hline\n",
    "O_2 &   &    \\\\\\hline\n",
    "H_2O & 14 & -75.023189 \\\\\\hline\n",
    "\\end{array}\n",
    "$$"
   ]
  },
  {
   "cell_type": "markdown",
   "metadata": {},
   "source": [
    "## Molécule H2O\n",
    "\n",
    "Ici, nous calculons en fait uniquement la partie électronique. Lors de l'utilisation du package Qiskit Nature, l'énergie de répulsion nucléaire sera ajoutée automatiquement pour obtenir l'énergie totale de l'état fondamental."
   ]
  },
  {
   "cell_type": "code",
   "execution_count": 1,
   "metadata": {},
   "outputs": [
    {
     "data": {
      "text/plain": [
       "'0.7.2'"
      ]
     },
     "execution_count": 1,
     "metadata": {},
     "output_type": "execute_result"
    }
   ],
   "source": [
    "try:\n",
    "    import qiskit_nature\n",
    "except:\n",
    "    %pip install qiskit-nature[pyscf] -U\n",
    "    import qiskit_nature\n",
    "    \n",
    "qiskit_nature.__version__"
   ]
  },
  {
   "cell_type": "markdown",
   "metadata": {},
   "source": [
    "### Structure électronique\n",
    "\n",
    "Nous allons renseigner les données de la molécule et effectuer la conversion en créant un Hamiltonien fermionique (problème électronique précisement) qui sera ensuite converti par la transformation de Jordan Wigner, à un Hamiltonien qubit prêt pour le calcul quantique. "
   ]
  },
  {
   "cell_type": "code",
   "execution_count": 2,
   "metadata": {
    "execution": {
     "iopub.execute_input": "2023-04-06T14:10:23.390660Z",
     "iopub.status.busy": "2023-04-06T14:10:23.390034Z",
     "iopub.status.idle": "2023-04-06T14:10:38.496244Z",
     "shell.execute_reply": "2023-04-06T14:10:38.494961Z",
     "shell.execute_reply.started": "2023-04-06T14:10:23.390600Z"
    },
    "tags": []
   },
   "outputs": [],
   "source": [
    "from qiskit_nature.second_q.drivers import PySCFDriver # Nous travaillons avec le driver PySCF\n",
    "\n",
    "# Renseigner la structure de la molécule \n",
    "driver = PySCFDriver(\n",
    "    atom='''H  0.6746410000 1.2911040000 3.5652750000\n",
    "    O  0.1014890000 1.9431500000 3.9777450000\n",
    "    H -0.4085620000 2.3032160000 3.2466410000''',\n",
    "    basis=\"sto-3g\",\n",
    "    charge=0,\n",
    "    spin=0,\n",
    ")\n",
    "\n",
    "# Obtenir l'Electronic structure problem\n",
    "es_problem = driver.run()\n"
   ]
  },
  {
   "cell_type": "markdown",
   "metadata": {},
   "source": [
    "### Solveur VQE\n",
    "\n",
    "Nous devons définir un solveur VQE, qui est l'algorithme par lequel l'état fondamental est calculé (voir le bloc 4 de l'illustration workflow du VQE). A cet effet, il faut trois éléments essentiels :\n",
    "  1. Une **forme variationnelle ou *ansatz***. Nous utilisons ici l'*ansatz* Unitary Coupled Cluster (UCC). La valeur par défaut est d'utiliser toutes les excitations simples et doubles. Cependant, le type d'excitation (S, D, SD) ainsi que d'autres paramètres peuvent être sélectionnés. La forme variationnelle `qiskit_nature.second_q.circuit.library.UCCSD` est préparée avec un état initial `qiskit_nature.second_q.circuit.library.HartreeFock`, qui initialise l'occupation de nos qubits en fonction du problème que nous essayons de résoudre.\n",
    "  2. Une primitive, qui sera ici `qiskit.primitives.Estimator` pour le calcul des valeurs moyennes;\n",
    "  3. Un optimiseur classique (`qiskit_algorithms.optimizers`)."
   ]
  },
  {
   "cell_type": "markdown",
   "metadata": {},
   "source": [
    "- Configurons l'*ansatz* et plus précisement, le **circuit quantique paramétré**, du VQE"
   ]
  },
  {
   "cell_type": "code",
   "execution_count": 3,
   "metadata": {
    "execution": {
     "iopub.execute_input": "2023-04-06T14:10:40.182846Z",
     "iopub.status.busy": "2023-04-06T14:10:40.181618Z",
     "iopub.status.idle": "2023-04-06T14:10:40.308546Z",
     "shell.execute_reply": "2023-04-06T14:10:40.305162Z",
     "shell.execute_reply.started": "2023-04-06T14:10:40.182796Z"
    },
    "tags": []
   },
   "outputs": [],
   "source": [
    "from qiskit_nature.second_q.circuit.library import HartreeFock, UCCSD\n",
    "from qiskit_nature.second_q.mappers import JordanWignerMapper, ParityMapper, TaperedQubitMapper\n",
    "\n",
    "mapper = ParityMapper(num_particles=es_problem.num_particles)\n",
    "# mapper = JordanWignerMapper()\n",
    "mapper = es_problem.get_tapered_mapper(mapper) # Commenter cette ligne si vous ne voulez faire la reduction Z2 des qubits\n",
    "\n",
    "HF_state = HartreeFock(\n",
    "        es_problem.num_spatial_orbitals,\n",
    "        es_problem.num_particles,\n",
    "        mapper)\n",
    "\n",
    "ansatz = UCCSD(\n",
    "    es_problem.num_spatial_orbitals,\n",
    "    es_problem.num_particles,\n",
    "    mapper,\n",
    "    initial_state = HF_state)"
   ]
  },
  {
   "cell_type": "code",
   "execution_count": 4,
   "metadata": {},
   "outputs": [
    {
     "data": {
      "image/png": "[encoded data removed]",
      "text/plain": [
       "<Figure size 274.394x953.167 with 1 Axes>"
      ]
     },
     "execution_count": 4,
     "metadata": {},
     "output_type": "execute_result"
    }
   ],
   "source": [
    "# Visualisation de l'état initial \n",
    "ansatz.initial_state.draw('mpl',initial_state=True) # Or aHF_state.draw('mpl',initial_state=True)"
   ]
  },
  {
   "cell_type": "markdown",
   "metadata": {},
   "source": [
    "- Configurons la primitive `qiskit.primitives.Estimator` du VQE. Elle calcule les valeurs moyennes des circuits d'entrée et des propriétés physiques."
   ]
  },
  {
   "cell_type": "code",
   "execution_count": 5,
   "metadata": {
    "execution": {
     "iopub.execute_input": "2023-04-06T14:10:40.314994Z",
     "iopub.status.busy": "2023-04-06T14:10:40.312642Z",
     "iopub.status.idle": "2023-04-06T14:10:40.413023Z",
     "shell.execute_reply": "2023-04-06T14:10:40.411220Z",
     "shell.execute_reply.started": "2023-04-06T14:10:40.314884Z"
    },
    "tags": []
   },
   "outputs": [],
   "source": [
    "from qiskit.primitives import Estimator\n",
    "\n",
    "estimator = Estimator()"
   ]
  },
  {
   "cell_type": "markdown",
   "metadata": {},
   "source": [
    "- Configurons l'optimisseur classique du VQE."
   ]
  },
  {
   "cell_type": "code",
   "execution_count": 6,
   "metadata": {
    "execution": {
     "iopub.execute_input": "2023-04-06T14:10:48.296714Z",
     "iopub.status.busy": "2023-04-06T14:10:48.293933Z",
     "iopub.status.idle": "2023-04-06T14:10:48.306673Z",
     "shell.execute_reply": "2023-04-06T14:10:48.305371Z",
     "shell.execute_reply.started": "2023-04-06T14:10:48.296599Z"
    },
    "tags": []
   },
   "outputs": [],
   "source": [
    "from qiskit_algorithms.optimizers import SLSQP"
   ]
  },
  {
   "cell_type": "markdown",
   "metadata": {},
   "source": [
    "- Assemblons ces composants de l'algorithme VQE dans `from qiskit_algorithms.VQE` et initialisons le solver VQE."
   ]
  },
  {
   "cell_type": "code",
   "execution_count": 7,
   "metadata": {
    "execution": {
     "iopub.execute_input": "2023-04-06T14:10:58.436155Z",
     "iopub.status.busy": "2023-04-06T14:10:58.433759Z",
     "iopub.status.idle": "2023-04-06T14:10:58.451927Z",
     "shell.execute_reply": "2023-04-06T14:10:58.449509Z",
     "shell.execute_reply.started": "2023-04-06T14:10:58.436040Z"
    },
    "tags": []
   },
   "outputs": [],
   "source": [
    "from qiskit_algorithms import VQE\n",
    "import numpy as np\n",
    "\n",
    "vqe_solver = VQE(Estimator(), ansatz, SLSQP())\n",
    "vqe_solver.initial_point = np.zeros(ansatz.num_parameters) # Initialisation with zero-qubit"
   ]
  },
  {
   "cell_type": "markdown",
   "metadata": {},
   "source": [
    "### Calcul et résultats\n",
    "\n",
    " - Préparons le solveur d'état fondamental et exécutons-le pour calculer l'état fondamental de la molécule grâce à la classe `qiskit_nature.second_q.algorithms.GroundStateEigensolver`. Il s'agit d'envelopper notre `qiskit_nature.second_q.mappers` et notre algorithme quantique `qiskit_algorithms.VQE`  dans un seul `GroundStateEigensolver`. \n",
    "\n",
    "Le workflow interne est le suivant :\n",
    "1. générer les opérateurs de seconde quantification stockés dans notre `problem`\" (Electronic Structure Problem);\n",
    "2. mapper (et potentiellement réduire) les opérateurs dans l'espace qubit;\n",
    "3. exécuter l'algorithme quantique sur l'opérateur Hamiltonien qubit;\n",
    "4. une fois le critère de convergence vérifié, évaluer les proprités physiques supplémentaires de l'état fondamental déterminé."
   ]
  },
  {
   "cell_type": "code",
   "execution_count": 8,
   "metadata": {},
   "outputs": [],
   "source": [
    "from qiskit_nature.second_q.algorithms import GroundStateEigensolver\n",
    "\n",
    "GS_VQE = GroundStateEigensolver(mapper, vqe_solver)"
   ]
  },
  {
   "cell_type": "markdown",
   "metadata": {},
   "source": [
    "* Resulat VQE"
   ]
  },
  {
   "cell_type": "code",
   "execution_count": 9,
   "metadata": {
    "execution": {
     "iopub.execute_input": "2023-04-06T14:11:09.386432Z",
     "iopub.status.busy": "2023-04-06T14:11:09.385722Z",
     "iopub.status.idle": "2023-04-06T14:11:18.121940Z",
     "shell.execute_reply": "2023-04-06T14:11:18.120906Z",
     "shell.execute_reply.started": "2023-04-06T14:11:09.386388Z"
    },
    "tags": []
   },
   "outputs": [
    {
     "name": "stdout",
     "output_type": "stream",
     "text": [
      "=== GROUND STATE ENERGY ===\n",
      " \n",
      "* Electronic ground state energy (Hartree): -84.170434162962\n",
      "  - computed part:      -84.170434162962\n",
      "~ Nuclear repulsion energy (Hartree): 9.15688145023\n",
      "> Total ground state energy (Hartree): -75.013552712733\n",
      " \n",
      "=== MEASURED OBSERVABLES ===\n",
      " \n",
      "  0:  # Particles: 10.000 S: 0.000 S^2: 0.000 M: -0.000\n",
      " \n",
      "=== DIPOLE MOMENTS ===\n",
      " \n",
      "~ Nuclear dipole moment (a.u.): [2.03710775  36.16845096  73.00744477]\n",
      " \n",
      "  0: \n",
      "  * Electronic dipole moment (a.u.): [None  None  None]\n",
      "    - computed part:      [None  None  None]\n",
      "  > Dipole moment (a.u.): [None  None  None]  Total: None\n",
      "                 (debye): [None  None  None]  Total: None\n",
      " \n"
     ]
    }
   ],
   "source": [
    "GS_res = GS_VQE.solve(es_problem)\n",
    "print(GS_res)"
   ]
  },
  {
   "cell_type": "markdown",
   "metadata": {},
   "source": [
    "### Calcul classique\n",
    "\n",
    "Le solveur purement classique `qiskit_algorithms.NumPyMinimumEigensolver` est l'algorithme diagonise exactement l'Hamiltonien. Il peut-être considéré comme équivalent à la méthode Full Configuration Interaction (FCI) et peut donc être utilisé sur de petits systèmes pour vérifier les résultats des algorithmes quantiques."
   ]
  },
  {
   "cell_type": "code",
   "execution_count": 10,
   "metadata": {},
   "outputs": [],
   "source": [
    "from qiskit_algorithms import NumPyMinimumEigensolver\n",
    "\n",
    "numpy_solver = NumPyMinimumEigensolver()"
   ]
  },
  {
   "cell_type": "code",
   "execution_count": 11,
   "metadata": {
    "execution": {
     "iopub.execute_input": "2023-04-06T14:11:29.262940Z",
     "iopub.status.busy": "2023-04-06T14:11:29.261768Z",
     "iopub.status.idle": "2023-04-06T14:11:29.455737Z",
     "shell.execute_reply": "2023-04-06T14:11:29.454772Z",
     "shell.execute_reply.started": "2023-04-06T14:11:29.262894Z"
    },
    "tags": []
   },
   "outputs": [
    {
     "name": "stdout",
     "output_type": "stream",
     "text": [
      "=== GROUND STATE ENERGY ===\n",
      " \n",
      "* Electronic ground state energy (Hartree): -84.170535650802\n",
      "  - computed part:      -84.170535650802\n",
      "~ Nuclear repulsion energy (Hartree): 9.15688145023\n",
      "> Total ground state energy (Hartree): -75.013654200573\n",
      " \n",
      "=== MEASURED OBSERVABLES ===\n",
      " \n",
      "  0:  # Particles: 10.000 S: 0.000 S^2: 0.000 M: 0.000\n",
      " \n",
      "=== DIPOLE MOMENTS ===\n",
      " \n",
      "~ Nuclear dipole moment (a.u.): [2.03710775  36.16845096  73.00744477]\n",
      " \n",
      "  0: \n",
      "  * Electronic dipole moment (a.u.): [None  None  None]\n",
      "    - computed part:      [None  None  None]\n",
      "  > Dipole moment (a.u.): [None  None  None]  Total: None\n",
      "                 (debye): [None  None  None]  Total: None\n",
      " \n"
     ]
    }
   ],
   "source": [
    "NP_calc = GroundStateEigensolver(mapper, numpy_solver)\n",
    "NP_GS_res = NP_calc.solve(es_problem)\n",
    "print(NP_GS_res)"
   ]
  },
  {
   "cell_type": "markdown",
   "metadata": {},
   "source": [
    "* Nous calculons l'erreur absolue entre les deux solvers avec le mapper \"PM\"."
   ]
  },
  {
   "cell_type": "code",
   "execution_count": 12,
   "metadata": {
    "execution": {
     "iopub.execute_input": "2023-04-06T14:11:35.034421Z",
     "iopub.status.busy": "2023-04-06T14:11:35.033877Z",
     "iopub.status.idle": "2023-04-06T14:11:35.044002Z",
     "shell.execute_reply": "2023-04-06T14:11:35.042468Z",
     "shell.execute_reply.started": "2023-04-06T14:11:35.034377Z"
    },
    "tags": []
   },
   "outputs": [
    {
     "name": "stdout",
     "output_type": "stream",
     "text": [
      "\n",
      " The absolute error is \n",
      " 5.9831 kcal/mole for Nympy calculations       \n",
      " 6.0468 kcal/mole for VQE calculations      \n",
      " 37.3958 kcal/mole for HF calculations\n"
     ]
    }
   ],
   "source": [
    "res_exp = -75.023189 # valeur expérimentale?\n",
    "au2kcalc = 627.503\n",
    "error_NP = (NP_GS_res.total_energies[0] - res_exp) * au2kcalc\n",
    "error_VQE = (GS_res.total_energies[0] - res_exp) * au2kcalc\n",
    "error_HF = (GS_res.hartree_fock_energy - res_exp) * au2kcalc\n",
    "\n",
    "print(f'\\n The absolute error is \\n {error_NP:.4f} kcal/mole for Nympy calculations \\\n",
    "      \\n {error_VQE:.4f} kcal/mole for VQE calculations\\\n",
    "      \\n {error_HF:.4f} kcal/mole for HF calculations')"
   ]
  },
  {
   "cell_type": "markdown",
   "metadata": {},
   "source": [
    "- Améliorons l'affichage des résultats pour des besoins de comparaison."
   ]
  },
  {
   "cell_type": "code",
   "execution_count": 13,
   "metadata": {},
   "outputs": [
    {
     "data": {
      "text/html": [
       "<div>\n",
       "<style scoped>\n",
       "    .dataframe tbody tr th:only-of-type {\n",
       "        vertical-align: middle;\n",
       "    }\n",
       "\n",
       "    .dataframe tbody tr th {\n",
       "        vertical-align: top;\n",
       "    }\n",
       "\n",
       "    .dataframe thead th {\n",
       "        text-align: right;\n",
       "    }\n",
       "</style>\n",
       "<table border=\"1\" class=\"dataframe\">\n",
       "  <thead>\n",
       "    <tr style=\"text-align: right;\">\n",
       "      <th></th>\n",
       "      <th>Reference</th>\n",
       "      <th>Numpy</th>\n",
       "      <th>VQE</th>\n",
       "      <th>HF</th>\n",
       "    </tr>\n",
       "  </thead>\n",
       "  <tbody>\n",
       "    <tr>\n",
       "      <th>E_tot (H)</th>\n",
       "      <td>-75.023189</td>\n",
       "      <td>-75.013654</td>\n",
       "      <td>-75.013553</td>\n",
       "      <td>-74.963594</td>\n",
       "    </tr>\n",
       "    <tr>\n",
       "      <th>Error (kcal/mol)</th>\n",
       "      <td></td>\n",
       "      <td>5.983115</td>\n",
       "      <td>6.046799</td>\n",
       "      <td>37.395834</td>\n",
       "    </tr>\n",
       "  </tbody>\n",
       "</table>\n",
       "</div>"
      ],
      "text/plain": [
       "                  Reference      Numpy        VQE         HF\n",
       "E_tot (H)        -75.023189 -75.013654 -75.013553 -74.963594\n",
       "Error (kcal/mol)              5.983115   6.046799  37.395834"
      ]
     },
     "execution_count": 13,
     "metadata": {},
     "output_type": "execute_result"
    }
   ],
   "source": [
    "import pandas as pd\n",
    "\n",
    "# Create the exact results dataframe\n",
    "dict_res = {'Reference': [res_exp, ''], \n",
    "            'Numpy': [NP_GS_res.total_energies[0], error_NP],\n",
    "            'VQE': [GS_res.total_energies[0], error_VQE],\n",
    "            'HF': [GS_res.hartree_fock_energy, error_HF]}\n",
    "df = pd.DataFrame(dict_res, index = ['E_tot (H)', 'Error (kcal/mol)'])\n",
    "\n",
    "df"
   ]
  },
  {
   "cell_type": "markdown",
   "metadata": {},
   "source": []
  }
 ],
 "metadata": {
  "jupytext": {
   "formats": "ipynb,md"
  },
  "kernelspec": {
   "display_name": "qiskit-env",
   "language": "python",
   "name": "qiskit-env"
  },
  "language_info": {
   "codemirror_mode": {
    "name": "ipython",
    "version": 3
   },
   "file_extension": ".py",
   "mimetype": "text/x-python",
   "name": "python",
   "nbconvert_exporter": "python",
   "pygments_lexer": "ipython3",
   "version": "3.10.14"
  }
 },
 "nbformat": 4,
 "nbformat_minor": 4
}
